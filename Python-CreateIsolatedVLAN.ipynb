{
 "cells": [
  {
   "cell_type": "markdown",
   "metadata": {},
   "source": [
    "## Tutorial: Create an Isolated VLAN and Servers\n",
    "\n",
    "This notebook demonstrates how to create isolated VLANs and attach servers."
   ]
  },
  {
   "cell_type": "markdown",
   "metadata": {},
   "source": [
    "## Tutorial: "
   ]
  },
  {
   "cell_type": "markdown",
   "metadata": {},
   "source": [
    "#### Configure the Environment"
   ]
  },
  {
   "cell_type": "code",
   "execution_count": null,
   "metadata": {},
   "outputs": [],
   "source": [
    "import json\n",
    "import os\n",
    "import chi\n",
    "from datetime import datetime, timedelta\n",
    "from dateutil import tz\n",
    "\n",
    "from chi.server import *\n",
    "from chi.lease import *\n",
    "from chi.network import *\n",
    "\n",
    "#Config with your project and site\n",
    "chi.use_site('CHI@UC')\n",
    "chi.set('project_name', 'CH-822154')\n",
    "\n",
    "#Insert keypair name\n",
    "key_name = 'my_chameleon_key'  # Change to your keypair\n",
    "\n",
    "# Tip: Name resources with your username for easier identification\n",
    "username = os.getenv(\"USER\")\n",
    "server_name = username+'Server'\n",
    "network_name = username+'Net'\n",
    "subnet_name = username+'Subnet'\n",
    "router_name = username+'Router'\n",
    "lease_name = username+'Lease2'\n",
    "\n",
    "#Server attributes\n",
    "image_name='CC-CentOS7'\n",
    "flavor_name='baremetal'\n",
    "node_type=\"compute_haswell\"\n",
    "server_count=1\n",
    "physical_network=\"physnet1\"\n",
    "BLAZAR_TIME_FORMAT = '%Y-%m-%d %H:%M'\n",
    "DEFAULT_CIDR = '192.168.1.0/24'"
   ]
  },
  {
   "cell_type": "markdown",
   "metadata": {},
   "source": [
    "#### Create a Lease"
   ]
  },
  {
   "cell_type": "code",
   "execution_count": null,
   "metadata": {},
   "outputs": [],
   "source": [
    "# Set start/end date for lease\n",
    "# Start one minute into future to avoid Blazar thinking lease is in past\n",
    "# due to rounding to closest minute.\n",
    "start_date = (datetime.now(tz=tz.tzutc()) + timedelta(minutes=1)).strftime(BLAZAR_TIME_FORMAT)\n",
    "end_date   = (datetime.now(tz=tz.tzutc()) + timedelta(days=1)).strftime(BLAZAR_TIME_FORMAT)\n",
    "\n",
    "# Build list of reservations (in this case there is only one reservation)\n",
    "reservation_list = []\n",
    "add_node_reservation(reservation_list, count=server_count, node_type=node_type)\n",
    "add_fip_reservation(reservation_list, count=1)\n",
    "\n",
    "# Create the lease\n",
    "chi.blazar().lease.create(name=lease_name, \n",
    "                            start=start_date,\n",
    "                            end=end_date,\n",
    "                            reservations=reservation_list, events=[])"
   ]
  },
  {
   "cell_type": "code",
   "execution_count": null,
   "metadata": {},
   "outputs": [],
   "source": [
    "#Get the lease by name\n",
    "lease_id = get_lease_id(lease_name)\n",
    "lease = get_lease(lease_id)\n",
    "    \n",
    "#Print the lease info\n",
    "print(json.dumps(lease, indent=2))"
   ]
  },
  {
   "cell_type": "markdown",
   "metadata": {},
   "source": [
    "#### Get the Reservations"
   ]
  },
  {
   "cell_type": "code",
   "execution_count": null,
   "metadata": {},
   "outputs": [],
   "source": [
    "compute_reservation_id = list(filter(lambda reservation: reservation['resource_type'] == 'physical:host', lease['reservations']))[0]['id']\n",
    "floatingip_reservation_id = list(filter(lambda reservation: reservation['resource_type'] == 'virtual:floatingip', lease['reservations']))[0]['id']\n",
    "\n",
    "print(\"compute_reservation_id: \" + compute_reservation_id)\n",
    "print(\"floatingip_reservation_id: \" + floatingip_reservation_id)"
   ]
  },
  {
   "cell_type": "markdown",
   "metadata": {},
   "source": [
    "#### Create the Network"
   ]
  },
  {
   "cell_type": "code",
   "execution_count": null,
   "metadata": {},
   "outputs": [],
   "source": [
    "# Create a network out of provider network physnet1\n",
    "create_network(network_name, provider='physnet1')"
   ]
  },
  {
   "cell_type": "code",
   "execution_count": null,
   "metadata": {},
   "outputs": [],
   "source": [
    "network = get_network(network_name)\n",
    "network_id = network['id']\n",
    "\n",
    "print('Network ID: ' + str(network_id))"
   ]
  },
  {
   "cell_type": "markdown",
   "metadata": {},
   "source": [
    "#### Configure the Network"
   ]
  },
  {
   "cell_type": "code",
   "execution_count": null,
   "metadata": {},
   "outputs": [],
   "source": [
    "subnet = create_subnet(subnet_name, network_id, cidr=DEFAULT_CIDR, gateway_ip=None)\n",
    "router = create_router(router_name, gw_network_name='public')\n",
    "add_subnet_to_router(router['id'], subnet['id'])"
   ]
  },
  {
   "cell_type": "markdown",
   "metadata": {},
   "source": [
    "#### Start the Server"
   ]
  },
  {
   "cell_type": "code",
   "execution_count": null,
   "metadata": {},
   "outputs": [],
   "source": [
    "#create the server\n",
    "server = create_server(server_name, \n",
    "                       compute_reservation_id, \n",
    "                       key_name=key_name, \n",
    "                       network_id=network_id, \n",
    "                       network_name=network_name, \n",
    "                       nics=[], \n",
    "                       image_id=None, \n",
    "                       image_name=image_name, \n",
    "                       flavor_id=None, \n",
    "                       flavor_name=flavor_name, \n",
    "                       count=1)\n",
    "server_id = get_server_id(server_name)"
   ]
  },
  {
   "cell_type": "markdown",
   "metadata": {},
   "source": [
    "#### Associate the Floating IP   (TODO: need to find floating_ip from the reservation that was just made)"
   ]
  },
  {
   "cell_type": "code",
   "execution_count": null,
   "metadata": {},
   "outputs": [],
   "source": [
    "floating_ip = associate_floating_ip(server_id)\n",
    "\n",
    "print('Floating IP: ' + str(floating_ip))"
   ]
  },
  {
   "cell_type": "markdown",
   "metadata": {},
   "source": [
    "#### Delete Server"
   ]
  },
  {
   "cell_type": "code",
   "execution_count": null,
   "metadata": {},
   "outputs": [],
   "source": [
    "delete_server(server_id)"
   ]
  },
  {
   "cell_type": "markdown",
   "metadata": {},
   "source": [
    "#### De-configure Network"
   ]
  },
  {
   "cell_type": "code",
   "execution_count": null,
   "metadata": {},
   "outputs": [],
   "source": [
    "try:\n",
    "    result = remove_subnet_from_router(router['id'], subnet['id'])\n",
    "except Exception as e:\n",
    "    print(\"remove_subnet_from_router error: \" + str(e))\n",
    "    pass\n",
    "\n",
    "try:\n",
    "    result = delete_router(router['id'])\n",
    "except Exception as e:\n",
    "    print(\"delete_router error: \" + str(e))\n",
    "    pass\n",
    "\n",
    "try:\n",
    "    result = delete_subnet(subnet['id'])\n",
    "except Exception as e:\n",
    "    print(\"delete_subnet error: \" + str(e))\n",
    "    pass\n",
    "\n",
    "try:\n",
    "    result = delete_network(network_id)\n",
    "except Exception as e:\n",
    "    print(\"delete_network error: \" + str(e))\n",
    "    pass"
   ]
  },
  {
   "cell_type": "markdown",
   "metadata": {},
   "source": [
    "#### Release Lease"
   ]
  },
  {
   "cell_type": "code",
   "execution_count": null,
   "metadata": {},
   "outputs": [],
   "source": [
    "delete_lease(lease_id)"
   ]
  }
 ],
 "metadata": {
  "kernelspec": {
   "display_name": "Python 3",
   "language": "python",
   "name": "python3"
  },
  "language_info": {
   "codemirror_mode": {
    "name": "ipython",
    "version": 3
   },
   "file_extension": ".py",
   "mimetype": "text/x-python",
   "name": "python",
   "nbconvert_exporter": "python",
   "pygments_lexer": "ipython3",
   "version": "3.8.3"
  }
 },
 "nbformat": 4,
 "nbformat_minor": 4
}
