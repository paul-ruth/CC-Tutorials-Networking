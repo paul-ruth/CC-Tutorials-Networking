{
 "cells": [
  {
   "cell_type": "markdown",
   "metadata": {},
   "source": [
    "<div class=\"alert alert-info\">\n",
    "\n",
    "**Note:**    WARNING: This notebook uses a new, early release Chameleon python API. The notebook and API will likely be updated without notice. To request a new python feature, please create a help desk ticket. \n",
    "    \n",
    "\n",
    "</div>\n",
    "\n",
    "## Stitching Networks between Chameleon and an ExoGENI Stitchport\n",
    "\n",
    "An example that can be used to stitch to an ExoGENI Stitchport\n",
    "\n",
    "#### Modules \n",
    "\n",
    "- [Reserve Mulitple Resources](../modules-python/reservations/reserve_multiple_resources.ipynb)\n",
    "- [Get Lease by Name](../modules-python/reservations/get_lease_by_name.ipynb)\n",
    "- [Get Reservation](../modules-python/reservations/get_reservations_from_lease.ipynb)\n",
    "- [Create Server](../modules-python/servers/create_server.ipynb)\n",
    "- [Delete Server](../modules-python/servers/delete_server.ipynb)\n",
    "- [Create Network](../modules-python/network/create_network.ipynb)\n",
    "- [Delete Network](../modules-python/network/delete_network.ipynb)\n",
    "- [Create Subnet](../modules-python/network/create_subnet.ipynb)\n",
    "- [Delete Subnet](../modules-python/network/delete_subnet.ipynb)\n",
    "- [Get Network by Name](../modules-python/network/get_network_by_name.ipynb)\n",
    "\n",
    "TODO: add the rest of the module links when they are ready\n",
    "\n",
    "#### Import Library\n",
    "\n",
    "```\n",
    "import chi\n",
    "from chi.server_api_examples import *\n",
    "from chi.reservation_api_examples import *\n",
    "from chi.networking_api_examples import *\n",
    "```\n",
    "\n",
    "\n"
   ]
  },
  {
   "cell_type": "markdown",
   "metadata": {},
   "source": [
    "## Tutorial: "
   ]
  },
  {
   "cell_type": "markdown",
   "metadata": {},
   "source": [
    "#### Configure the Environment\n",
    "\n",
    "Import the chi example API calls, set the project name and region, and set various names and attributes to use in the tutorial. "
   ]
  },
  {
   "cell_type": "code",
   "execution_count": 4,
   "metadata": {},
   "outputs": [],
   "source": [
    "import json\n",
    "import os\n",
    "import chi\n",
    "\n",
    "from chi.server import *\n",
    "from chi.lease import *\n",
    "from chi.network import *\n",
    "\n",
    "from datetime import datetime, timedelta\n",
    "from dateutil import tz\n",
    "\n",
    "BLAZAR_TIME_FORMAT = '%Y-%m-%d %H:%M'\n",
    "\n",
    "#Config with your project\n",
    "#chi.set('project_name', 'ExoGENI@Chameleon') # Replace with your project name\n",
    "chi.set('project_name', 'CH-822154')\n",
    "\n",
    "#Insert keypair name\n",
    "key_name = 'my_chameleon_key'  # Change to your keypair\n",
    "\n",
    "#GENI Pem file\n",
    "geni_pem_file='/home/pruth/work/geni-mwhicks01.pem'\n",
    "\n",
    "# Tip: Name resources with your username for easier identification\n",
    "username = os.getenv(\"USER\")\n",
    "server_name = username+'Server'\n",
    "network_name = username+'Net'\n",
    "stitched_network_name = network_name+\"Stitched\"\n",
    "subnet_name = username+'subnet'\n",
    "router_name = username+'Router'\n",
    "lease_name_network = username+'LeaseNet'\n",
    "lease_name_servers = username+'LeaseServers'\n",
    "lease_name_stitch = username+'LeaseStitch'\n",
    "\n",
    "\n",
    "#Server Config\n",
    "image_name='CC-CentOS7'\n",
    "flavor_name='baremetal'\n",
    "node_type=\"compute_haswell\"\n",
    "server_count=2\n",
    "\n",
    "#Network Config\n",
    "cidr='192.168.42.0/24'\n",
    "\n",
    "#optionally set the OpenFlow controller (set ot None for non-OpenFlow swtich)\n",
    "#of_controller_ip=None\n",
    "of_controller_ip=\"192.5.87.215\"\n",
    "of_controller_port=\"6653\"\n",
    "\n",
    "\n",
    "#Set the name of the VFC\n",
    "vswitch_name=username+\"SDN\"\n",
    "\n",
    "#Stitchport URL\n",
    "stitchport_url='http://geni-orca.renci.org/owl/ion.rdf#AL2S/Chameleon/Cisco/6509/GigabitEthernet/1/2'\n",
    "stitchport_vlan='3280'"
   ]
  },
  {
   "cell_type": "markdown",
   "metadata": {},
   "source": [
    "## Create the Network (OpenFlow Optional)"
   ]
  },
  {
   "cell_type": "markdown",
   "metadata": {},
   "source": [
    "#### Create a Lease at Chicago"
   ]
  },
  {
   "cell_type": "code",
   "execution_count": 6,
   "metadata": {},
   "outputs": [],
   "source": [
    "#Set the region\n",
    "chi.use_site('CHI@UC')    # Optional, defaults to 'CHI@UC'\n",
    "\n",
    "# Set start/end date for lease\n",
    "# Start one minute into future to avoid Blazar thinking lease is in past\n",
    "# due to rounding to closest minute.\n",
    "start_date = (datetime.now(tz=tz.tzutc()) + timedelta(minutes=1)).strftime(BLAZAR_TIME_FORMAT)\n",
    "end_date   = (datetime.now(tz=tz.tzutc()) + timedelta(days=1)).strftime(BLAZAR_TIME_FORMAT)\n",
    "\n",
    "\n",
    "# Build list of reservations (in this case there is only one reservation)\n",
    "reservation_list = []\n",
    "\n",
    "if of_controller_ip:\n",
    "    print(\"OpenFlow\")\n",
    "    create_network(network_name, of_controller_ip=of_controller_ip, of_controller_port=of_controller_port, vswitch_name=vswitch_name,\n",
    "                provider='physnet1', port_security_enabled=True)\n",
    "else:\n",
    "    print(\"No OpenFlow\")\n",
    "    create_network(network_name, vswitch_name=vswitch_name,\n",
    "                provider='physnet1', port_security_enabled=True)"
   ]
  },
  {
   "cell_type": "code",
   "execution_count": 8,
   "metadata": {},
   "outputs": [
    {
     "name": "stdout",
     "output_type": "stream",
     "text": [
      "{\n",
      "  \"provider:physical_network\": \"physnet1\",\n",
      "  \"ipv6_address_scope\": null,\n",
      "  \"revision_number\": 1,\n",
      "  \"port_security_enabled\": true,\n",
      "  \"provider:network_type\": \"vlan\",\n",
      "  \"id\": \"16796f29-6b8d-44e9-8861-27bdd1459962\",\n",
      "  \"router:external\": false,\n",
      "  \"availability_zone_hints\": [],\n",
      "  \"availability_zones\": [],\n",
      "  \"ipv4_address_scope\": null,\n",
      "  \"shared\": false,\n",
      "  \"project_id\": \"ae76673270164b048b59d3bd30676721\",\n",
      "  \"status\": \"ACTIVE\",\n",
      "  \"subnets\": [],\n",
      "  \"description\": \"OFController=192.5.87.215:6653,VSwitchName=mwhicks2SDN\",\n",
      "  \"tags\": [],\n",
      "  \"updated_at\": \"2021-03-17T20:29:06Z\",\n",
      "  \"provider:segmentation_id\": 3266,\n",
      "  \"name\": \"mwhicks2Net\",\n",
      "  \"admin_state_up\": true,\n",
      "  \"tenant_id\": \"ae76673270164b048b59d3bd30676721\",\n",
      "  \"created_at\": \"2021-03-17T20:29:06Z\",\n",
      "  \"mtu\": 1500\n",
      "}\n"
     ]
    }
   ],
   "source": [
    "#Get the network by name\n",
    "network = get_network(network_name)\n",
    "    \n",
    "#Print the lease info\n",
    "print(json.dumps(network, indent=2))"
   ]
  },
  {
   "cell_type": "markdown",
   "metadata": {},
   "source": [
    "#### Get the Nework Reservation\n",
    "\n",
    "Each lease contains one or more reservations. The individual reservation IDs are required to instantiate resources. You can [get the lease](../modules-python/reservations/get_lease_by_name.ipynb) and separate the reservation IDs for compute, network, and floating IPs using the technique below."
   ]
  },
  {
   "cell_type": "code",
   "execution_count": 13,
   "metadata": {},
   "outputs": [
    {
     "name": "stdout",
     "output_type": "stream",
     "text": [
      "Network ID: 16796f29-6b8d-44e9-8861-27bdd1459962\n",
      "network_vlan: 3266\n"
     ]
    }
   ],
   "source": [
    "#Get the network ID\n",
    "network_id = network['id']\n",
    "print('Network ID: ' + str(network_id))\n",
    "\n",
    "#Get the VLAN tag (needed for ExoGENI stitching)\n",
    "network_vlan = network['provider:segmentation_id']\n",
    "print('network_vlan: ' + str(network_vlan))"
   ]
  },
  {
   "cell_type": "markdown",
   "metadata": {},
   "source": [
    "#### Add a subnet\n",
    "\n",
    "[Adds a subnet](../modules-python/network/add_subnet.ipynb) to the reserved network. "
   ]
  },
  {
   "cell_type": "code",
   "execution_count": 17,
   "metadata": {},
   "outputs": [
    {
     "name": "stdout",
     "output_type": "stream",
     "text": [
      "{\n",
      "  \"service_types\": [],\n",
      "  \"description\": \"\",\n",
      "  \"enable_dhcp\": true,\n",
      "  \"tags\": [],\n",
      "  \"network_id\": \"16796f29-6b8d-44e9-8861-27bdd1459962\",\n",
      "  \"tenant_id\": \"ae76673270164b048b59d3bd30676721\",\n",
      "  \"created_at\": \"2021-03-17T20:34:55Z\",\n",
      "  \"dns_nameservers\": [],\n",
      "  \"updated_at\": \"2021-03-17T20:34:55Z\",\n",
      "  \"gateway_ip\": \"192.168.42.1\",\n",
      "  \"ipv6_ra_mode\": null,\n",
      "  \"allocation_pools\": [\n",
      "    {\n",
      "      \"start\": \"192.168.42.2\",\n",
      "      \"end\": \"192.168.42.254\"\n",
      "    }\n",
      "  ],\n",
      "  \"host_routes\": [],\n",
      "  \"revision_number\": 0,\n",
      "  \"ip_version\": 4,\n",
      "  \"ipv6_address_mode\": null,\n",
      "  \"cidr\": \"192.168.42.0/24\",\n",
      "  \"project_id\": \"ae76673270164b048b59d3bd30676721\",\n",
      "  \"id\": \"e287ca82-cf78-4aa8-96a4-d301de7f39c0\",\n",
      "  \"subnetpool_id\": null,\n",
      "  \"name\": \"mwhicks2subnet\"\n",
      "}\n"
     ]
    }
   ],
   "source": [
    "subnet = create_subnet(subnet_name, network_id, cidr=cidr, gateway_ip=None)\n",
    "\n",
    "print(json.dumps(subnet, indent=2))"
   ]
  },
  {
   "cell_type": "markdown",
   "metadata": {},
   "source": [
    "#### Add a Router\n",
    "\n",
    "TODO: add links here"
   ]
  },
  {
   "cell_type": "code",
   "execution_count": 18,
   "metadata": {},
   "outputs": [
    {
     "name": "stdout",
     "output_type": "stream",
     "text": [
      "{\n",
      "  \"status\": \"ACTIVE\",\n",
      "  \"external_gateway_info\": {\n",
      "    \"network_id\": \"44b38c44-2a42-4b6d-b129-6c8f1b2a1375\",\n",
      "    \"enable_snat\": true,\n",
      "    \"external_fixed_ips\": [\n",
      "      {\n",
      "        \"subnet_id\": \"c3950603-9e04-4cc5-be8d-1efbfe59fc0a\",\n",
      "        \"ip_address\": \"192.5.87.37\"\n",
      "      }\n",
      "    ]\n",
      "  },\n",
      "  \"availability_zone_hints\": [],\n",
      "  \"availability_zones\": [],\n",
      "  \"description\": \"\",\n",
      "  \"tags\": [],\n",
      "  \"tenant_id\": \"ae76673270164b048b59d3bd30676721\",\n",
      "  \"created_at\": \"2021-03-17T20:35:20Z\",\n",
      "  \"admin_state_up\": true,\n",
      "  \"updated_at\": \"2021-03-17T20:35:21Z\",\n",
      "  \"flavor_id\": null,\n",
      "  \"revision_number\": 3,\n",
      "  \"routes\": [],\n",
      "  \"project_id\": \"ae76673270164b048b59d3bd30676721\",\n",
      "  \"id\": \"6dea426f-6e24-461b-bde3-84641e791108\",\n",
      "  \"name\": \"mwhicks2Router\"\n",
      "}\n"
     ]
    }
   ],
   "source": [
    "router = create_router(router_name, gw_network_name='public')\n",
    "\n",
    "print(json.dumps(router, indent=2))"
   ]
  },
  {
   "cell_type": "markdown",
   "metadata": {},
   "source": [
    "#### Attach the Router and Subnet\n",
    "\n",
    "TODO: Add links here"
   ]
  },
  {
   "cell_type": "code",
   "execution_count": null,
   "metadata": {},
   "outputs": [],
   "source": [
    "add_subnet_to_router_by_name(router_name, subnet_name)"
   ]
  },
  {
   "cell_type": "markdown",
   "metadata": {},
   "source": [
    "#### Add a Circuit Stitched to ExoGENI"
   ]
  },
  {
   "cell_type": "code",
   "execution_count": 20,
   "metadata": {},
   "outputs": [
    {
     "ename": "Unauthorized",
     "evalue": "The request you have made requires authentication. (HTTP 401) (Request-ID: req-0d2c4462-abd0-4f55-ab31-977adc7f8c56)",
     "output_type": "error",
     "traceback": [
      "\u001b[0;31m---------------------------------------------------------------------------\u001b[0m",
      "\u001b[0;31mUnauthorized\u001b[0m                              Traceback (most recent call last)",
      "\u001b[0;32m<ipython-input-20-1a8838e1f1f6>\u001b[0m in \u001b[0;36m<module>\u001b[0;34m\u001b[0m\n\u001b[1;32m      8\u001b[0m \u001b[0;34m\u001b[0m\u001b[0m\n\u001b[1;32m      9\u001b[0m \u001b[0;31m# Build list of reservations (in this case there is only one reservation)\u001b[0m\u001b[0;34m\u001b[0m\u001b[0;34m\u001b[0m\u001b[0;34m\u001b[0m\u001b[0m\n\u001b[0;32m---> 10\u001b[0;31m create_network(stitched_network_name, vswitch_name=vswitch_name,\n\u001b[0m\u001b[1;32m     11\u001b[0m                 provider='exogeni', port_security_enabled=True)\n\u001b[1;32m     12\u001b[0m \u001b[0;34m\u001b[0m\u001b[0m\n",
      "\u001b[0;32m/opt/conda/lib/python3.8/site-packages/chi/network.py\u001b[0m in \u001b[0;36mcreate_network\u001b[0;34m(network_name, of_controller_ip, of_controller_port, vswitch_name, provider, port_security_enabled)\u001b[0m\n\u001b[1;32m    146\u001b[0m         \u001b[0mdesc_parts\u001b[0m\u001b[0;34m.\u001b[0m\u001b[0mappend\u001b[0m\u001b[0;34m(\u001b[0m\u001b[0;34mf'VSwitchName={vswitch_name}'\u001b[0m\u001b[0;34m)\u001b[0m\u001b[0;34m\u001b[0m\u001b[0;34m\u001b[0m\u001b[0m\n\u001b[1;32m    147\u001b[0m \u001b[0;34m\u001b[0m\u001b[0m\n\u001b[0;32m--> 148\u001b[0;31m     network = neutron().create_network(body={\n\u001b[0m\u001b[1;32m    149\u001b[0m         'network': {\n\u001b[1;32m    150\u001b[0m             \u001b[0;34m'name'\u001b[0m\u001b[0;34m:\u001b[0m \u001b[0mnetwork_name\u001b[0m\u001b[0;34m,\u001b[0m\u001b[0;34m\u001b[0m\u001b[0;34m\u001b[0m\u001b[0m\n",
      "\u001b[0;32m/opt/conda/lib/python3.8/site-packages/neutronclient/v2_0/client.py\u001b[0m in \u001b[0;36mcreate_network\u001b[0;34m(self, body)\u001b[0m\n\u001b[1;32m    851\u001b[0m     \u001b[0;32mdef\u001b[0m \u001b[0mcreate_network\u001b[0m\u001b[0;34m(\u001b[0m\u001b[0mself\u001b[0m\u001b[0;34m,\u001b[0m \u001b[0mbody\u001b[0m\u001b[0;34m=\u001b[0m\u001b[0;32mNone\u001b[0m\u001b[0;34m)\u001b[0m\u001b[0;34m:\u001b[0m\u001b[0;34m\u001b[0m\u001b[0;34m\u001b[0m\u001b[0m\n\u001b[1;32m    852\u001b[0m         \u001b[0;34m\"\"\"Creates a new network.\"\"\"\u001b[0m\u001b[0;34m\u001b[0m\u001b[0;34m\u001b[0m\u001b[0m\n\u001b[0;32m--> 853\u001b[0;31m         \u001b[0;32mreturn\u001b[0m \u001b[0mself\u001b[0m\u001b[0;34m.\u001b[0m\u001b[0mpost\u001b[0m\u001b[0;34m(\u001b[0m\u001b[0mself\u001b[0m\u001b[0;34m.\u001b[0m\u001b[0mnetworks_path\u001b[0m\u001b[0;34m,\u001b[0m \u001b[0mbody\u001b[0m\u001b[0;34m=\u001b[0m\u001b[0mbody\u001b[0m\u001b[0;34m)\u001b[0m\u001b[0;34m\u001b[0m\u001b[0;34m\u001b[0m\u001b[0m\n\u001b[0m\u001b[1;32m    854\u001b[0m \u001b[0;34m\u001b[0m\u001b[0m\n\u001b[1;32m    855\u001b[0m     \u001b[0;32mdef\u001b[0m \u001b[0mupdate_network\u001b[0m\u001b[0;34m(\u001b[0m\u001b[0mself\u001b[0m\u001b[0;34m,\u001b[0m \u001b[0mnetwork\u001b[0m\u001b[0;34m,\u001b[0m \u001b[0mbody\u001b[0m\u001b[0;34m=\u001b[0m\u001b[0;32mNone\u001b[0m\u001b[0;34m,\u001b[0m \u001b[0mrevision_number\u001b[0m\u001b[0;34m=\u001b[0m\u001b[0;32mNone\u001b[0m\u001b[0;34m)\u001b[0m\u001b[0;34m:\u001b[0m\u001b[0;34m\u001b[0m\u001b[0;34m\u001b[0m\u001b[0m\n",
      "\u001b[0;32m/opt/conda/lib/python3.8/site-packages/neutronclient/v2_0/client.py\u001b[0m in \u001b[0;36mpost\u001b[0;34m(self, action, body, headers, params)\u001b[0m\n\u001b[1;32m    355\u001b[0m     \u001b[0;32mdef\u001b[0m \u001b[0mpost\u001b[0m\u001b[0;34m(\u001b[0m\u001b[0mself\u001b[0m\u001b[0;34m,\u001b[0m \u001b[0maction\u001b[0m\u001b[0;34m,\u001b[0m \u001b[0mbody\u001b[0m\u001b[0;34m=\u001b[0m\u001b[0;32mNone\u001b[0m\u001b[0;34m,\u001b[0m \u001b[0mheaders\u001b[0m\u001b[0;34m=\u001b[0m\u001b[0;32mNone\u001b[0m\u001b[0;34m,\u001b[0m \u001b[0mparams\u001b[0m\u001b[0;34m=\u001b[0m\u001b[0;32mNone\u001b[0m\u001b[0;34m)\u001b[0m\u001b[0;34m:\u001b[0m\u001b[0;34m\u001b[0m\u001b[0;34m\u001b[0m\u001b[0m\n\u001b[1;32m    356\u001b[0m         \u001b[0;31m# Do not retry POST requests to avoid the orphan objects problem.\u001b[0m\u001b[0;34m\u001b[0m\u001b[0;34m\u001b[0m\u001b[0;34m\u001b[0m\u001b[0m\n\u001b[0;32m--> 357\u001b[0;31m         return self.do_request(\"POST\", action, body=body,\n\u001b[0m\u001b[1;32m    358\u001b[0m                                headers=headers, params=params)\n\u001b[1;32m    359\u001b[0m \u001b[0;34m\u001b[0m\u001b[0m\n",
      "\u001b[0;32m/opt/conda/lib/python3.8/site-packages/neutronclient/v2_0/client.py\u001b[0m in \u001b[0;36mdo_request\u001b[0;34m(self, method, action, body, headers, params)\u001b[0m\n\u001b[1;32m    278\u001b[0m             \u001b[0mbody\u001b[0m \u001b[0;34m=\u001b[0m \u001b[0mself\u001b[0m\u001b[0;34m.\u001b[0m\u001b[0mserialize\u001b[0m\u001b[0;34m(\u001b[0m\u001b[0mbody\u001b[0m\u001b[0;34m)\u001b[0m\u001b[0;34m\u001b[0m\u001b[0;34m\u001b[0m\u001b[0m\n\u001b[1;32m    279\u001b[0m \u001b[0;34m\u001b[0m\u001b[0m\n\u001b[0;32m--> 280\u001b[0;31m         resp, replybody = self.httpclient.do_request(action, method, body=body,\n\u001b[0m\u001b[1;32m    281\u001b[0m                                                      headers=headers)\n\u001b[1;32m    282\u001b[0m \u001b[0;34m\u001b[0m\u001b[0m\n",
      "\u001b[0;32m/opt/conda/lib/python3.8/site-packages/neutronclient/client.py\u001b[0m in \u001b[0;36mdo_request\u001b[0;34m(self, url, method, **kwargs)\u001b[0m\n\u001b[1;32m    337\u001b[0m     \u001b[0;32mdef\u001b[0m \u001b[0mdo_request\u001b[0m\u001b[0;34m(\u001b[0m\u001b[0mself\u001b[0m\u001b[0;34m,\u001b[0m \u001b[0murl\u001b[0m\u001b[0;34m,\u001b[0m \u001b[0mmethod\u001b[0m\u001b[0;34m,\u001b[0m \u001b[0;34m**\u001b[0m\u001b[0mkwargs\u001b[0m\u001b[0;34m)\u001b[0m\u001b[0;34m:\u001b[0m\u001b[0;34m\u001b[0m\u001b[0;34m\u001b[0m\u001b[0m\n\u001b[1;32m    338\u001b[0m         \u001b[0mkwargs\u001b[0m\u001b[0;34m.\u001b[0m\u001b[0msetdefault\u001b[0m\u001b[0;34m(\u001b[0m\u001b[0;34m'authenticated'\u001b[0m\u001b[0;34m,\u001b[0m \u001b[0;32mTrue\u001b[0m\u001b[0;34m)\u001b[0m\u001b[0;34m\u001b[0m\u001b[0;34m\u001b[0m\u001b[0m\n\u001b[0;32m--> 339\u001b[0;31m         \u001b[0mself\u001b[0m\u001b[0;34m.\u001b[0m\u001b[0m_check_uri_length\u001b[0m\u001b[0;34m(\u001b[0m\u001b[0murl\u001b[0m\u001b[0;34m)\u001b[0m\u001b[0;34m\u001b[0m\u001b[0;34m\u001b[0m\u001b[0m\n\u001b[0m\u001b[1;32m    340\u001b[0m         \u001b[0;32mreturn\u001b[0m \u001b[0mself\u001b[0m\u001b[0;34m.\u001b[0m\u001b[0mrequest\u001b[0m\u001b[0;34m(\u001b[0m\u001b[0murl\u001b[0m\u001b[0;34m,\u001b[0m \u001b[0mmethod\u001b[0m\u001b[0;34m,\u001b[0m \u001b[0;34m**\u001b[0m\u001b[0mkwargs\u001b[0m\u001b[0;34m)\u001b[0m\u001b[0;34m\u001b[0m\u001b[0;34m\u001b[0m\u001b[0m\n\u001b[1;32m    341\u001b[0m \u001b[0;34m\u001b[0m\u001b[0m\n",
      "\u001b[0;32m/opt/conda/lib/python3.8/site-packages/neutronclient/client.py\u001b[0m in \u001b[0;36m_check_uri_length\u001b[0;34m(self, url)\u001b[0m\n\u001b[1;32m    330\u001b[0m \u001b[0;34m\u001b[0m\u001b[0m\n\u001b[1;32m    331\u001b[0m     \u001b[0;32mdef\u001b[0m \u001b[0m_check_uri_length\u001b[0m\u001b[0;34m(\u001b[0m\u001b[0mself\u001b[0m\u001b[0;34m,\u001b[0m \u001b[0murl\u001b[0m\u001b[0;34m)\u001b[0m\u001b[0;34m:\u001b[0m\u001b[0;34m\u001b[0m\u001b[0;34m\u001b[0m\u001b[0m\n\u001b[0;32m--> 332\u001b[0;31m         \u001b[0muri_len\u001b[0m \u001b[0;34m=\u001b[0m \u001b[0mlen\u001b[0m\u001b[0;34m(\u001b[0m\u001b[0mself\u001b[0m\u001b[0;34m.\u001b[0m\u001b[0mendpoint_url\u001b[0m\u001b[0;34m)\u001b[0m \u001b[0;34m+\u001b[0m \u001b[0mlen\u001b[0m\u001b[0;34m(\u001b[0m\u001b[0murl\u001b[0m\u001b[0;34m)\u001b[0m\u001b[0;34m\u001b[0m\u001b[0;34m\u001b[0m\u001b[0m\n\u001b[0m\u001b[1;32m    333\u001b[0m         \u001b[0;32mif\u001b[0m \u001b[0muri_len\u001b[0m \u001b[0;34m>\u001b[0m \u001b[0mMAX_URI_LEN\u001b[0m\u001b[0;34m:\u001b[0m\u001b[0;34m\u001b[0m\u001b[0;34m\u001b[0m\u001b[0m\n\u001b[1;32m    334\u001b[0m             raise exceptions.RequestURITooLong(\n",
      "\u001b[0;32m/opt/conda/lib/python3.8/site-packages/neutronclient/client.py\u001b[0m in \u001b[0;36mendpoint_url\u001b[0;34m(self)\u001b[0m\n\u001b[1;32m    344\u001b[0m         \u001b[0;31m# NOTE(jamielennox): This is used purely by the CLI and should be\u001b[0m\u001b[0;34m\u001b[0m\u001b[0;34m\u001b[0m\u001b[0;34m\u001b[0m\u001b[0m\n\u001b[1;32m    345\u001b[0m         \u001b[0;31m# removed when the CLI gets smarter.\u001b[0m\u001b[0;34m\u001b[0m\u001b[0;34m\u001b[0m\u001b[0;34m\u001b[0m\u001b[0m\n\u001b[0;32m--> 346\u001b[0;31m         \u001b[0;32mreturn\u001b[0m \u001b[0mself\u001b[0m\u001b[0;34m.\u001b[0m\u001b[0mget_endpoint\u001b[0m\u001b[0;34m(\u001b[0m\u001b[0;34m)\u001b[0m\u001b[0;34m\u001b[0m\u001b[0;34m\u001b[0m\u001b[0m\n\u001b[0m\u001b[1;32m    347\u001b[0m \u001b[0;34m\u001b[0m\u001b[0m\n\u001b[1;32m    348\u001b[0m     \u001b[0;34m@\u001b[0m\u001b[0mproperty\u001b[0m\u001b[0;34m\u001b[0m\u001b[0;34m\u001b[0m\u001b[0m\n",
      "\u001b[0;32m/opt/conda/lib/python3.8/site-packages/keystoneauth1/adapter.py\u001b[0m in \u001b[0;36mget_endpoint\u001b[0;34m(self, auth, **kwargs)\u001b[0m\n\u001b[1;32m    289\u001b[0m \u001b[0;34m\u001b[0m\u001b[0m\n\u001b[1;32m    290\u001b[0m         \u001b[0mself\u001b[0m\u001b[0;34m.\u001b[0m\u001b[0m_set_endpoint_filter_kwargs\u001b[0m\u001b[0;34m(\u001b[0m\u001b[0mkwargs\u001b[0m\u001b[0;34m)\u001b[0m\u001b[0;34m\u001b[0m\u001b[0;34m\u001b[0m\u001b[0m\n\u001b[0;32m--> 291\u001b[0;31m         \u001b[0;32mreturn\u001b[0m \u001b[0mself\u001b[0m\u001b[0;34m.\u001b[0m\u001b[0msession\u001b[0m\u001b[0;34m.\u001b[0m\u001b[0mget_endpoint\u001b[0m\u001b[0;34m(\u001b[0m\u001b[0mauth\u001b[0m \u001b[0;32mor\u001b[0m \u001b[0mself\u001b[0m\u001b[0;34m.\u001b[0m\u001b[0mauth\u001b[0m\u001b[0;34m,\u001b[0m \u001b[0;34m**\u001b[0m\u001b[0mkwargs\u001b[0m\u001b[0;34m)\u001b[0m\u001b[0;34m\u001b[0m\u001b[0;34m\u001b[0m\u001b[0m\n\u001b[0m\u001b[1;32m    292\u001b[0m \u001b[0;34m\u001b[0m\u001b[0m\n\u001b[1;32m    293\u001b[0m     \u001b[0;32mdef\u001b[0m \u001b[0mget_endpoint_data\u001b[0m\u001b[0;34m(\u001b[0m\u001b[0mself\u001b[0m\u001b[0;34m,\u001b[0m \u001b[0mauth\u001b[0m\u001b[0;34m=\u001b[0m\u001b[0;32mNone\u001b[0m\u001b[0;34m)\u001b[0m\u001b[0;34m:\u001b[0m\u001b[0;34m\u001b[0m\u001b[0;34m\u001b[0m\u001b[0m\n",
      "\u001b[0;32m/opt/conda/lib/python3.8/site-packages/keystoneauth1/adapter.py\u001b[0m in \u001b[0;36mget_endpoint\u001b[0;34m(self, auth, **kwargs)\u001b[0m\n\u001b[1;32m    289\u001b[0m \u001b[0;34m\u001b[0m\u001b[0m\n\u001b[1;32m    290\u001b[0m         \u001b[0mself\u001b[0m\u001b[0;34m.\u001b[0m\u001b[0m_set_endpoint_filter_kwargs\u001b[0m\u001b[0;34m(\u001b[0m\u001b[0mkwargs\u001b[0m\u001b[0;34m)\u001b[0m\u001b[0;34m\u001b[0m\u001b[0;34m\u001b[0m\u001b[0m\n\u001b[0;32m--> 291\u001b[0;31m         \u001b[0;32mreturn\u001b[0m \u001b[0mself\u001b[0m\u001b[0;34m.\u001b[0m\u001b[0msession\u001b[0m\u001b[0;34m.\u001b[0m\u001b[0mget_endpoint\u001b[0m\u001b[0;34m(\u001b[0m\u001b[0mauth\u001b[0m \u001b[0;32mor\u001b[0m \u001b[0mself\u001b[0m\u001b[0;34m.\u001b[0m\u001b[0mauth\u001b[0m\u001b[0;34m,\u001b[0m \u001b[0;34m**\u001b[0m\u001b[0mkwargs\u001b[0m\u001b[0;34m)\u001b[0m\u001b[0;34m\u001b[0m\u001b[0;34m\u001b[0m\u001b[0m\n\u001b[0m\u001b[1;32m    292\u001b[0m \u001b[0;34m\u001b[0m\u001b[0m\n\u001b[1;32m    293\u001b[0m     \u001b[0;32mdef\u001b[0m \u001b[0mget_endpoint_data\u001b[0m\u001b[0;34m(\u001b[0m\u001b[0mself\u001b[0m\u001b[0;34m,\u001b[0m \u001b[0mauth\u001b[0m\u001b[0;34m=\u001b[0m\u001b[0;32mNone\u001b[0m\u001b[0;34m)\u001b[0m\u001b[0;34m:\u001b[0m\u001b[0;34m\u001b[0m\u001b[0;34m\u001b[0m\u001b[0m\n",
      "\u001b[0;32m/opt/conda/lib/python3.8/site-packages/keystoneauth1/session.py\u001b[0m in \u001b[0;36mget_endpoint\u001b[0;34m(self, auth, **kwargs)\u001b[0m\n\u001b[1;32m   1241\u001b[0m         \u001b[0mauth\u001b[0m \u001b[0;34m=\u001b[0m \u001b[0mself\u001b[0m\u001b[0;34m.\u001b[0m\u001b[0m_auth_required\u001b[0m\u001b[0;34m(\u001b[0m\u001b[0mauth\u001b[0m\u001b[0;34m,\u001b[0m \u001b[0;34m'determine endpoint URL'\u001b[0m\u001b[0;34m)\u001b[0m\u001b[0;34m\u001b[0m\u001b[0;34m\u001b[0m\u001b[0m\n\u001b[1;32m   1242\u001b[0m \u001b[0;34m\u001b[0m\u001b[0m\n\u001b[0;32m-> 1243\u001b[0;31m         \u001b[0;32mreturn\u001b[0m \u001b[0mauth\u001b[0m\u001b[0;34m.\u001b[0m\u001b[0mget_endpoint\u001b[0m\u001b[0;34m(\u001b[0m\u001b[0mself\u001b[0m\u001b[0;34m,\u001b[0m \u001b[0;34m**\u001b[0m\u001b[0mkwargs\u001b[0m\u001b[0;34m)\u001b[0m\u001b[0;34m\u001b[0m\u001b[0;34m\u001b[0m\u001b[0m\n\u001b[0m\u001b[1;32m   1244\u001b[0m \u001b[0;34m\u001b[0m\u001b[0m\n\u001b[1;32m   1245\u001b[0m     \u001b[0;32mdef\u001b[0m \u001b[0mget_endpoint_data\u001b[0m\u001b[0;34m(\u001b[0m\u001b[0mself\u001b[0m\u001b[0;34m,\u001b[0m \u001b[0mauth\u001b[0m\u001b[0;34m=\u001b[0m\u001b[0;32mNone\u001b[0m\u001b[0;34m,\u001b[0m \u001b[0;34m**\u001b[0m\u001b[0mkwargs\u001b[0m\u001b[0;34m)\u001b[0m\u001b[0;34m:\u001b[0m\u001b[0;34m\u001b[0m\u001b[0;34m\u001b[0m\u001b[0m\n",
      "\u001b[0;32m/opt/conda/lib/python3.8/site-packages/keystoneauth1/identity/base.py\u001b[0m in \u001b[0;36mget_endpoint\u001b[0;34m(self, session, service_type, interface, region_name, service_name, version, allow, allow_version_hack, skip_discovery, min_version, max_version, **kwargs)\u001b[0m\n\u001b[1;32m    373\u001b[0m         \u001b[0;31m# will still run discovery if the version requested is not the\u001b[0m\u001b[0;34m\u001b[0m\u001b[0;34m\u001b[0m\u001b[0;34m\u001b[0m\u001b[0m\n\u001b[1;32m    374\u001b[0m         \u001b[0;31m# version in the catalog.\u001b[0m\u001b[0;34m\u001b[0m\u001b[0;34m\u001b[0m\u001b[0;34m\u001b[0m\u001b[0m\n\u001b[0;32m--> 375\u001b[0;31m         endpoint_data = self.get_endpoint_data(\n\u001b[0m\u001b[1;32m    376\u001b[0m             \u001b[0msession\u001b[0m\u001b[0;34m,\u001b[0m \u001b[0mservice_type\u001b[0m\u001b[0;34m=\u001b[0m\u001b[0mservice_type\u001b[0m\u001b[0;34m,\u001b[0m \u001b[0minterface\u001b[0m\u001b[0;34m=\u001b[0m\u001b[0minterface\u001b[0m\u001b[0;34m,\u001b[0m\u001b[0;34m\u001b[0m\u001b[0;34m\u001b[0m\u001b[0m\n\u001b[1;32m    377\u001b[0m             \u001b[0mregion_name\u001b[0m\u001b[0;34m=\u001b[0m\u001b[0mregion_name\u001b[0m\u001b[0;34m,\u001b[0m \u001b[0mservice_name\u001b[0m\u001b[0;34m=\u001b[0m\u001b[0mservice_name\u001b[0m\u001b[0;34m,\u001b[0m\u001b[0;34m\u001b[0m\u001b[0;34m\u001b[0m\u001b[0m\n",
      "\u001b[0;32m/opt/conda/lib/python3.8/site-packages/keystoneauth1/identity/base.py\u001b[0m in \u001b[0;36mget_endpoint_data\u001b[0;34m(self, session, service_type, interface, region_name, service_name, allow, allow_version_hack, discover_versions, skip_discovery, min_version, max_version, endpoint_override, **kwargs)\u001b[0m\n\u001b[1;32m    269\u001b[0m                 \u001b[0minterface\u001b[0m \u001b[0;34m=\u001b[0m \u001b[0;34m'public'\u001b[0m\u001b[0;34m\u001b[0m\u001b[0;34m\u001b[0m\u001b[0m\n\u001b[1;32m    270\u001b[0m \u001b[0;34m\u001b[0m\u001b[0m\n\u001b[0;32m--> 271\u001b[0;31m             \u001b[0mservice_catalog\u001b[0m \u001b[0;34m=\u001b[0m \u001b[0mself\u001b[0m\u001b[0;34m.\u001b[0m\u001b[0mget_access\u001b[0m\u001b[0;34m(\u001b[0m\u001b[0msession\u001b[0m\u001b[0;34m)\u001b[0m\u001b[0;34m.\u001b[0m\u001b[0mservice_catalog\u001b[0m\u001b[0;34m\u001b[0m\u001b[0;34m\u001b[0m\u001b[0m\n\u001b[0m\u001b[1;32m    272\u001b[0m             \u001b[0mproject_id\u001b[0m \u001b[0;34m=\u001b[0m \u001b[0mself\u001b[0m\u001b[0;34m.\u001b[0m\u001b[0mget_project_id\u001b[0m\u001b[0;34m(\u001b[0m\u001b[0msession\u001b[0m\u001b[0;34m)\u001b[0m\u001b[0;34m\u001b[0m\u001b[0;34m\u001b[0m\u001b[0m\n\u001b[1;32m    273\u001b[0m             \u001b[0;31m# NOTE(mordred): service_catalog.url_data_for raises if it can't\u001b[0m\u001b[0;34m\u001b[0m\u001b[0;34m\u001b[0m\u001b[0;34m\u001b[0m\u001b[0m\n",
      "\u001b[0;32m/opt/conda/lib/python3.8/site-packages/keystoneauth1/identity/base.py\u001b[0m in \u001b[0;36mget_access\u001b[0;34m(self, session, **kwargs)\u001b[0m\n\u001b[1;32m    132\u001b[0m         \u001b[0;32mwith\u001b[0m \u001b[0mself\u001b[0m\u001b[0;34m.\u001b[0m\u001b[0m_lock\u001b[0m\u001b[0;34m:\u001b[0m\u001b[0;34m\u001b[0m\u001b[0;34m\u001b[0m\u001b[0m\n\u001b[1;32m    133\u001b[0m             \u001b[0;32mif\u001b[0m \u001b[0mself\u001b[0m\u001b[0;34m.\u001b[0m\u001b[0m_needs_reauthenticate\u001b[0m\u001b[0;34m(\u001b[0m\u001b[0;34m)\u001b[0m\u001b[0;34m:\u001b[0m\u001b[0;34m\u001b[0m\u001b[0;34m\u001b[0m\u001b[0m\n\u001b[0;32m--> 134\u001b[0;31m                 \u001b[0mself\u001b[0m\u001b[0;34m.\u001b[0m\u001b[0mauth_ref\u001b[0m \u001b[0;34m=\u001b[0m \u001b[0mself\u001b[0m\u001b[0;34m.\u001b[0m\u001b[0mget_auth_ref\u001b[0m\u001b[0;34m(\u001b[0m\u001b[0msession\u001b[0m\u001b[0;34m)\u001b[0m\u001b[0;34m\u001b[0m\u001b[0;34m\u001b[0m\u001b[0m\n\u001b[0m\u001b[1;32m    135\u001b[0m \u001b[0;34m\u001b[0m\u001b[0m\n\u001b[1;32m    136\u001b[0m         \u001b[0;32mreturn\u001b[0m \u001b[0mself\u001b[0m\u001b[0;34m.\u001b[0m\u001b[0mauth_ref\u001b[0m\u001b[0;34m\u001b[0m\u001b[0;34m\u001b[0m\u001b[0m\n",
      "\u001b[0;32m/opt/conda/lib/python3.8/site-packages/keystoneauth1/identity/v3/federation.py\u001b[0m in \u001b[0;36mget_auth_ref\u001b[0;34m(self, session, **kwargs)\u001b[0m\n\u001b[1;32m     71\u001b[0m                                                  **scoping)\n\u001b[1;32m     72\u001b[0m \u001b[0;34m\u001b[0m\u001b[0m\n\u001b[0;32m---> 73\u001b[0;31m             \u001b[0mauth_ref\u001b[0m \u001b[0;34m=\u001b[0m \u001b[0mtoken_plugin\u001b[0m\u001b[0;34m.\u001b[0m\u001b[0mget_auth_ref\u001b[0m\u001b[0;34m(\u001b[0m\u001b[0msession\u001b[0m\u001b[0;34m)\u001b[0m\u001b[0;34m\u001b[0m\u001b[0;34m\u001b[0m\u001b[0m\n\u001b[0m\u001b[1;32m     74\u001b[0m \u001b[0;34m\u001b[0m\u001b[0m\n\u001b[1;32m     75\u001b[0m         \u001b[0;32mreturn\u001b[0m \u001b[0mauth_ref\u001b[0m\u001b[0;34m\u001b[0m\u001b[0;34m\u001b[0m\u001b[0m\n",
      "\u001b[0;32m/opt/conda/lib/python3.8/site-packages/keystoneauth1/identity/v3/base.py\u001b[0m in \u001b[0;36mget_auth_ref\u001b[0;34m(self, session, **kwargs)\u001b[0m\n\u001b[1;32m    185\u001b[0m \u001b[0;34m\u001b[0m\u001b[0m\n\u001b[1;32m    186\u001b[0m         \u001b[0m_logger\u001b[0m\u001b[0;34m.\u001b[0m\u001b[0mdebug\u001b[0m\u001b[0;34m(\u001b[0m\u001b[0;34m'Making authentication request to %s'\u001b[0m\u001b[0;34m,\u001b[0m \u001b[0mtoken_url\u001b[0m\u001b[0;34m)\u001b[0m\u001b[0;34m\u001b[0m\u001b[0;34m\u001b[0m\u001b[0m\n\u001b[0;32m--> 187\u001b[0;31m         resp = session.post(token_url, json=body, headers=headers,\n\u001b[0m\u001b[1;32m    188\u001b[0m                             authenticated=False, log=False, **rkwargs)\n\u001b[1;32m    189\u001b[0m \u001b[0;34m\u001b[0m\u001b[0m\n",
      "\u001b[0;32m/opt/conda/lib/python3.8/site-packages/keystoneauth1/session.py\u001b[0m in \u001b[0;36mpost\u001b[0;34m(self, url, **kwargs)\u001b[0m\n\u001b[1;32m   1147\u001b[0m \u001b[0;34m\u001b[0m\u001b[0m\n\u001b[1;32m   1148\u001b[0m         \"\"\"\n\u001b[0;32m-> 1149\u001b[0;31m         \u001b[0;32mreturn\u001b[0m \u001b[0mself\u001b[0m\u001b[0;34m.\u001b[0m\u001b[0mrequest\u001b[0m\u001b[0;34m(\u001b[0m\u001b[0murl\u001b[0m\u001b[0;34m,\u001b[0m \u001b[0;34m'POST'\u001b[0m\u001b[0;34m,\u001b[0m \u001b[0;34m**\u001b[0m\u001b[0mkwargs\u001b[0m\u001b[0;34m)\u001b[0m\u001b[0;34m\u001b[0m\u001b[0;34m\u001b[0m\u001b[0m\n\u001b[0m\u001b[1;32m   1150\u001b[0m \u001b[0;34m\u001b[0m\u001b[0m\n\u001b[1;32m   1151\u001b[0m     \u001b[0;32mdef\u001b[0m \u001b[0mput\u001b[0m\u001b[0;34m(\u001b[0m\u001b[0mself\u001b[0m\u001b[0;34m,\u001b[0m \u001b[0murl\u001b[0m\u001b[0;34m,\u001b[0m \u001b[0;34m**\u001b[0m\u001b[0mkwargs\u001b[0m\u001b[0;34m)\u001b[0m\u001b[0;34m:\u001b[0m\u001b[0;34m\u001b[0m\u001b[0;34m\u001b[0m\u001b[0m\n",
      "\u001b[0;32m/opt/conda/lib/python3.8/site-packages/keystoneauth1/session.py\u001b[0m in \u001b[0;36mrequest\u001b[0;34m(self, url, method, json, original_ip, user_agent, redirect, authenticated, endpoint_filter, auth, requests_auth, raise_exc, allow_reauth, log, endpoint_override, connect_retries, logger, allow, client_name, client_version, microversion, microversion_service_type, status_code_retries, retriable_status_codes, rate_semaphore, global_request_id, connect_retry_delay, status_code_retry_delay, **kwargs)\u001b[0m\n\u001b[1;32m    984\u001b[0m             logger.debug('Request returned failure status: %s',\n\u001b[1;32m    985\u001b[0m                          resp.status_code)\n\u001b[0;32m--> 986\u001b[0;31m             \u001b[0;32mraise\u001b[0m \u001b[0mexceptions\u001b[0m\u001b[0;34m.\u001b[0m\u001b[0mfrom_response\u001b[0m\u001b[0;34m(\u001b[0m\u001b[0mresp\u001b[0m\u001b[0;34m,\u001b[0m \u001b[0mmethod\u001b[0m\u001b[0;34m,\u001b[0m \u001b[0murl\u001b[0m\u001b[0;34m)\u001b[0m\u001b[0;34m\u001b[0m\u001b[0;34m\u001b[0m\u001b[0m\n\u001b[0m\u001b[1;32m    987\u001b[0m \u001b[0;34m\u001b[0m\u001b[0m\n\u001b[1;32m    988\u001b[0m         \u001b[0;32mif\u001b[0m \u001b[0mself\u001b[0m\u001b[0;34m.\u001b[0m\u001b[0m_collect_timing\u001b[0m\u001b[0;34m:\u001b[0m\u001b[0;34m\u001b[0m\u001b[0;34m\u001b[0m\u001b[0m\n",
      "\u001b[0;31mUnauthorized\u001b[0m: The request you have made requires authentication. (HTTP 401) (Request-ID: req-0d2c4462-abd0-4f55-ab31-977adc7f8c56)"
     ]
    }
   ],
   "source": [
    "chi.set('project_name', 'ExoGENI@Chameleon')\n",
    "\n",
    "# Set start/end date for lease\n",
    "# Start one minute into future to avoid Blazar thinking lease is in past\n",
    "# due to rounding to closest minute.\n",
    "start_date = (datetime.now(tz=tz.tzutc()) + timedelta(minutes=1)).strftime(BLAZAR_TIME_FORMAT)\n",
    "end_date   = (datetime.now(tz=tz.tzutc()) + timedelta(days=1)).strftime(BLAZAR_TIME_FORMAT)\n",
    "\n",
    "# Build list of reservations (in this case there is only one reservation)\n",
    "create_network(stitched_network_name, vswitch_name=vswitch_name,\n",
    "                provider='exogeni', port_security_enabled=True)\n",
    "\n",
    "#Get the lease by name\n",
    "stitched_network = get_network(stitched_network_name)\n",
    "    \n",
    "#Print the lease info\n",
    "print(json.dumps(stitched_network, indent=2))"
   ]
  },
  {
   "cell_type": "markdown",
   "metadata": {},
   "source": [
    "#### Get the Stitched Network Reservation and VLAN\n",
    "\n",
    "Each lease contains one or more reservations. The individual reservation IDs are required to instantiate resources. You can [get the lease](../modules-python/reservations/get_lease_by_name.ipynb) and separate the reservation IDs for compute, network, and floating IPs using the technique below."
   ]
  },
  {
   "cell_type": "code",
   "execution_count": null,
   "metadata": {},
   "outputs": [],
   "source": [
    "stitch_reservation_id = list(filter(lambda reservation: reservation['resource_type'] == 'network', stitch_lease['reservations']))[0]['id']\n",
    "\n",
    "print(\"stitch_reservation_id: \" + stitch_reservation_id)\n",
    "\n",
    "#Get the network\n",
    "network = get_network(stitched_network_name)\n",
    "#print(json.dumps(network, indent=2))\n",
    "\n",
    "#Get the network ID\n",
    "network_id = network['id']\n",
    "print('Network ID: ' + str(network_id))\n",
    "\n",
    "#Get the VLAN tag (needed for ExoGENI stitching)\n",
    "exogeni_vlan = network['provider:segmentation_id']\n",
    "print('exogeni_vlan: ' + str(exogeni_vlan))\n",
    "\n"
   ]
  },
  {
   "cell_type": "markdown",
   "metadata": {},
   "source": [
    "## Create the Servers"
   ]
  },
  {
   "cell_type": "code",
   "execution_count": null,
   "metadata": {},
   "outputs": [],
   "source": [
    "# Set start/end date for lease\n",
    "# Start one minute into future to avoid Blazar thinking lease is in past\n",
    "# due to rounding to closest minute.\n",
    "start_date = (datetime.now(tz=tz.tzutc()) + timedelta(minutes=1)).strftime(BLAZAR_TIME_FORMAT)\n",
    "end_date   = (datetime.now(tz=tz.tzutc()) + timedelta(days=1)).strftime(BLAZAR_TIME_FORMAT)\n",
    "\n",
    "# Build list of reservations (in this case there is only one reservation)\n",
    "reservation_list = []\n",
    "add_node_reservation(reservation_list, count=server_count, node_type=node_type)\n",
    "add_fip_reservation(reservation_list, count=1)\n",
    "\n",
    "# Create the lease\n",
    "chi.blazar().lease.create(name=lease_name_servers, \n",
    "                            start=start_date,\n",
    "                            end=end_date,\n",
    "                            reservations=reservation_list, events=[])\n",
    "\n",
    "#Get the lease by name\n",
    "server_lease = get_lease(lease_name_servers)\n",
    "    \n",
    "#Print the lease info\n",
    "print(json.dumps(server_lease, indent=2))"
   ]
  },
  {
   "cell_type": "code",
   "execution_count": null,
   "metadata": {},
   "outputs": [],
   "source": [
    "compute_reservation_id = list(filter(lambda reservation: reservation['resource_type'] == 'physical:host', server_lease['reservations']))[0]['id']\n",
    "floatingip_reservation_id = list(filter(lambda reservation: reservation['resource_type'] == 'virtual:floatingip', server_lease['reservations']))[0]['id']\n",
    "\n",
    "print(\"compute_reservation_id: \" + compute_reservation_id)\n",
    "print(\"floatingip_reservation_id: \" + floatingip_reservation_id)"
   ]
  },
  {
   "cell_type": "markdown",
   "metadata": {},
   "source": [
    "#### Start the Server\n",
    "\n",
    "Use the compute_reservation_id to [create the server](../modules-python/servers/create_server.ipynb)."
   ]
  },
  {
   "cell_type": "code",
   "execution_count": null,
   "metadata": {},
   "outputs": [],
   "source": [
    "#create the server\n",
    "server = create_server(server_name, \n",
    "                       compute_reservation_id, \n",
    "                       key_name=key_name, \n",
    "                       network_id=network_id, \n",
    "                       network_name=network_name, \n",
    "                       nics=[], \n",
    "                       image_id=None, \n",
    "                       image_name=image_name, \n",
    "                       flavor_id=None, \n",
    "                       flavor_name=flavor_name, \n",
    "                       count=1)"
   ]
  },
  {
   "cell_type": "markdown",
   "metadata": {},
   "source": [
    "#### Associate the Floating IP   \n",
    "TODO: need to find floating_ip from the reservation that was just made"
   ]
  },
  {
   "cell_type": "code",
   "execution_count": null,
   "metadata": {},
   "outputs": [],
   "source": [
    "floating_ip = associate_floating_ip(server_name)\n",
    "\n",
    "print('Floating IP: ' + str(floating_ip))"
   ]
  },
  {
   "cell_type": "markdown",
   "metadata": {},
   "source": [
    "## Stitch the Circuit using ExoGENI\n",
    "\n",
    "Note: The ExoGENI\n",
    "steps require a valid GENI certificate at the path specified and a public/private keypair in ~/.ssh (run ssh-keygen with default inputs)"
   ]
  },
  {
   "cell_type": "markdown",
   "metadata": {},
   "source": [
    "#### Create the Circuit\n"
   ]
  },
  {
   "cell_type": "code",
   "execution_count": null,
   "metadata": {},
   "outputs": [],
   "source": [
    "%%script env chameleon_vlan=\"$exogeni_vlan\" stitchport_url=\"$stitchport_url\" stitchport_vlan=\"$stitchport_vlan\" geni_pem=\"$geni_pem_file\" bash\n",
    "\n",
    "echo 'chameleon_vlan ' $chameleon_vlan ', stitchport_url ' $stitchport_url ', stitchport_vlan ' $stitchport_vlan ', geni_pem ' $geni_pem\n",
    "xoStitch create -sp1 uc -vlan1 $chameleon_vlan -sp2 $stitchport_url -vlan2 $stitchport_vlan -c $geni_pem"
   ]
  },
  {
   "cell_type": "markdown",
   "metadata": {},
   "source": [
    "#### Check the Status of the Circuit"
   ]
  },
  {
   "cell_type": "code",
   "execution_count": null,
   "metadata": {},
   "outputs": [],
   "source": [
    "%%script env chameleon_vlan=\"$exogeni_vlan\" stitchport_url=\"$stitchport_url\" stitchport_vlan=\"$stitchport_vlan\" geni_pem=\"$geni_pem_file\" bash\n",
    "\n",
    "echo 'chameleon_vlan ' $chameleon_vlan ', stitchport_url ' $stitchport_url ', stitchport_vlan ' $stitchport_vlan ', geni_pem ' $geni_pem\n",
    "xoStitch status -sp1 uc -vlan1 $chameleon_vlan -sp2 $stitchport_url -vlan2 $stitchport_vlan -c $geni_pem"
   ]
  },
  {
   "cell_type": "markdown",
   "metadata": {},
   "source": [
    "## Clean Up Resources"
   ]
  },
  {
   "cell_type": "markdown",
   "metadata": {},
   "source": [
    "### Delete Stitched Circuit using ExoGENI"
   ]
  },
  {
   "cell_type": "code",
   "execution_count": null,
   "metadata": {},
   "outputs": [],
   "source": [
    "%%script env chameleon_vlan=\"$exogeni_vlan\" stitchport_url=\"$stitchport_url\" stitchport_vlan=\"$stitchport_vlan\" geni_pem=\"$geni_pem_file\" bash\n",
    "\n",
    "echo 'chameleon_vlan ' $chameleon_vlan ', stitchport_url ' $stitchport_url ', stitchport_vlan ' $stitchport_vlan ', geni_pem ' $geni_pem\n",
    "xoStitch delete -sp1 uc -vlan1 $chameleon_vlan -sp2 $stitchport_url -vlan2 $stitchport_vlan -c $geni_pem"
   ]
  },
  {
   "cell_type": "markdown",
   "metadata": {},
   "source": [
    "### Delete Resources\n",
    "\n",
    "[Delete the server](../modules-python/servers/delete_server.ipynb) using its name."
   ]
  },
  {
   "cell_type": "code",
   "execution_count": null,
   "metadata": {},
   "outputs": [],
   "source": [
    "delete_server(get_server_id(server_name))"
   ]
  },
  {
   "cell_type": "markdown",
   "metadata": {},
   "source": [
    "#### De-configure Network\n",
    "TODO: break up into steps"
   ]
  },
  {
   "cell_type": "code",
   "execution_count": null,
   "metadata": {},
   "outputs": [],
   "source": [
    "remove_subnet_from_router(get_router_id(router_name), get_subnet_id(subnet_name))"
   ]
  },
  {
   "cell_type": "code",
   "execution_count": null,
   "metadata": {},
   "outputs": [],
   "source": [
    "delete_router(get_router_id(router_name))"
   ]
  },
  {
   "cell_type": "code",
   "execution_count": null,
   "metadata": {},
   "outputs": [],
   "source": [
    "delete_subnet(get_subnet_id(subnet_name))"
   ]
  },
  {
   "cell_type": "code",
   "execution_count": null,
   "metadata": {},
   "outputs": [],
   "source": [
    "delete_network(get_network_id(network_name))"
   ]
  },
  {
   "cell_type": "markdown",
   "metadata": {},
   "source": [
    "#### Release Leases"
   ]
  },
  {
   "cell_type": "code",
   "execution_count": null,
   "metadata": {},
   "outputs": [],
   "source": [
    "delete_lease(lease_name_network)\n",
    "delete_lease(lease_name_servers)\n",
    "delete_lease(lease_name_stitch)"
   ]
  }
 ],
 "metadata": {
  "kernelspec": {
   "display_name": "Python 3",
   "language": "python",
   "name": "python3"
  },
  "language_info": {
   "codemirror_mode": {
    "name": "ipython",
    "version": 3
   },
   "file_extension": ".py",
   "mimetype": "text/x-python",
   "name": "python",
   "nbconvert_exporter": "python",
   "pygments_lexer": "ipython3",
   "version": "3.8.3"
  }
 },
 "nbformat": 4,
 "nbformat_minor": 4
}
