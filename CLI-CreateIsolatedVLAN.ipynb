{
 "cells": [
  {
   "cell_type": "markdown",
   "metadata": {},
   "source": [
    "## Tutorial: Create an Isolated VLAN and Servers\n",
    "\n",
    "This notebook demonstrates how to create isolated VLANs and attach servers."
   ]
  },
  {
   "cell_type": "markdown",
   "metadata": {},
   "source": [
    "#### Configure the Environment"
   ]
  },
  {
   "cell_type": "code",
   "execution_count": 1,
   "metadata": {},
   "outputs": [],
   "source": [
    "export OS_REGION_NAME=CHI@UC\n",
    "export OS_PROJECT_NAME=CH-822154\n",
    "\n",
    "NODE_TYPE=compute_haswell\n",
    "KEYPAIR_NAME=\"my_chameleon_key\"\n",
    "LEASE_NAME=\"${USER}Lease\"\n",
    "SERVER_NAME=\"${USER}Server\"\n",
    "NETWORK_NAME=${USER}\"Net\"\n",
    "SUBNET_NAME=${USER}\"Subnet\"\n",
    "ROUTER_NAME=${USER}\"Router\"\n",
    "DEFAULT_CIDR=192.168.1.0/24"
   ]
  },
  {
   "cell_type": "markdown",
   "metadata": {},
   "source": [
    "#### Create a Lease"
   ]
  },
  {
   "cell_type": "code",
   "execution_count": 5,
   "metadata": {},
   "outputs": [
    {
     "name": "stdout",
     "output_type": "stream",
     "text": [
      "bash: 2021-03-02: command not found\n",
      "bash: 2021-03-03: command not found\n",
      "usage: blazar lease-create [-h] [-f {json,shell,table,value,yaml}] [-c COLUMN]\n",
      "                           [--noindent] [--prefix PREFIX]\n",
      "                           [--max-width <integer>] [--fit-width]\n",
      "                           [--print-empty] [--start-date START]\n",
      "                           [--end-date END] [--before-end-date BEFORE_END]\n",
      "                           [--physical-reservation <min=int,max=int,hypervisor_properties=str,resource_properties=str,before_end=str,on_start=str>]\n",
      "                           [--reservation <key=value>]\n",
      "                           [--event <event_type=str,event_date=time>]\n",
      "                           LEASE\n",
      "blazar lease-create: error: argument --start-date: expected one argument\n"
     ]
    },
    {
     "ename": "",
     "evalue": "127",
     "output_type": "error",
     "traceback": []
    }
   ],
   "source": [
    "PUBLIC_NETWORK_ID=$(openstack network show public -f value -c id)\n",
    "\n",
    "blazar lease-create \\\n",
    "  --physical-reservation min=1,max=1,resource_properties=\"[\\\"=\\\", \\\"\\$node_type\\\", \\\"$NODE_TYPE\\\"]\" \\\n",
    "  --reservation \"resource_type=virtual:floatingip,network_id=$PUBLIC_NETWORK_ID,amount=1\" \\\n",
    "  --start-date \"$(date +'%Y-%m-%d %H:%M' -d'+1 minute')\" \\\n",
    "  --end-date \"$(date +'%Y-%m-%d %H:%M' -d'+1 day')\" \\\n",
    "  \"$LEASE_NAME\""
   ]
  },
  {
   "cell_type": "code",
   "execution_count": null,
   "metadata": {},
   "outputs": [],
   "source": [
    "wait_lease \"$LEASE_NAME\""
   ]
  },
  {
   "cell_type": "markdown",
   "metadata": {},
   "source": [
    "#### Create the Network"
   ]
  },
  {
   "cell_type": "code",
   "execution_count": null,
   "metadata": {},
   "outputs": [],
   "source": [
    "openstack network create --max-width 80 \\\n",
    "                         --provider-network-type vlan \\\n",
    "                         --provider-physical-network physnet1 \\\n",
    "                         $NETWORK_NAME"
   ]
  },
  {
   "cell_type": "markdown",
   "metadata": {},
   "source": [
    "#### Configure the Network"
   ]
  },
  {
   "cell_type": "code",
   "execution_count": null,
   "metadata": {},
   "outputs": [],
   "source": [
    "openstack subnet create --max-width 80 \\\n",
    "                        --subnet-range $DEFAULT_CIDR \\\n",
    "                        --network $NETWORK_NAME \\\n",
    "                        $SUBNET_NAME\n",
    "                        \n",
    "openstack router create --max-width 80 \\\n",
    "                        $ROUTER_NAME\n",
    "                        \n",
    "openstack router add subnet $ROUTER_NAME $SUBNET_NAME"
   ]
  },
  {
   "cell_type": "markdown",
   "metadata": {},
   "source": [
    "#### Start the Server"
   ]
  },
  {
   "cell_type": "code",
   "execution_count": null,
   "metadata": {},
   "outputs": [],
   "source": [
    "openstack server create --max-width 80 \\\n",
    "                        --key-name $KEYPAIR_NAME \\\n",
    "                        $(lease_server_create_default_args \"$LEASE_NAME\") \\\n",
    "                        $SERVER_NAME"
   ]
  },
  {
   "cell_type": "markdown",
   "metadata": {},
   "source": [
    "#### Associate a Floating IP"
   ]
  },
  {
   "cell_type": "code",
   "execution_count": null,
   "metadata": {},
   "outputs": [],
   "source": [
    "FLOATING_IP=$(lease_list_floating_ips \"$LEASE_NAME\" | head -n1)\n",
    "\n",
    "openstack server add floating ip \"$SERVER_NAME\" \"$FLOATING_IP\" \\\n",
    "  && echo \"Attached floating ip $FLOATING_IP!\""
   ]
  },
  {
   "cell_type": "markdown",
   "metadata": {},
   "source": [
    "#### Delete Server"
   ]
  },
  {
   "cell_type": "code",
   "execution_count": null,
   "metadata": {},
   "outputs": [],
   "source": [
    "openstack server delete $SERVER_NAME"
   ]
  },
  {
   "cell_type": "markdown",
   "metadata": {},
   "source": [
    "#### Deconfigure the Network"
   ]
  },
  {
   "cell_type": "code",
   "execution_count": null,
   "metadata": {},
   "outputs": [],
   "source": [
    "openstack router remove subnet $ROUTER_NAME $SUBNET_NAME\n",
    "openstack router delete $ROUTER_NAME\n",
    "openstack subnet delete $SUBNET_NAME\n",
    "openstack network delete $NETWORK_NAME"
   ]
  },
  {
   "cell_type": "markdown",
   "metadata": {},
   "source": [
    "#### Release Lease"
   ]
  },
  {
   "cell_type": "code",
   "execution_count": null,
   "metadata": {},
   "outputs": [],
   "source": [
    "blazar lease-delete $LEASE_NAME"
   ]
  }
 ],
 "metadata": {
  "kernelspec": {
   "display_name": "Bash",
   "language": "bash",
   "name": "bash"
  },
  "language_info": {
   "codemirror_mode": "shell",
   "file_extension": ".sh",
   "mimetype": "text/x-sh",
   "name": "bash"
  }
 },
 "nbformat": 4,
 "nbformat_minor": 4
}
