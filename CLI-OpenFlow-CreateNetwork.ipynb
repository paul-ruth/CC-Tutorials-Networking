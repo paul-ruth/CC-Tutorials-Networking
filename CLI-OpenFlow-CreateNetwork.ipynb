{
 "cells": [
  {
   "cell_type": "markdown",
   "metadata": {},
   "source": [
    "#### Configure the Environment"
   ]
  },
  {
   "cell_type": "code",
   "execution_count": null,
   "metadata": {},
   "outputs": [],
   "source": [
    "# Set project name and site\n",
    "export OS_REGION_NAME=CHI@UC\n",
    "export OS_PROJECT_NAME=CH-822154\n",
    "\n",
    "# Define instance variables\n",
    "NODE_TYPE=compute_haswell\n",
    "KEYPAIR_NAME=\"my_chameleon_key\"\n",
    "LEASE_NAME=\"${USER}Lease\"\n",
    "SERVER_NAME=\"${USER}Server\"\n",
    "\n",
    "# Define networking variables\n",
    "NETWORK_NAME=${USER}\"Net\"\n",
    "SUBNET_NAME=${USER}\"Subnet\"\n",
    "ROUTER_NAME=${USER}\"Router\"\n",
    "OF_CONTROLLER_IP=129.114.108.132\n",
    "OF_CONTROLLER_PORT=6653\n",
    "DEFAULT_CIDR=192.168.1.0/24"
   ]
  },
  {
   "cell_type": "markdown",
   "metadata": {},
   "source": [
    "#### Create a Network"
   ]
  },
  {
   "cell_type": "code",
   "execution_count": null,
   "metadata": {},
   "outputs": [],
   "source": [
    "# Create network\n",
    "openstack network create --max-width 80 \\\n",
    "                         --provider-network-type vlan \\\n",
    "                         --provider-physical-network physnet1 \\\n",
    "                         --description OFController=${OF_CONTROLLER_IP}:${OF_CONTROLLER_PORT} \\\n",
    "                         $NETWORK_NAME"
   ]
  },
  {
   "cell_type": "markdown",
   "metadata": {},
   "source": [
    "#### Create a Network"
   ]
  },
  {
   "cell_type": "code",
   "execution_count": null,
   "metadata": {},
   "outputs": [],
   "source": [
    "# Obtain public network id.\n",
    "PUBLIC_NETWORK_ID=$(openstack network show public -f value -c id)\n",
    "\n",
    "# Reserve a node and a floating IP on public network.\n",
    "blazar lease-create \\\n",
    "  --physical-reservation min=1,max=2,resource_properties=\"[\\\"=\\\", \\\"\\$node_type\\\", \\\"$NODE_TYPE\\\"]\" \\\n",
    "  --reservation \"resource_type=virtual:floatingip,network_id=$PUBLIC_NETWORK_ID,amount=1\" \\\n",
    "  --start-date \"$(date +'%Y-%m-%d %H:%M' -d'+1 minute')\" \\\n",
    "  --end-date \"$(date +'%Y-%m-%d %H:%M' -d'+1 day')\" \\\n",
    "  \"$LEASE_NAME\""
   ]
  },
  {
   "cell_type": "code",
   "execution_count": null,
   "metadata": {},
   "outputs": [],
   "source": [
    "# Wait for lease to start\n",
    "wait_lease \"$LEASE_NAME\""
   ]
  },
  {
   "cell_type": "markdown",
   "metadata": {},
   "source": [
    "#### Configure the Network"
   ]
  },
  {
   "cell_type": "code",
   "execution_count": null,
   "metadata": {},
   "outputs": [],
   "source": [
    "# Create subnet on your new network\n",
    "openstack subnet create --max-width 80 \\\n",
    "                        --subnet-range $DEFAULT_CIDR \\\n",
    "                        --network $NETWORK_NAME \\\n",
    "                        $SUBNET_NAME\n",
    "                       \n",
    "# Create a new router\n",
    "openstack router create --max-width 80 \\\n",
    "                        $ROUTER_NAME\n",
    "\n",
    "# Assign your router to a public gateway\n",
    "openstack router set $ROUTER_NAME --external-gateway \"public\"\n",
    "\n",
    "# Add your subnet to your router\n",
    "openstack router add subnet $ROUTER_NAME $SUBNET_NAME"
   ]
  },
  {
   "cell_type": "markdown",
   "metadata": {},
   "source": [
    "#### Start a Server on your Network"
   ]
  },
  {
   "cell_type": "code",
   "execution_count": null,
   "metadata": {},
   "outputs": [],
   "source": [
    "# Create a new server using your reservation\n",
    "openstack server create --max-width 80 \\\n",
    "                        --key-name $KEYPAIR_NAME \\\n",
    "                        $(lease_server_create_default_args \"$LEASE_NAME\") \\\n",
    "                        $SERVER_NAME"
   ]
  },
  {
   "cell_type": "markdown",
   "metadata": {},
   "source": [
    "#### Associate the Floating IP"
   ]
  },
  {
   "cell_type": "code",
   "execution_count": null,
   "metadata": {},
   "outputs": [],
   "source": [
    "# Find the unused floating IP you reserved\n",
    "FLOATING_IP=$(lease_list_floating_ips \"$LEASE_NAME\" | head -n1)\n",
    "\n",
    "# Add your floating IP to your server\n",
    "openstack server add floating ip \"$SERVER_NAME\" \"$FLOATING_IP\" \\\n",
    "  && echo \"Attached floating ip $FLOATING_IP!\""
   ]
  },
  {
   "cell_type": "markdown",
   "metadata": {},
   "source": [
    "#### Delete Server"
   ]
  },
  {
   "cell_type": "code",
   "execution_count": null,
   "metadata": {},
   "outputs": [],
   "source": [
    "openstack server delete $SERVER_NAME"
   ]
  },
  {
   "cell_type": "markdown",
   "metadata": {},
   "source": [
    "#### De-configure Network"
   ]
  },
  {
   "cell_type": "code",
   "execution_count": null,
   "metadata": {},
   "outputs": [],
   "source": [
    "openstack router remove subnet $ROUTER_NAME $SUBNET_NAME\n",
    "openstack router delete $ROUTER_NAME\n",
    "openstack subnet delete $SUBNET_NAME\n",
    "openstack network delete $NETWORK_NAME"
   ]
  },
  {
   "cell_type": "markdown",
   "metadata": {},
   "source": [
    "#### Release Lease"
   ]
  },
  {
   "cell_type": "code",
   "execution_count": null,
   "metadata": {},
   "outputs": [],
   "source": [
    "blazar lease-delete $LEASE_NAME"
   ]
  }
 ],
 "metadata": {
  "kernelspec": {
   "display_name": "Bash",
   "language": "bash",
   "name": "bash"
  },
  "language_info": {
   "codemirror_mode": "shell",
   "file_extension": ".sh",
   "mimetype": "text/x-sh",
   "name": "bash"
  }
 },
 "nbformat": 4,
 "nbformat_minor": 4
}
