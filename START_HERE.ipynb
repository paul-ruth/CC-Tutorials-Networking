{
 "cells": [
  {
   "cell_type": "markdown",
   "metadata": {},
   "source": [
    "# Networking Tutorials"
   ]
  },
  {
   "cell_type": "markdown",
   "metadata": {},
   "source": [
    "## Private Networks \n",
    "\n",
    "- Create Isolated Networks (VLANs) ([CLI](./CLI-BringYourOwnController.ipynb), [Python](./Python-OpenFlow-CreateNetwork.ipynb))\n",
    "\n",
    "## Software Defined Networking (Bring-Your-Own-Controller) \n",
    "\n",
    "- Ryu OpenFlow Controller ([CLI](./CLI-BringYourOwnController.ipynb), [Python](./Python-OpenFlow-CreateNetwork.ipynb))\n",
    "- Create and OpenFlow Network ([CLI](./CLI-BringYourOwnController.ipynb), [Python](./Python-OpenFlow-CreateNetwork.ipynb))\n",
    "\n",
    "## External Stitching\n",
    "\n",
    "- ExoGENI Stitching ([CLI](./CLI-BringYourOwnController.ipynb), [Python](./Python-OpenFlow-CreateNetwork.ipynb))\n",
    "- Internet2 AL2S Stitching ([CLI](./CLI-BringYourOwnController.ipynb), [Python](./Python-OpenFlow-CreateNetwork.ipynb))\n",
    "- Amazon Web Services Stitching ([CLI](./CLI-BringYourOwnController.ipynb), [Python](./Python-OpenFlow-CreateNetwork.ipynb))\n",
    "\n",
    "## Network Performance Tuning\n",
    "\n",
    "- Linux Host Tuning ([CLI](./CLI-LinuxHostTuning.ipynb), [Python](./Python-LinuxHostTuning.ipynb))\n"
   ]
  },
  {
   "cell_type": "code",
   "execution_count": null,
   "metadata": {},
   "outputs": [],
   "source": []
  }
 ],
 "metadata": {
  "kernelspec": {
   "display_name": "Python 3",
   "language": "python",
   "name": "python3"
  },
  "language_info": {
   "codemirror_mode": {
    "name": "ipython",
    "version": 3
   },
   "file_extension": ".py",
   "mimetype": "text/x-python",
   "name": "python",
   "nbconvert_exporter": "python",
   "pygments_lexer": "ipython3",
   "version": "3.8.3"
  }
 },
 "nbformat": 4,
 "nbformat_minor": 4
}
