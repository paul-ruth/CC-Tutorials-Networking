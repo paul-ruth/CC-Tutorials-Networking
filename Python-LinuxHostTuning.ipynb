{
 "cells": [
  {
   "cell_type": "markdown",
   "metadata": {},
   "source": [
    "## Tutorial: How to Tune your Chameleon Hosts for Better Networking Performance\n",
    "\n",
    "This notebook demonstrates how tune Linux hosts for networks. Much of this tutorial is based on the host tuning section of ESnet's [Faster Data](https://fasterdata.es.net/host-tuning/linux/) website.\n",
    "\n",
    "The tutorial uses sharedwan1 ....\n",
    "\n",
    "#### Modules \n",
    "\n",
    "- [Reserve a Mulitple Resources](../modules-python/reservations/reserve_multiple_resources.ipynb)\n",
    "- [Get Lease by Name](../modules-python/reservations/get_lease_by_name.ipynb)\n",
    "- [Get Reservation](../modules-python/reservations/get_reservations_from_lease.ipynb)\n",
    "- [Create Server](../modules-python/servers/create_server.ipynb)\n",
    "- [Delete Server](../modules-python/servers/delete_server.ipynb)\n",
    "- [Create Network](../modules-python/network/create_network.ipynb)\n",
    "- [Delete Network](../modules-python/network/delete_network.ipynb)\n",
    "- [Create Subnet](../modules-python/network/create_subnet.ipynb)\n",
    "- [Delete Subnet](../modules-python/network/delete_subnet.ipynb)\n",
    "\n"
   ]
  },
  {
   "cell_type": "markdown",
   "metadata": {},
   "source": [
    "## Tutorial: "
   ]
  },
  {
   "cell_type": "markdown",
   "metadata": {},
   "source": [
    "#### Configure the Environment"
   ]
  },
  {
   "cell_type": "code",
   "execution_count": 10,
   "metadata": {},
   "outputs": [],
   "source": [
    "import json\n",
    "import os\n",
    "import chi\n",
    "\n",
    "from chi.server import *\n",
    "from chi.lease import *\n",
    "from chi.network import *\n",
    "\n",
    "from datetime import datetime, timedelta\n",
    "from dateutil import tz\n",
    "\n",
    "BLAZAR_TIME_FORMAT = '%Y-%m-%d %H:%M'\n",
    "\n",
    "#Config with your project and site\n",
    "chi.set('project_name', 'CH-822154') # Replace with your project name\n",
    "\n",
    "#Insert keypair name\n",
    "key_name = 'my_chameleon_key'  # Change to your keypair\n",
    "\n",
    "# Tip: Name resources with your username for easier identification\n",
    "username = os.getenv(\"USER\")+\"hosts\"\n",
    "uc_server_name = username+'ServerUC'\n",
    "tacc_server_name = username+'ServerTACC'\n",
    "uc_lease_name = username+'LeaseUC'\n",
    "tacc_lease_name = username+'LeaseTACC'\n",
    "\n",
    "#Server attributes\n",
    "image_name='CC-CentOS7'\n",
    "flavor_name='baremetal'\n",
    "node_type=\"compute_skylake\""
   ]
  },
  {
   "cell_type": "markdown",
   "metadata": {},
   "source": [
    "#### Create UC Lease"
   ]
  },
  {
   "cell_type": "code",
   "execution_count": 3,
   "metadata": {},
   "outputs": [
    {
     "name": "stdout",
     "output_type": "stream",
     "text": [
      "Now using CHI@UC:\n",
      "URL: https://chi.uc.chameleoncloud.org\n",
      "Location: Argonne National Laboratory, Lemont, Illinois, USA\n",
      "Support contact: help@chameleoncloud.org\n",
      "{\n",
      "  \"status\": \"PENDING\",\n",
      "  \"user_id\": \"02276834a17c4ca205d49eaa8c984eeaefc24c153f8a62bc16e5f880e7cce607\",\n",
      "  \"name\": \"pruthhostsLeaseUC\",\n",
      "  \"end_date\": \"2021-02-17T20:18:00.000000\",\n",
      "  \"reservations\": [\n",
      "    {\n",
      "      \"status\": \"pending\",\n",
      "      \"lease_id\": \"d80d7bd7-154d-40de-a9af-7cbe8076a5b8\",\n",
      "      \"resource_id\": \"58295f8e-6b7c-49b4-bef4-490cd4f81039\",\n",
      "      \"network_id\": \"44b38c44-2a42-4b6d-b129-6c8f1b2a1375\",\n",
      "      \"created_at\": \"2021-02-17 18:18:29\",\n",
      "      \"updated_at\": \"2021-02-17 18:18:30\",\n",
      "      \"required_floatingips\": [],\n",
      "      \"missing_resources\": false,\n",
      "      \"amount\": 1,\n",
      "      \"id\": \"28a6af02-238c-46b2-9293-f9f7221af255\",\n",
      "      \"resource_type\": \"virtual:floatingip\",\n",
      "      \"resources_changed\": false\n",
      "    },\n",
      "    {\n",
      "      \"status\": \"pending\",\n",
      "      \"before_end\": \"default\",\n",
      "      \"lease_id\": \"d80d7bd7-154d-40de-a9af-7cbe8076a5b8\",\n",
      "      \"resource_id\": \"e71073b2-947b-417b-a5d8-52ba87394d5a\",\n",
      "      \"max\": 1,\n",
      "      \"created_at\": \"2021-02-17 18:18:23\",\n",
      "      \"min\": 1,\n",
      "      \"updated_at\": \"2021-02-17 18:18:29\",\n",
      "      \"missing_resources\": false,\n",
      "      \"hypervisor_properties\": \"\",\n",
      "      \"on_start\": \"default\",\n",
      "      \"resource_properties\": \"[\\\"==\\\", \\\"$node_type\\\", \\\"compute_haswell\\\"]\",\n",
      "      \"id\": \"519ffc90-e782-42db-8d83-61e5fddf1b64\",\n",
      "      \"resource_type\": \"physical:host\",\n",
      "      \"resources_changed\": false\n",
      "    }\n",
      "  ],\n",
      "  \"created_at\": \"2021-02-17 18:18:23\",\n",
      "  \"updated_at\": \"2021-02-17 18:18:30\",\n",
      "  \"events\": [\n",
      "    {\n",
      "      \"status\": \"UNDONE\",\n",
      "      \"lease_id\": \"d80d7bd7-154d-40de-a9af-7cbe8076a5b8\",\n",
      "      \"event_type\": \"start_lease\",\n",
      "      \"created_at\": \"2021-02-17 18:18:30\",\n",
      "      \"updated_at\": null,\n",
      "      \"time\": \"2021-02-17T18:19:00.000000\",\n",
      "      \"id\": \"4071574e-449c-4500-8be8-e63327ef4dab\"\n",
      "    },\n",
      "    {\n",
      "      \"status\": \"UNDONE\",\n",
      "      \"lease_id\": \"d80d7bd7-154d-40de-a9af-7cbe8076a5b8\",\n",
      "      \"event_type\": \"end_lease\",\n",
      "      \"created_at\": \"2021-02-17 18:18:30\",\n",
      "      \"updated_at\": null,\n",
      "      \"time\": \"2021-02-17T20:18:00.000000\",\n",
      "      \"id\": \"841aea53-3b6b-42b3-9d04-2909886b6670\"\n",
      "    },\n",
      "    {\n",
      "      \"status\": \"UNDONE\",\n",
      "      \"lease_id\": \"d80d7bd7-154d-40de-a9af-7cbe8076a5b8\",\n",
      "      \"event_type\": \"before_end_lease\",\n",
      "      \"created_at\": \"2021-02-17 18:18:30\",\n",
      "      \"updated_at\": null,\n",
      "      \"time\": \"2021-02-17T18:19:00.000000\",\n",
      "      \"id\": \"b3aef47d-5dd2-47c1-90d4-db3283096731\"\n",
      "    }\n",
      "  ],\n",
      "  \"id\": \"d80d7bd7-154d-40de-a9af-7cbe8076a5b8\",\n",
      "  \"degraded\": false,\n",
      "  \"project_id\": \"ae76673270164b048b59d3bd30676721\",\n",
      "  \"start_date\": \"2021-02-17T18:19:00.000000\",\n",
      "  \"trust_id\": \"081c546b5b4f42f2878acabe047f0026\"\n",
      "}\n",
      "compute_reservation_id: 519ffc90-e782-42db-8d83-61e5fddf1b64\n",
      "floatingip_reservation_id: 28a6af02-238c-46b2-9293-f9f7221af255\n"
     ]
    }
   ],
   "source": [
    "node_type=\"compute_haswell\"\n",
    "\n",
    "#Set site to UC\n",
    "chi.use_site('CHI@UC')    # Optional, defaults to 'CHI@UC'\n",
    "\n",
    "# Set start/end date for lease\n",
    "# Start one minute into future to avoid Blazar thinking lease is in past\n",
    "# due to rounding to closest minute.\n",
    "start_date = (datetime.now(tz=tz.tzutc()) + timedelta(minutes=1)).strftime(BLAZAR_TIME_FORMAT)\n",
    "end_date   = (datetime.now(tz=tz.tzutc()) + timedelta(minutes=120)).strftime(BLAZAR_TIME_FORMAT)\n",
    "\n",
    "server_count=1\n",
    "fip_count=1\n",
    "\n",
    "# Build list of reservations (in this case there is only one reservation)\n",
    "reservation_list = []\n",
    "add_node_reservation(reservation_list, count=server_count, node_type=node_type)\n",
    "add_fip_reservation(reservation_list, count=fip_count)\n",
    "\n",
    "# Create the lease\n",
    "chi.blazar().lease.create(name=uc_lease_name, \n",
    "                            start=start_date,\n",
    "                            end=end_date,\n",
    "                            reservations=reservation_list, events=[])\n",
    "\n",
    "#Get the lease by name\n",
    "uc_lease = get_lease(get_lease_id(uc_lease_name))\n",
    "    \n",
    "#Print the lease info\n",
    "print(json.dumps(uc_lease, indent=2))\n",
    "\n",
    "uc_compute_reservation_id = list(filter(lambda reservation: reservation['resource_type'] == 'physical:host', uc_lease['reservations']))[0]['id']\n",
    "uc_floatingip_reservation_id = list(filter(lambda reservation: reservation['resource_type'] == 'virtual:floatingip', uc_lease['reservations']))[0]['id']\n",
    "\n",
    "print(\"compute_reservation_id: \" + uc_compute_reservation_id)\n",
    "print(\"floatingip_reservation_id: \" + uc_floatingip_reservation_id)"
   ]
  },
  {
   "cell_type": "markdown",
   "metadata": {},
   "source": [
    "#### Create TACC Lease"
   ]
  },
  {
   "cell_type": "code",
   "execution_count": 5,
   "metadata": {},
   "outputs": [],
   "source": [
    "node_type=\"compute_haswell\"\n",
    "\n",
    "#Set site to UC\n",
    "chi.use_site('CHI@TACC')    # Optional, defaults to 'CHI@UC'\n",
    "\n",
    "# Set start/end date for lease\n",
    "# Start one minute into future to avoid Blazar thinking lease is in past\n",
    "# due to rounding to closest minute.\n",
    "start_date = (datetime.now(tz=tz.tzutc()) + timedelta(minutes=1)).strftime(BLAZAR_TIME_FORMAT)\n",
    "end_date   = (datetime.now(tz=tz.tzutc()) + timedelta(days=1)).strftime(BLAZAR_TIME_FORMAT)\n",
    "\n",
    "server_count=1\n",
    "fip_count=1\n",
    "\n",
    "# Build list of reservations (in this case there is only one reservation)\n",
    "reservation_list = []\n",
    "add_node_reservation(reservation_list, count=server_count, node_type=node_type)\n",
    "#add_fip_reservation(reservation_list, count=fip_count)\n",
    "\n",
    "# Create the lease\n",
    "chi.blazar().lease.create(name=tacc_lease_name, \n",
    "                            start=start_date,\n",
    "                            end=end_date,\n",
    "                            reservations=reservation_list, events=[])"
   ]
  },
  {
   "cell_type": "code",
   "execution_count": 6,
   "metadata": {},
   "outputs": [
    {
     "name": "stdout",
     "output_type": "stream",
     "text": [
      "compute_reservation_id: 2e9a1254-8e12-434b-9053-64c8689c5f36\n"
     ]
    }
   ],
   "source": [
    "#Get the lease by name\n",
    "tacc_lease = get_lease(get_lease_id(tacc_lease_name))\n",
    "    \n",
    "#Print the lease info\n",
    "#print(json.dumps(tacc_lease, indent=2))\n",
    "\n",
    "tacc_compute_reservation_id = list(filter(lambda reservation: reservation['resource_type'] == 'physical:host', tacc_lease['reservations']))[0]['id']\n",
    "#tacc_floatingip_reservation_id = list(filter(lambda reservation: reservation['resource_type'] == 'virtual:floatingip', tacc_lease['reservations']))[0]['id']\n",
    "\n",
    "print(\"compute_reservation_id: \" + tacc_compute_reservation_id)\n",
    "#print(\"floatingip_reservation_id: \" + tacc_floatingip_reservation_id)"
   ]
  },
  {
   "cell_type": "markdown",
   "metadata": {},
   "source": [
    "#### Configute the Network"
   ]
  },
  {
   "cell_type": "code",
   "execution_count": null,
   "metadata": {},
   "outputs": [],
   "source": [
    "network = get_network_by_name('network_name')\n",
    "network_id = network['id']\n",
    "\n",
    "print('Network ID: ' + str(network_id))"
   ]
  },
  {
   "cell_type": "code",
   "execution_count": null,
   "metadata": {},
   "outputs": [],
   "source": [
    "subnet = create_subnet(subnet_name, network_id, cidr=DEFAULT_CIDR, gateway_ip=None)\n",
    "router = create_router(router_name, gw_network_name='public')\n",
    "attach_router_to_subnet(router_name=router_name, subnet_name=subnet_name)"
   ]
  },
  {
   "cell_type": "markdown",
   "metadata": {},
   "source": [
    "#### Start the Server"
   ]
  },
  {
   "cell_type": "code",
   "execution_count": 11,
   "metadata": {},
   "outputs": [
    {
     "name": "stdout",
     "output_type": "stream",
     "text": [
      "Now using CHI@UC:\n",
      "URL: https://chi.uc.chameleoncloud.org\n",
      "Location: Argonne National Laboratory, Lemont, Illinois, USA\n",
      "Support contact: help@chameleoncloud.org\n"
     ]
    }
   ],
   "source": [
    "chi.use_site('CHI@UC')  \n",
    "network_name='pruthNet'\n",
    "compute_reservation_id=uc_compute_reservation_id\n",
    "server_name=uc_server_name\n",
    "#create the server\n",
    "server = create_server(server_name, \n",
    "                       compute_reservation_id, \n",
    "                       key_name=key_name, \n",
    "                       network_id=network_id, \n",
    "                       network_name=network_name, \n",
    "                       nics=[], \n",
    "                       image_id=None, \n",
    "                       image_name=image_name, \n",
    "                       flavor_id=None, \n",
    "                       flavor_name=flavor_name, \n",
    "                       count=1)"
   ]
  },
  {
   "cell_type": "code",
   "execution_count": 12,
   "metadata": {},
   "outputs": [
    {
     "name": "stdout",
     "output_type": "stream",
     "text": [
      "Now using CHI@TACC:\n",
      "URL: https://chi.tacc.chameleoncloud.org\n",
      "Location: Austin, Texas, USA\n",
      "Support contact: help@chameleoncloud.org\n"
     ]
    }
   ],
   "source": [
    "chi.use_site('CHI@TACC')  \n",
    "network_name='pruthNet'\n",
    "compute_reservation_id=tacc_compute_reservation_id\n",
    "server_name=tacc_server_name\n",
    "#create the server\n",
    "server = create_server(server_name, \n",
    "                       compute_reservation_id, \n",
    "                       key_name=key_name, \n",
    "                       network_id=network_id, \n",
    "                       network_name=network_name, \n",
    "                       nics=[], \n",
    "                       image_id=None, \n",
    "                       image_name=image_name, \n",
    "                       flavor_id=None, \n",
    "                       flavor_name=flavor_name, \n",
    "                       count=1)"
   ]
  },
  {
   "cell_type": "markdown",
   "metadata": {},
   "source": [
    "#### Associate the Floating IP   (TODO: need to find floating_ip from the reservation that was just made)"
   ]
  },
  {
   "cell_type": "code",
   "execution_count": null,
   "metadata": {},
   "outputs": [],
   "source": [
    "floating_ip = associate_floating_ip(server_name)\n",
    "\n",
    "print('Floating IP: ' + str(floating_ip))"
   ]
  },
  {
   "cell_type": "markdown",
   "metadata": {},
   "source": [
    "#### Delete Server"
   ]
  },
  {
   "cell_type": "code",
   "execution_count": null,
   "metadata": {},
   "outputs": [],
   "source": [
    "delete_server(server['id'])"
   ]
  },
  {
   "cell_type": "markdown",
   "metadata": {},
   "source": [
    "#### De-configure Network"
   ]
  },
  {
   "cell_type": "code",
   "execution_count": null,
   "metadata": {},
   "outputs": [],
   "source": [
    "try:\n",
    "    result = remove_subnet_from_router(router['id'], subnet['id'])\n",
    "except Exception as e:\n",
    "    print(\"remove_subnet_from_router error:\" + str(e))\n",
    "    pass\n",
    "\n",
    "try:\n",
    "    result = delete_router(router['id'])\n",
    "except Exception as e:\n",
    "    print(\"delete_router error: \" + str(e))\n",
    "    pass\n",
    "\n",
    "try:\n",
    "    result = delete_subnet(subnet['id'])\n",
    "except Exception as e:\n",
    "    print(\"delete_subnet error: \" + str(e))\n",
    "    pass\n",
    "\n",
    "try:\n",
    "    result = delete_network(network_id)\n",
    "except Exception as e:\n",
    "    print(\"delete_network error: \" + str(e))\n",
    "    pass"
   ]
  },
  {
   "cell_type": "markdown",
   "metadata": {},
   "source": [
    "#### Release Lease"
   ]
  },
  {
   "cell_type": "code",
   "execution_count": null,
   "metadata": {},
   "outputs": [],
   "source": [
    "delete_lease(lease_name)"
   ]
  },
  {
   "cell_type": "code",
   "execution_count": null,
   "metadata": {},
   "outputs": [],
   "source": []
  }
 ],
 "metadata": {
  "kernelspec": {
   "display_name": "Python 3",
   "language": "python",
   "name": "python3"
  },
  "language_info": {
   "codemirror_mode": {
    "name": "ipython",
    "version": 3
   },
   "file_extension": ".py",
   "mimetype": "text/x-python",
   "name": "python",
   "nbconvert_exporter": "python",
   "pygments_lexer": "ipython3",
   "version": "3.8.3"
  }
 },
 "nbformat": 4,
 "nbformat_minor": 4
}
