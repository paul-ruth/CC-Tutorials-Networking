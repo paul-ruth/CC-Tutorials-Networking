{
 "cells": [
  {
   "cell_type": "markdown",
   "metadata": {},
   "source": [
    "<div class=\"alert alert-info\">\n",
    "\n",
    "**Note:**    WARNING: This notebook uses a new, early release Chameleon python API. The notebook and API will likely be updated without notice. To request a new python feature, please create a help desk ticket. \n",
    "    \n",
    "\n",
    "</div>\n",
    "\n",
    "## Tutorial: Stitching Networks between Chameleon Sites\n",
    "\n",
    "This notebook demonstrates how to use ExoGENI to stitch networks between Chameleon sites. It will walk through reserving and configuring stitchable networks on each Chameleon site and using the xoStitch tool to create a layer2 circuit between the networks. \n",
    "\n",
    "#### Modules \n",
    "\n",
    "- [Reserve Mulitple Resources](../modules-python/reservations/reserve_multiple_resources.ipynb)\n",
    "- [Get Lease by Name](../modules-python/reservations/get_lease_by_name.ipynb)\n",
    "- [Get Reservation](../modules-python/reservations/get_reservations_from_lease.ipynb)\n",
    "- [Create Server](../modules-python/servers/create_server.ipynb)\n",
    "- [Delete Server](../modules-python/servers/delete_server.ipynb)\n",
    "- [Create Network](../modules-python/network/create_network.ipynb)\n",
    "- [Delete Network](../modules-python/network/delete_network.ipynb)\n",
    "- [Create Subnet](../modules-python/network/create_subnet.ipynb)\n",
    "- [Delete Subnet](../modules-python/network/delete_subnet.ipynb)\n",
    "- [Get Network by Name](../modules-python/network/get_network_by_name.ipynb)\n",
    "\n",
    "\n",
    "\n",
    "\n"
   ]
  },
  {
   "cell_type": "markdown",
   "metadata": {},
   "source": [
    "## Tutorial: "
   ]
  },
  {
   "cell_type": "markdown",
   "metadata": {},
   "source": [
    "#### Configure the Environment\n",
    "\n",
    "Import the chi example API calls, set the project name and region, and set various names and attributes to use in the tutorial. "
   ]
  },
  {
   "cell_type": "code",
   "execution_count": 1,
   "metadata": {},
   "outputs": [],
   "source": [
    "import json\n",
    "import os\n",
    "import chi\n",
    "\n",
    "from chi.server import *\n",
    "from chi.lease import *\n",
    "from chi.network import *\n",
    "\n",
    "from datetime import datetime, timedelta\n",
    "from dateutil import tz\n",
    "\n",
    "BLAZAR_TIME_FORMAT = '%Y-%m-%d %H:%M'\n",
    "VERBOSE=False  #Set to true for extra output\n",
    "\n",
    "#Config with your project and site\n",
    "chi.set('project_name', 'CH-822154') # Replace with your project name\n",
    "\n",
    "#Insert keypair name\n",
    "key_name = 'my_chameleon_key'  # Change to your keypair\n",
    "\n",
    "#GENI Pem file\n",
    "geni_pem_file='/home/pruth/work/geni-pruth.pem'\n",
    "\n",
    "# Tip: Name resources with your username for easier identification\n",
    "username = os.getenv(\"USER\")\n",
    "server_name = username+'Server'\n",
    "network_name = username+'Net'\n",
    "subnet_name = username+'subnet'\n",
    "router_name = username+'Router'\n",
    "lease_name = username+'Lease'\n",
    "\n",
    "#Server Config\n",
    "image_name='CC-CentOS7'\n",
    "flavor_name='baremetal'\n",
    "node_type=\"compute_haswell\"\n",
    "server_count=1\n",
    "\n",
    "#Network Config\n",
    "physical_network='exogeni'\n",
    "cidr='192.168.42.0/24'"
   ]
  },
  {
   "cell_type": "markdown",
   "metadata": {},
   "source": [
    "## Create Chicago Network and Server"
   ]
  },
  {
   "cell_type": "markdown",
   "metadata": {},
   "source": [
    "#### Create a Lease at Chicago"
   ]
  },
  {
   "cell_type": "code",
   "execution_count": 2,
   "metadata": {},
   "outputs": [
    {
     "name": "stdout",
     "output_type": "stream",
     "text": [
      "Now using CHI@UC:\n",
      "URL: https://chi.uc.chameleoncloud.org\n",
      "Location: Argonne National Laboratory, Lemont, Illinois, USA\n",
      "Support contact: help@chameleoncloud.org\n"
     ]
    },
    {
     "data": {
      "text/plain": [
       "{'status': 'PENDING',\n",
       " 'user_id': '02276834a17c4ca205d49eaa8c984eeaefc24c153f8a62bc16e5f880e7cce607',\n",
       " 'name': 'pruthLease',\n",
       " 'end_date': '2021-02-18T18:11:00.000000',\n",
       " 'reservations': [{'status': 'pending',\n",
       "   'lease_id': '0480135d-6c6f-46e3-9ea3-8542cbb5c9be',\n",
       "   'resource_id': '24409eca-3d34-4cee-9532-7815bd4b808a',\n",
       "   'created_at': '2021-02-17 18:11:48',\n",
       "   'updated_at': '2021-02-17 18:11:48',\n",
       "   'missing_resources': False,\n",
       "   'id': 'f5c75d98-3115-4889-b2bb-3e5acfd22f95',\n",
       "   'resource_type': 'network',\n",
       "   'resources_changed': False}],\n",
       " 'created_at': '2021-02-17 18:11:48',\n",
       " 'updated_at': '2021-02-17 18:11:48',\n",
       " 'events': [{'status': 'UNDONE',\n",
       "   'lease_id': '0480135d-6c6f-46e3-9ea3-8542cbb5c9be',\n",
       "   'event_type': 'end_lease',\n",
       "   'created_at': '2021-02-17 18:11:48',\n",
       "   'updated_at': None,\n",
       "   'time': '2021-02-18T18:11:00.000000',\n",
       "   'id': '23dd4a22-6c5e-494f-af89-63c7df197a13'},\n",
       "  {'status': 'UNDONE',\n",
       "   'lease_id': '0480135d-6c6f-46e3-9ea3-8542cbb5c9be',\n",
       "   'event_type': 'start_lease',\n",
       "   'created_at': '2021-02-17 18:11:48',\n",
       "   'updated_at': None,\n",
       "   'time': '2021-02-17T18:12:00.000000',\n",
       "   'id': '39dcada7-c616-420e-ae61-eec818753c33'},\n",
       "  {'status': 'UNDONE',\n",
       "   'lease_id': '0480135d-6c6f-46e3-9ea3-8542cbb5c9be',\n",
       "   'event_type': 'before_end_lease',\n",
       "   'created_at': '2021-02-17 18:11:48',\n",
       "   'updated_at': None,\n",
       "   'time': '2021-02-17T18:12:00.000000',\n",
       "   'id': '9a7cf4f5-950a-4385-97cb-7b1f18735d9e'}],\n",
       " 'id': '0480135d-6c6f-46e3-9ea3-8542cbb5c9be',\n",
       " 'degraded': False,\n",
       " 'project_id': 'ae76673270164b048b59d3bd30676721',\n",
       " 'start_date': '2021-02-17T18:12:00.000000',\n",
       " 'trust_id': '7fe707392b35408093442da95dd08939'}"
      ]
     },
     "execution_count": 2,
     "metadata": {},
     "output_type": "execute_result"
    }
   ],
   "source": [
    "#Set the region\n",
    "chi.use_site('CHI@UC')    # Optional, defaults to 'CHI@UC'\n",
    "\n",
    "# Set start/end date for lease\n",
    "# Start one minute into future to avoid Blazar thinking lease is in past\n",
    "# due to rounding to closest minute.\n",
    "start_date = (datetime.now(tz=tz.tzutc()) + timedelta(minutes=1)).strftime(BLAZAR_TIME_FORMAT)\n",
    "end_date   = (datetime.now(tz=tz.tzutc()) + timedelta(days=1)).strftime(BLAZAR_TIME_FORMAT)\n",
    "\n",
    "# Build list of reservations (in this case there is only one reservation)\n",
    "reservation_list = []\n",
    "#add_node_reservation(reservation_list, count=server_count, node_type=node_type)\n",
    "add_network_reservation(reservation_list, network_name=network_name, physical_network=physical_network)\n",
    "#add_fip_reservation(reservation_list, count=1)\n",
    "\n",
    "# Create the lease\n",
    "chi.blazar().lease.create(name=lease_name, \n",
    "                            start=start_date,\n",
    "                            end=end_date,\n",
    "                            reservations=reservation_list, events=[])"
   ]
  },
  {
   "cell_type": "code",
   "execution_count": 3,
   "metadata": {},
   "outputs": [
    {
     "name": "stdout",
     "output_type": "stream",
     "text": [
      "uc_lease: pruthLease, 0480135d-6c6f-46e3-9ea3-8542cbb5c9be\n"
     ]
    }
   ],
   "source": [
    "#Get the lease by name\n",
    "uc_lease = get_lease(get_lease_id(lease_name))\n",
    "    \n",
    "#Print the lease info\n",
    "if VERBOSE:\n",
    "    print(json.dumps(uc_lease, indent=2))\n",
    "else:\n",
    "    print('uc_lease: ' + uc_lease['name'] + ', ' + uc_lease['id'])"
   ]
  },
  {
   "cell_type": "markdown",
   "metadata": {},
   "source": [
    "#### Get the Reservations\n",
    "\n",
    "Each lease contains one or more reservations. The individual reservation IDs are required to instantiate resources. You can [get the lease](../modules-python/reservations/get_lease_by_name.ipynb) and separate the reservation IDs for compute, network, and floating IPs using the technique below."
   ]
  },
  {
   "cell_type": "code",
   "execution_count": 6,
   "metadata": {},
   "outputs": [
    {
     "name": "stdout",
     "output_type": "stream",
     "text": [
      "uc_network_reservation_id: f5c75d98-3115-4889-b2bb-3e5acfd22f95\n"
     ]
    }
   ],
   "source": [
    "#Get the lease by name\n",
    "uc_lease = get_lease(get_lease_id(lease_name))\n",
    "\n",
    "#uc_compute_reservation_id = list(filter(lambda reservation: reservation['resource_type'] == 'physical:host', uc_lease['reservations']))[0]['id']\n",
    "uc_network_reservation_id = list(filter(lambda reservation: reservation['resource_type'] == 'network', uc_lease['reservations']))[0]['id']\n",
    "#uc_floatingip_reservation_id = list(filter(lambda reservation: reservation['resource_type'] == 'virtual:floatingip', uc_lease['reservations']))[0]['id']\n",
    "\n",
    "#print(\"uc_compute_reservation_id: \" + uc_compute_reservation_id)\n",
    "print(\"uc_network_reservation_id: \" + uc_network_reservation_id)\n",
    "#print(\"uc_floatingip_reservation_id: \" + uc_floatingip_reservation_id)"
   ]
  },
  {
   "cell_type": "markdown",
   "metadata": {},
   "source": [
    "#### Get the Network\n",
    "\n",
    "Getting the network is not required for the remainder of the tutorial. However, it is a good test to see if your network reservation has become active. The [get_network_by_name](../modules-python/network/get_network_by_name.ipynb) call will fail if a network with that name does not yet exits. It will also fail if a network with the same name already exists (likely from a previous run of this notebook)."
   ]
  },
  {
   "cell_type": "code",
   "execution_count": 8,
   "metadata": {},
   "outputs": [
    {
     "name": "stdout",
     "output_type": "stream",
     "text": [
      "Now using CHI@UC:\n",
      "URL: https://chi.uc.chameleoncloud.org\n",
      "Location: Argonne National Laboratory, Lemont, Illinois, USA\n",
      "Support contact: help@chameleoncloud.org\n",
      "uc_network: pruthNet, 17dc0141-d3d4-4315-9a6c-2fe9808a138b\n",
      "uc segmenation ID/VLAN: 3291\n"
     ]
    }
   ],
   "source": [
    "chi.use_site('CHI@UC')    # Optional, defaults to 'CHI@UC'\n",
    "\n",
    "#Get the network\n",
    "uc_network = get_network(get_network_id(network_name))\n",
    "uc_network_id = uc_network['id']\n",
    "uc_network_vlan = uc_network['provider:segmentation_id']\n",
    "\n",
    "if VERBOSE:\n",
    "    print(json.dumps(uc_network, indent=2))\n",
    "else:\n",
    "    print('uc_network: ' + uc_network['name'] + ', ' + uc_network['id'])\n",
    "    print('uc segmenation ID/VLAN: ' + str(uc_network_vlan))"
   ]
  },
  {
   "cell_type": "markdown",
   "metadata": {},
   "source": [
    "#### Add a subnet\n",
    "\n",
    "[Adds a subnet](../modules-python/network/add_subnet.ipynb) to the reserved network. "
   ]
  },
  {
   "cell_type": "code",
   "execution_count": 9,
   "metadata": {},
   "outputs": [],
   "source": [
    "subnet = create_subnet(subnet_name, uc_network_id, cidr=cidr)\n",
    "#print(json.dumps(subnet, indent=2))"
   ]
  },
  {
   "cell_type": "code",
   "execution_count": 10,
   "metadata": {},
   "outputs": [
    {
     "name": "stdout",
     "output_type": "stream",
     "text": [
      "Subnet: pruthsubnet, ff346dfb-f9ce-4f23-979e-88ed1d85d463\n"
     ]
    }
   ],
   "source": [
    "if VERBOSE:\n",
    "    print(json.dumps(subnet, indent=2))\n",
    "else:\n",
    "    print('Subnet: ' + subnet['name'] + ', ' + subnet['id'])"
   ]
  },
  {
   "cell_type": "markdown",
   "metadata": {},
   "source": [
    "#### Add a Router\n",
    "\n",
    "TODO: add links here"
   ]
  },
  {
   "cell_type": "code",
   "execution_count": 11,
   "metadata": {},
   "outputs": [
    {
     "name": "stdout",
     "output_type": "stream",
     "text": [
      "Router: pruthRouter, d9622757-d1c8-4914-8167-a67e0b826b26\n"
     ]
    }
   ],
   "source": [
    "router = create_router(router_name, gw_network_name='public')\n",
    "#print(json.dumps(router, indent=2))\n",
    "\n",
    "if VERBOSE:\n",
    "    print(json.dumps(router, indent=2))\n",
    "else:\n",
    "    print('Router: ' + router['name'] + ', ' + router['id'])"
   ]
  },
  {
   "cell_type": "markdown",
   "metadata": {},
   "source": [
    "#### Attach the Router and Subnet\n",
    "\n",
    "TODO: Add links here"
   ]
  },
  {
   "cell_type": "code",
   "execution_count": 12,
   "metadata": {},
   "outputs": [
    {
     "data": {
      "text/plain": [
       "{'network_id': '17dc0141-d3d4-4315-9a6c-2fe9808a138b',\n",
       " 'tenant_id': 'ae76673270164b048b59d3bd30676721',\n",
       " 'subnet_id': 'ff346dfb-f9ce-4f23-979e-88ed1d85d463',\n",
       " 'subnet_ids': ['ff346dfb-f9ce-4f23-979e-88ed1d85d463'],\n",
       " 'port_id': '59bb6aa7-eb2a-4aae-81b7-ad40783dbf66',\n",
       " 'id': 'd9622757-d1c8-4914-8167-a67e0b826b26'}"
      ]
     },
     "execution_count": 12,
     "metadata": {},
     "output_type": "execute_result"
    }
   ],
   "source": [
    "add_subnet_to_router(get_router_id(router_name), get_subnet_id(subnet_name))"
   ]
  },
  {
   "cell_type": "markdown",
   "metadata": {},
   "source": [
    "## Create TACC Network and Server"
   ]
  },
  {
   "cell_type": "markdown",
   "metadata": {},
   "source": [
    "#### Create a Lease at Chicago"
   ]
  },
  {
   "cell_type": "code",
   "execution_count": 13,
   "metadata": {},
   "outputs": [
    {
     "name": "stdout",
     "output_type": "stream",
     "text": [
      "Now using CHI@TACC:\n",
      "URL: https://chi.tacc.chameleoncloud.org\n",
      "Location: Austin, Texas, USA\n",
      "Support contact: help@chameleoncloud.org\n"
     ]
    },
    {
     "data": {
      "text/plain": [
       "{'status': 'PENDING',\n",
       " 'user_id': 'c4733c8a0aa37ceb846208d989674028cddf7e404930d6fd63eba6546d8884a6',\n",
       " 'name': 'pruthLease',\n",
       " 'end_date': '2021-02-18T18:14:00.000000',\n",
       " 'reservations': [{'status': 'pending',\n",
       "   'lease_id': 'e97cb69a-5ab5-4d5f-88a8-e4606c64a161',\n",
       "   'resource_id': '2939de2e-bc11-4f0a-8689-04490dab586c',\n",
       "   'created_at': '2021-02-17 18:14:33',\n",
       "   'updated_at': '2021-02-17 18:14:33',\n",
       "   'missing_resources': False,\n",
       "   'id': '61e9d832-b35c-40a0-b2de-8fcf05be0a81',\n",
       "   'resource_type': 'network',\n",
       "   'resources_changed': False}],\n",
       " 'created_at': '2021-02-17 18:14:33',\n",
       " 'updated_at': '2021-02-17 18:14:33',\n",
       " 'events': [{'status': 'UNDONE',\n",
       "   'lease_id': 'e97cb69a-5ab5-4d5f-88a8-e4606c64a161',\n",
       "   'event_type': 'end_lease',\n",
       "   'created_at': '2021-02-17 18:14:33',\n",
       "   'updated_at': None,\n",
       "   'time': '2021-02-18T18:14:00.000000',\n",
       "   'id': '17a9af86-481a-443f-a81d-243bb485bd62'},\n",
       "  {'status': 'UNDONE',\n",
       "   'lease_id': 'e97cb69a-5ab5-4d5f-88a8-e4606c64a161',\n",
       "   'event_type': 'start_lease',\n",
       "   'created_at': '2021-02-17 18:14:33',\n",
       "   'updated_at': None,\n",
       "   'time': '2021-02-17T18:15:00.000000',\n",
       "   'id': '9342a1e4-be5f-4ba6-8ab8-b5e73adcf002'},\n",
       "  {'status': 'UNDONE',\n",
       "   'lease_id': 'e97cb69a-5ab5-4d5f-88a8-e4606c64a161',\n",
       "   'event_type': 'before_end_lease',\n",
       "   'created_at': '2021-02-17 18:14:33',\n",
       "   'updated_at': None,\n",
       "   'time': '2021-02-17T18:15:00.000000',\n",
       "   'id': 'fef6312b-3e8e-47a6-8a2a-ef0338f75ca4'}],\n",
       " 'id': 'e97cb69a-5ab5-4d5f-88a8-e4606c64a161',\n",
       " 'degraded': False,\n",
       " 'project_id': 'a400724e818d40cbba1a5c6b5e714462',\n",
       " 'start_date': '2021-02-17T18:15:00.000000',\n",
       " 'trust_id': 'eae40d66992a4e948d7b195f1284a015'}"
      ]
     },
     "execution_count": 13,
     "metadata": {},
     "output_type": "execute_result"
    }
   ],
   "source": [
    "node_type=\"compute_skylake\"\n",
    "\n",
    "#Set the region\n",
    "chi.use_site('CHI@TACC')    # Optional, defaults to 'CHI@UC'\n",
    "\n",
    "# Set start/end date for lease\n",
    "# Start one minute into future to avoid Blazar thinking lease is in past\n",
    "# due to rounding to closest minute.\n",
    "start_date = (datetime.now(tz=tz.tzutc()) + timedelta(minutes=1)).strftime(BLAZAR_TIME_FORMAT)\n",
    "end_date   = (datetime.now(tz=tz.tzutc()) + timedelta(days=1)).strftime(BLAZAR_TIME_FORMAT)\n",
    "\n",
    "# Build list of reservations (in this case there is only one reservation)\n",
    "reservation_list = []\n",
    "#add_node_reservation(reservation_list, count=server_count, node_type=node_type)\n",
    "add_network_reservation(reservation_list, network_name=network_name, physical_network=physical_network)\n",
    "#add_fip_reservation(reservation_list, count=1)\n",
    "\n",
    "# Create the lease\n",
    "chi.blazar().lease.create(name=lease_name, \n",
    "                            start=start_date,\n",
    "                            end=end_date,\n",
    "                            reservations=reservation_list, events=[])"
   ]
  },
  {
   "cell_type": "code",
   "execution_count": 14,
   "metadata": {},
   "outputs": [
    {
     "name": "stdout",
     "output_type": "stream",
     "text": [
      "tacc_lease: pruthLease, e97cb69a-5ab5-4d5f-88a8-e4606c64a161\n"
     ]
    }
   ],
   "source": [
    "#Get the lease by name\n",
    "tacc_lease = get_lease(get_lease_id(lease_name))\n",
    "    \n",
    "#Print the lease info\n",
    "if VERBOSE:\n",
    "    print(json.dumps(tacc_lease, indent=2))\n",
    "else:\n",
    "    print('tacc_lease: ' + tacc_lease['name'] + ', ' + tacc_lease['id'])"
   ]
  },
  {
   "cell_type": "markdown",
   "metadata": {},
   "source": [
    "#### Get the Reservations\n",
    "\n",
    "Each lease contains one or more reservations. The individual reservation IDs are required to instantiate resources. You can [get the lease](../modules-python/reservations/get_lease_by_name.ipynb) and separate the reservation IDs for compute, network, and floating IPs using the technique below."
   ]
  },
  {
   "cell_type": "code",
   "execution_count": 15,
   "metadata": {},
   "outputs": [
    {
     "name": "stdout",
     "output_type": "stream",
     "text": [
      "tacc_network_reservation_id: 61e9d832-b35c-40a0-b2de-8fcf05be0a81\n"
     ]
    }
   ],
   "source": [
    "#Get the lease by name\n",
    "tacc_lease = get_lease(get_lease_id(lease_name))\n",
    "\n",
    "#tacc_compute_reservation_id = list(filter(lambda reservation: reservation['resource_type'] == 'physical:host', tacc_lease['reservations']))[0]['id']\n",
    "tacc_network_reservation_id = list(filter(lambda reservation: reservation['resource_type'] == 'network', tacc_lease['reservations']))[0]['id']\n",
    "#tacc_floatingip_reservation_id = list(filter(lambda reservation: reservation['resource_type'] == 'virtual:floatingip', tacc_lease['reservations']))[0]['id']\n",
    "\n",
    "#print(\"tacc_compute_reservation_id: \" + tacc_compute_reservation_id)\n",
    "print(\"tacc_network_reservation_id: \" + tacc_network_reservation_id)\n",
    "#print(\"tacc_floatingip_reservation_id: \" + tacc_floatingip_reservation_id)"
   ]
  },
  {
   "cell_type": "markdown",
   "metadata": {},
   "source": [
    "#### Get the Network\n",
    "\n",
    "Getting the network is not required for the remainder of the tutorial. However, it is a good test to see if your network reservation has become active. The [get_network_by_name](../modules-python/network/get_network_by_name.ipynb) call will fail if a network with that name does not yet exits. It will also fail if a network with the same name already exists (likely from a previous run of this notebook)."
   ]
  },
  {
   "cell_type": "code",
   "execution_count": 16,
   "metadata": {},
   "outputs": [
    {
     "name": "stdout",
     "output_type": "stream",
     "text": [
      "Now using CHI@TACC:\n",
      "URL: https://chi.tacc.chameleoncloud.org\n",
      "Location: Austin, Texas, USA\n",
      "Support contact: help@chameleoncloud.org\n",
      "tacc_network: pruthNet, a01d6fb4-89a9-456d-a4bb-aa3a8c94c354\n",
      "tacc segmenation ID/VLAN: 3503\n"
     ]
    }
   ],
   "source": [
    "chi.use_site('CHI@TACC')    # Optional, defaults to 'CHI@UC'\n",
    "\n",
    "#Get the network\n",
    "tacc_network = get_network(get_network_id(network_name))\n",
    "tacc_network_id = tacc_network['id']\n",
    "tacc_network_vlan = tacc_network['provider:segmentation_id']\n",
    "\n",
    "if VERBOSE:\n",
    "    print(json.dumps(tacc_network, indent=2))\n",
    "else:\n",
    "    print('tacc_network: ' + tacc_network['name'] + ', ' + tacc_network['id'])\n",
    "    print('tacc segmenation ID/VLAN: ' + str(tacc_network_vlan))"
   ]
  },
  {
   "cell_type": "markdown",
   "metadata": {},
   "source": [
    "#### Add a subnet\n",
    "\n",
    "[Adds a subnet](../modules-python/network/add_subnet.ipynb) to the reserved network. "
   ]
  },
  {
   "cell_type": "code",
   "execution_count": 17,
   "metadata": {},
   "outputs": [],
   "source": [
    "subnet = create_subnet(subnet_name, tacc_network_id, cidr=cidr)\n",
    "#print(json.dumps(subnet, indent=2))"
   ]
  },
  {
   "cell_type": "code",
   "execution_count": 18,
   "metadata": {},
   "outputs": [
    {
     "name": "stdout",
     "output_type": "stream",
     "text": [
      "Subnet: pruthsubnet, 9f94c756-1d8a-42b7-abe7-24c8ff02cb31\n"
     ]
    }
   ],
   "source": [
    "if VERBOSE:\n",
    "    print(json.dumps(subnet, indent=2))\n",
    "else:\n",
    "    print('Subnet: ' + subnet['name'] + ', ' + subnet['id'])"
   ]
  },
  {
   "cell_type": "markdown",
   "metadata": {},
   "source": [
    "#### Add a Router\n",
    "\n",
    "TODO: add links here"
   ]
  },
  {
   "cell_type": "code",
   "execution_count": 19,
   "metadata": {},
   "outputs": [
    {
     "name": "stdout",
     "output_type": "stream",
     "text": [
      "Router: pruthRouter, a71fb8c6-16d1-4223-9e04-22336307397d\n"
     ]
    }
   ],
   "source": [
    "router = create_router(router_name, gw_network_name='public')\n",
    "#print(json.dumps(router, indent=2))\n",
    "\n",
    "if VERBOSE:\n",
    "    print(json.dumps(router, indent=2))\n",
    "else:\n",
    "    print('Router: ' + router['name'] + ', ' + router['id'])"
   ]
  },
  {
   "cell_type": "markdown",
   "metadata": {},
   "source": [
    "#### Attach the Router and Subnet\n",
    "\n",
    "TODO: Add links here"
   ]
  },
  {
   "cell_type": "code",
   "execution_count": 20,
   "metadata": {},
   "outputs": [
    {
     "data": {
      "text/plain": [
       "{'network_id': 'a01d6fb4-89a9-456d-a4bb-aa3a8c94c354',\n",
       " 'tenant_id': 'a400724e818d40cbba1a5c6b5e714462',\n",
       " 'subnet_id': '9f94c756-1d8a-42b7-abe7-24c8ff02cb31',\n",
       " 'subnet_ids': ['9f94c756-1d8a-42b7-abe7-24c8ff02cb31'],\n",
       " 'port_id': 'a9c21e1d-687b-4dca-bcd7-d16376b03201',\n",
       " 'id': 'a71fb8c6-16d1-4223-9e04-22336307397d'}"
      ]
     },
     "execution_count": 20,
     "metadata": {},
     "output_type": "execute_result"
    }
   ],
   "source": [
    "add_subnet_to_router(get_router_id(router_name), get_subnet_id(subnet_name))"
   ]
  },
  {
   "cell_type": "markdown",
   "metadata": {},
   "source": [
    "## Start the Servers"
   ]
  },
  {
   "cell_type": "markdown",
   "metadata": {},
   "source": [
    "#### Start the UC Server\n",
    "\n",
    "Use the compute_reservation_id to [create the server](../modules-python/servers/create_server.ipynb)."
   ]
  },
  {
   "cell_type": "code",
   "execution_count": null,
   "metadata": {},
   "outputs": [],
   "source": [
    "chi.use_site('CHI@UC')  \n",
    "#create the server\n",
    "server = create_server(server_name, \n",
    "                       reservation_id=uc_compute_reservation_id, \n",
    "                       key_name=key_name, \n",
    "                       network_name=network_name, \n",
    "                       image_name=image_name, \n",
    "                       flavor_name=flavor_name)\n"
   ]
  },
  {
   "cell_type": "markdown",
   "metadata": {},
   "source": [
    "#### Associate the Floating IP   \n",
    "TODO: need to find floating_ip from the reservation that was just made"
   ]
  },
  {
   "cell_type": "code",
   "execution_count": null,
   "metadata": {},
   "outputs": [],
   "source": [
    "chi.use_site('CHI@UC')  \n",
    "floating_ip = associate_floating_ip(server_name)\n",
    "\n",
    "print('Floating IP: ' + str(floating_ip))"
   ]
  },
  {
   "cell_type": "markdown",
   "metadata": {},
   "source": [
    "#### Start the TACC Server\n",
    "\n",
    "Use the compute_reservation_id to [create the server](../modules-python/servers/create_server.ipynb)."
   ]
  },
  {
   "cell_type": "code",
   "execution_count": null,
   "metadata": {},
   "outputs": [],
   "source": [
    "chi.use_site('CHI@TACC')\n",
    "\n",
    "print(\"server_name \" + server_name)\n",
    "print(\"tacc_compute_reservation_id \" + tacc_compute_reservation_id)\n",
    "print(\"key_name \" + key_name) \n",
    "print(\"network_name \" + network_name)\n",
    "print(\"image_name \" + image_name)\n",
    "print(\"flavor_name \" + flavor_name)\n",
    "\n",
    "#create the server\n",
    "server = create_server(server_name, \n",
    "                       reservation_id=tacc_compute_reservation_id, \n",
    "                       key_name=key_name, \n",
    "                       network_name=network_name, \n",
    "                       image_name=image_name, \n",
    "                       flavor_name=flavor_name)\n"
   ]
  },
  {
   "cell_type": "markdown",
   "metadata": {},
   "source": [
    "#### Associate the Floating IP   \n",
    "TODO: need to find floating_ip from the reservation that was just made"
   ]
  },
  {
   "cell_type": "code",
   "execution_count": null,
   "metadata": {},
   "outputs": [],
   "source": [
    "chi.use_site('CHI@TACC')  \n",
    "\n",
    "floating_ip = associate_floating_ip(server_name)\n",
    "\n",
    "print('Floating IP: ' + str(floating_ip))"
   ]
  },
  {
   "cell_type": "markdown",
   "metadata": {},
   "source": [
    "## Stitch the Circuit using ExoGENI\n",
    "\n",
    "Note: The ExoGENI\n",
    "steps require a valid GENI certificate at the path specified and a public/private keypair in ~/.ssh (run ssh-keygen with default inputs)"
   ]
  },
  {
   "cell_type": "markdown",
   "metadata": {},
   "source": [
    "#### Create the Circuit"
   ]
  },
  {
   "cell_type": "code",
   "execution_count": 21,
   "metadata": {},
   "outputs": [
    {
     "name": "stdout",
     "output_type": "stream",
     "text": [
      "uc_vlan  3291 , tacc_vlan  3503 , geni_pem  /home/pruth/work/geni-pruth.pem\n",
      "Opening certificate /home/pruth/work/geni-pruth.pem and key /home/pruth/work/geni-pruth.pem\n"
     ]
    },
    {
     "name": "stderr",
     "output_type": "stream",
     "text": [
      "log4j:WARN No appenders could be found for logger (org.renci.ahab.libndl.LIBNDL).\n",
      "log4j:WARN Please initialize the log4j system properly.\n"
     ]
    }
   ],
   "source": [
    "%%script env uc_vlan=\"$uc_network_vlan\" tacc_vlan=\"$tacc_network_vlan\" geni_pem=\"$geni_pem_file\" bash\n",
    "\n",
    "echo 'uc_vlan ' $uc_vlan ', tacc_vlan ' $tacc_vlan ', geni_pem ' $geni_pem\n",
    "xoStitch create -sp1 uc -vlan1 $uc_vlan -sp2 tacc -vlan2 $tacc_vlan -c $geni_pem"
   ]
  },
  {
   "cell_type": "markdown",
   "metadata": {},
   "source": [
    "#### Check the Status of the Circuit"
   ]
  },
  {
   "cell_type": "code",
   "execution_count": null,
   "metadata": {},
   "outputs": [],
   "source": [
    "%%script env uc_vlan=\"$uc_network_vlan\" tacc_vlan=\"$tacc_network_vlan\" geni_pem=\"$geni_pem_file\" bash\n",
    "\n",
    "echo 'uc_vlan ' $uc_vlan ', tacc_vlan ' $tacc_vlan ', geni_pem ' $geni_pem\n",
    "xoStitch status -sp1 uc -vlan1 $uc_vlan -sp2 tacc -vlan2 $tacc_vlan -c $geni_pem"
   ]
  },
  {
   "cell_type": "markdown",
   "metadata": {},
   "source": [
    "## Clean Up Resources"
   ]
  },
  {
   "cell_type": "markdown",
   "metadata": {},
   "source": [
    "### Delete Stitched Circuit using ExoGENI"
   ]
  },
  {
   "cell_type": "code",
   "execution_count": null,
   "metadata": {},
   "outputs": [],
   "source": [
    "%%script env uc_vlan=\"$uc_network_vlan\" tacc_vlan=\"$tacc_network_vlan\" geni_pem=\"$geni_pem_file\" bash\n",
    "\n",
    "echo 'uc_vlan ' $uc_vlan ', tacc_vlan ' $tacc_vlan ', geni_pem ' $geni_pem\n",
    "xoStitch delete -sp1 uc -vlan1 $uc_vlan -sp2 tacc -vlan2 $tacc_vlan -c $geni_pem"
   ]
  },
  {
   "cell_type": "markdown",
   "metadata": {},
   "source": [
    "### Delete TACC Resources\n",
    "\n",
    "[Delete the server](../modules-python/servers/delete_server.ipynb) using its name."
   ]
  },
  {
   "cell_type": "code",
   "execution_count": null,
   "metadata": {},
   "outputs": [],
   "source": [
    "chi.use_site('region_name', 'CHI@TACC')"
   ]
  },
  {
   "cell_type": "code",
   "execution_count": null,
   "metadata": {},
   "outputs": [],
   "source": [
    "delete_server_by_name(server_name)"
   ]
  },
  {
   "cell_type": "markdown",
   "metadata": {},
   "source": [
    "#### De-configure Network\n",
    "TODO: break up into steps"
   ]
  },
  {
   "cell_type": "code",
   "execution_count": null,
   "metadata": {},
   "outputs": [],
   "source": [
    "detach_router_by_name(router_name=router_name, subnet_name=subnet_name)"
   ]
  },
  {
   "cell_type": "code",
   "execution_count": null,
   "metadata": {},
   "outputs": [],
   "source": [
    "delete_router_by_name(router_name)"
   ]
  },
  {
   "cell_type": "code",
   "execution_count": null,
   "metadata": {},
   "outputs": [],
   "source": [
    "delete_subnet_by_name(subnet_name)"
   ]
  },
  {
   "cell_type": "code",
   "execution_count": null,
   "metadata": {},
   "outputs": [],
   "source": [
    "delete_network_by_name(network_name)"
   ]
  },
  {
   "cell_type": "markdown",
   "metadata": {},
   "source": [
    "#### Release Lease"
   ]
  },
  {
   "cell_type": "code",
   "execution_count": null,
   "metadata": {},
   "outputs": [],
   "source": [
    "delete_lease_by_name(lease_name)"
   ]
  },
  {
   "cell_type": "markdown",
   "metadata": {},
   "source": [
    "### Delete UC Resources\n",
    "\n",
    "[Delete the server](../modules-python/servers/delete_server.ipynb) using its name."
   ]
  },
  {
   "cell_type": "code",
   "execution_count": null,
   "metadata": {},
   "outputs": [],
   "source": [
    "chi.use_site('region_name', 'CHI@UC')"
   ]
  },
  {
   "cell_type": "code",
   "execution_count": null,
   "metadata": {},
   "outputs": [],
   "source": [
    "delete_server_by_name(server_name)"
   ]
  },
  {
   "cell_type": "markdown",
   "metadata": {},
   "source": [
    "#### De-configure Network\n",
    "TODO: break up into steps"
   ]
  },
  {
   "cell_type": "code",
   "execution_count": null,
   "metadata": {},
   "outputs": [],
   "source": [
    "detach_router_by_name(router_name=router_name, subnet_name=subnet_name)"
   ]
  },
  {
   "cell_type": "code",
   "execution_count": null,
   "metadata": {},
   "outputs": [],
   "source": [
    "delete_router_by_name(router_name)"
   ]
  },
  {
   "cell_type": "code",
   "execution_count": null,
   "metadata": {},
   "outputs": [],
   "source": [
    "delete_subnet_by_name(subnet_name)"
   ]
  },
  {
   "cell_type": "code",
   "execution_count": null,
   "metadata": {},
   "outputs": [],
   "source": [
    "delete_network_by_name(network_name)"
   ]
  },
  {
   "cell_type": "markdown",
   "metadata": {},
   "source": [
    "#### Release Lease"
   ]
  },
  {
   "cell_type": "code",
   "execution_count": null,
   "metadata": {},
   "outputs": [],
   "source": [
    "delete_lease_by_name(lease_name)"
   ]
  },
  {
   "cell_type": "code",
   "execution_count": null,
   "metadata": {},
   "outputs": [],
   "source": []
  }
 ],
 "metadata": {
  "kernelspec": {
   "display_name": "Python 3",
   "language": "python",
   "name": "python3"
  },
  "language_info": {
   "codemirror_mode": {
    "name": "ipython",
    "version": 3
   },
   "file_extension": ".py",
   "mimetype": "text/x-python",
   "name": "python",
   "nbconvert_exporter": "python",
   "pygments_lexer": "ipython3",
   "version": "3.8.3"
  }
 },
 "nbformat": 4,
 "nbformat_minor": 4
}
