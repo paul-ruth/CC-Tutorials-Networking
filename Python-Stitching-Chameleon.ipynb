{
 "cells": [
  {
   "cell_type": "markdown",
   "metadata": {},
   "source": [
    "## Tutorial: "
   ]
  },
  {
   "cell_type": "markdown",
   "metadata": {},
   "source": [
    "#### Configure the Environment\n",
    "\n",
    "Import the chi example API calls, set the project name and region, and set various names and attributes to use in the tutorial. "
   ]
  },
  {
   "cell_type": "code",
   "execution_count": 1,
   "metadata": {},
   "outputs": [
    {
     "name": "stdout",
     "output_type": "stream",
     "text": [
      "Now using CHI@UC:\n",
      "URL: https://chi.uc.chameleoncloud.org\n",
      "Location: Argonne National Laboratory, Lemont, Illinois, USA\n",
      "Support contact: help@chameleoncloud.org\n"
     ]
    }
   ],
   "source": [
    "import json\n",
    "import os\n",
    "import chi\n",
    "\n",
    "from chi.server import *\n",
    "from chi.lease import *\n",
    "from chi.network import *\n",
    "\n",
    "from datetime import datetime, timedelta\n",
    "from dateutil import tz\n",
    "\n",
    "BLAZAR_TIME_FORMAT = '%Y-%m-%d %H:%M'\n",
    "VERBOSE=False  #Set to true for extra output\n",
    "\n",
    "#Config with your project and site\n",
    "chi.use_site('CHI@UC')\n",
    "chi.set('project_name', 'CH-822154')\n",
    "\n",
    "#Insert keypair name\n",
    "key_name = 'mac_chameleon_key'  # Change to your keypair\n",
    "\n",
    "#GENI Pem file\n",
    "geni_pem_file='/home/mwhicks2/work/geni-mwhick01.pem'\n",
    "\n",
    "# Tip: Name resources with your username for easier identification\n",
    "username = os.getenv(\"USER\")+'12'\n",
    "server_name = username+'Server'\n",
    "network_name = username+'Net'\n",
    "subnet_name = username+'subnet'\n",
    "router_name = username+'Router'\n",
    "lease_name = username+'Lease'\n",
    "\n",
    "#Server Config\n",
    "image_name='CC-CentOS7'\n",
    "flavor_name='baremetal'\n",
    "node_type=\"\"\n",
    "server_count=1\n",
    "\n",
    "#Network Config\n",
    "physical_network='exogeni'\n",
    "cidr='192.168.42.0/24'\n",
    "\n",
    "uc_allocation_start='192.168.42.101'\n",
    "uc_allocation_end='192.168.42.150'\n",
    "uc_gateway='192.168.42.100'\n",
    "tacc_allocation_start='192.168.42.201'\n",
    "tacc_allocation_end='192.168.42.250'\n",
    "tacc_gateway='192.168.42.200'"
   ]
  },
  {
   "cell_type": "markdown",
   "metadata": {},
   "source": [
    "## Create Chicago Network and Server"
   ]
  },
  {
   "cell_type": "markdown",
   "metadata": {},
   "source": [
    "#### Create a Lease at Chicago"
   ]
  },
  {
   "cell_type": "code",
   "execution_count": 2,
   "metadata": {},
   "outputs": [
    {
     "name": "stdout",
     "output_type": "stream",
     "text": [
      "Now using CHI@UC:\n",
      "URL: https://chi.uc.chameleoncloud.org\n",
      "Location: Argonne National Laboratory, Lemont, Illinois, USA\n",
      "Support contact: help@chameleoncloud.org\n"
     ]
    },
    {
     "data": {
      "text/plain": [
       "{'created_at': '2021-04-28 15:57:17',\n",
       " 'updated_at': '2021-04-28 15:57:24',\n",
       " 'id': 'fe94192b-6394-4fc8-aa55-6b0017feaa0b',\n",
       " 'name': 'mwhicks212Lease',\n",
       " 'user_id': '956cc2ceba48aa3093c77c40c5aff9c16c0ac5c54919989b4d0ac43e64762096',\n",
       " 'project_id': 'ae76673270164b048b59d3bd30676721',\n",
       " 'start_date': '2021-04-28T15:58:00.000000',\n",
       " 'end_date': '2021-04-29T15:57:00.000000',\n",
       " 'trust_id': 'cc147a25c6f348abb51b82883dbbe96c',\n",
       " 'status': 'PENDING',\n",
       " 'degraded': False,\n",
       " 'reservations': [{'created_at': '2021-04-28 15:57:23',\n",
       "   'updated_at': '2021-04-28 15:57:24',\n",
       "   'id': '6cc568b8-dc41-4f42-8bb4-d2bd9ff7e2cf',\n",
       "   'lease_id': 'fe94192b-6394-4fc8-aa55-6b0017feaa0b',\n",
       "   'resource_id': '9a291b92-a502-4d64-954d-e88077030dc8',\n",
       "   'resource_type': 'virtual:floatingip',\n",
       "   'status': 'pending',\n",
       "   'missing_resources': False,\n",
       "   'resources_changed': False,\n",
       "   'network_id': '44b38c44-2a42-4b6d-b129-6c8f1b2a1375',\n",
       "   'amount': 1,\n",
       "   'required_floatingips': []},\n",
       "  {'created_at': '2021-04-28 15:57:17',\n",
       "   'updated_at': '2021-04-28 15:57:23',\n",
       "   'id': '7f78fda7-fb88-4826-9042-46056aa823ba',\n",
       "   'lease_id': 'fe94192b-6394-4fc8-aa55-6b0017feaa0b',\n",
       "   'resource_id': '7d6c3998-377b-4784-914e-5cee56aec1e2',\n",
       "   'resource_type': 'physical:host',\n",
       "   'status': 'pending',\n",
       "   'missing_resources': False,\n",
       "   'resources_changed': False,\n",
       "   'hypervisor_properties': '',\n",
       "   'resource_properties': '[]',\n",
       "   'before_end': 'default',\n",
       "   'on_start': 'default',\n",
       "   'min': 1,\n",
       "   'max': 1},\n",
       "  {'created_at': '2021-04-28 15:57:23',\n",
       "   'updated_at': '2021-04-28 15:57:23',\n",
       "   'id': 'db9e6aa9-fbea-40b2-94bb-05cd3de30f30',\n",
       "   'lease_id': 'fe94192b-6394-4fc8-aa55-6b0017feaa0b',\n",
       "   'resource_id': 'f5d7dd5d-e7b2-4442-a798-eb0b26e405a3',\n",
       "   'resource_type': 'network',\n",
       "   'status': 'pending',\n",
       "   'missing_resources': False,\n",
       "   'resources_changed': False}],\n",
       " 'events': [{'created_at': '2021-04-28 15:57:24',\n",
       "   'updated_at': None,\n",
       "   'id': '4cb8ea0c-d029-4f8e-b73c-c7f20f3f2285',\n",
       "   'lease_id': 'fe94192b-6394-4fc8-aa55-6b0017feaa0b',\n",
       "   'event_type': 'before_end_lease',\n",
       "   'time': '2021-04-28T15:58:00.000000',\n",
       "   'status': 'UNDONE'},\n",
       "  {'created_at': '2021-04-28 15:57:24',\n",
       "   'updated_at': None,\n",
       "   'id': '8381b054-10ea-4979-8787-0acb4c3b729a',\n",
       "   'lease_id': 'fe94192b-6394-4fc8-aa55-6b0017feaa0b',\n",
       "   'event_type': 'end_lease',\n",
       "   'time': '2021-04-29T15:57:00.000000',\n",
       "   'status': 'UNDONE'},\n",
       "  {'created_at': '2021-04-28 15:57:24',\n",
       "   'updated_at': None,\n",
       "   'id': '9d4db5e1-e2bd-4da3-921d-c7a1b394ea15',\n",
       "   'lease_id': 'fe94192b-6394-4fc8-aa55-6b0017feaa0b',\n",
       "   'event_type': 'start_lease',\n",
       "   'time': '2021-04-28T15:58:00.000000',\n",
       "   'status': 'UNDONE'}]}"
      ]
     },
     "execution_count": 2,
     "metadata": {},
     "output_type": "execute_result"
    }
   ],
   "source": [
    "#Set the region\n",
    "chi.use_site('CHI@UC')    # Optional, defaults to 'CHI@UC'\n",
    "\n",
    "# Set start/end date for lease\n",
    "# Start one minute into future to avoid Blazar thinking lease is in past\n",
    "# due to rounding to closest minute.\n",
    "start_date = (datetime.now(tz=tz.tzutc()) + timedelta(minutes=1)).strftime(BLAZAR_TIME_FORMAT)\n",
    "end_date   = (datetime.now(tz=tz.tzutc()) + timedelta(days=1)).strftime(BLAZAR_TIME_FORMAT)\n",
    "\n",
    "# Build list of reservations (in this case there is only one reservation)\n",
    "reservation_list = []\n",
    "add_node_reservation(reservation_list, count=server_count, node_type=node_type)\n",
    "add_network_reservation(reservation_list, network_name=network_name, physical_network=physical_network)\n",
    "add_fip_reservation(reservation_list, count=1)\n",
    "\n",
    "# Create the lease\n",
    "chi.blazar().lease.create(name=lease_name, \n",
    "                            start=start_date,\n",
    "                            end=end_date,\n",
    "                            reservations=reservation_list, events=[])"
   ]
  },
  {
   "cell_type": "code",
   "execution_count": 3,
   "metadata": {},
   "outputs": [
    {
     "name": "stdout",
     "output_type": "stream",
     "text": [
      "uc_lease: mwhicks212Lease, fe94192b-6394-4fc8-aa55-6b0017feaa0b\n"
     ]
    }
   ],
   "source": [
    "#Get the lease by name\n",
    "uc_lease = get_lease(get_lease_id(lease_name))\n",
    "    \n",
    "#Print the lease info\n",
    "if VERBOSE:\n",
    "    print(json.dumps(uc_lease, indent=2))\n",
    "else:\n",
    "    print('uc_lease: ' + uc_lease['name'] + ', ' + uc_lease['id'])"
   ]
  },
  {
   "cell_type": "markdown",
   "metadata": {},
   "source": [
    "#### Get the Reservations\n",
    "\n",
    "Each lease contains one or more reservations. The individual reservation IDs are required to instantiate resources. You can [get the lease](../modules-python/reservations/get_lease_by_name.ipynb) and separate the reservation IDs for compute, network, and floating IPs using the technique below."
   ]
  },
  {
   "cell_type": "code",
   "execution_count": 4,
   "metadata": {},
   "outputs": [
    {
     "name": "stdout",
     "output_type": "stream",
     "text": [
      "uc_compute_reservation_id: 7f78fda7-fb88-4826-9042-46056aa823ba\n",
      "uc_network_reservation_id: db9e6aa9-fbea-40b2-94bb-05cd3de30f30\n",
      "uc_floatingip_reservation_id: 6cc568b8-dc41-4f42-8bb4-d2bd9ff7e2cf\n"
     ]
    }
   ],
   "source": [
    "#Get the lease by name\n",
    "uc_lease = get_lease(get_lease_id(lease_name))\n",
    "\n",
    "uc_compute_reservation_id = list(filter(lambda reservation: reservation['resource_type'] == 'physical:host', uc_lease['reservations']))[0]['id']\n",
    "uc_network_reservation_id = list(filter(lambda reservation: reservation['resource_type'] == 'network', uc_lease['reservations']))[0]['id']\n",
    "uc_floatingip_reservation_id = list(filter(lambda reservation: reservation['resource_type'] == 'virtual:floatingip', uc_lease['reservations']))[0]['id']\n",
    "\n",
    "print(\"uc_compute_reservation_id: \" + uc_compute_reservation_id)\n",
    "print(\"uc_network_reservation_id: \" + uc_network_reservation_id)\n",
    "print(\"uc_floatingip_reservation_id: \" + uc_floatingip_reservation_id)"
   ]
  },
  {
   "cell_type": "markdown",
   "metadata": {},
   "source": [
    "#### Get the Network\n",
    "\n",
    "Getting the network is not required for the remainder of the tutorial. However, it is a good test to see if your network reservation has become active. The [get_network_by_name](../modules-python/network/get_network_by_name.ipynb) call will fail if a network with that name does not yet exits. It will also fail if a network with the same name already exists (likely from a previous run of this notebook)."
   ]
  },
  {
   "cell_type": "code",
   "execution_count": 6,
   "metadata": {},
   "outputs": [
    {
     "name": "stdout",
     "output_type": "stream",
     "text": [
      "Now using CHI@UC:\n",
      "URL: https://chi.uc.chameleoncloud.org\n",
      "Location: Argonne National Laboratory, Lemont, Illinois, USA\n",
      "Support contact: help@chameleoncloud.org\n",
      "uc_network: mwhicks212Net, ea9236b1-032a-4990-8837-8e30f00cbebb\n",
      "uc segmenation ID/VLAN: 3295\n"
     ]
    }
   ],
   "source": [
    "chi.use_site('CHI@UC')    # Optional, defaults to 'CHI@UC'\n",
    "\n",
    "#Get the network\n",
    "uc_network = get_network(get_network_id(network_name))\n",
    "uc_network_id = uc_network['id']\n",
    "uc_network_vlan = uc_network['provider:segmentation_id']\n",
    "\n",
    "if VERBOSE:\n",
    "    print(json.dumps(uc_network, indent=2))\n",
    "else:\n",
    "    print('uc_network: ' + uc_network['name'] + ', ' + uc_network['id'])\n",
    "    print('uc segmenation ID/VLAN: ' + str(uc_network_vlan))"
   ]
  },
  {
   "cell_type": "markdown",
   "metadata": {},
   "source": [
    "#### Add a subnet\n",
    "\n",
    "[Adds a subnet](../modules-python/network/add_subnet.ipynb) to the reserved network. "
   ]
  },
  {
   "cell_type": "code",
   "execution_count": 7,
   "metadata": {},
   "outputs": [],
   "source": [
    "subnet = create_subnet(subnet_name, \n",
    "                       uc_network_id, \n",
    "                       cidr=cidr,\n",
    "                      allocation_pool_start=uc_allocation_start,\n",
    "                      allocation_pool_end=uc_allocation_end,\n",
    "                      gateway_ip=uc_gateway)\n",
    "\n",
    "\n",
    "\n",
    "#print(json.dumps(subnet, indent=2))"
   ]
  },
  {
   "cell_type": "code",
   "execution_count": 8,
   "metadata": {},
   "outputs": [
    {
     "name": "stdout",
     "output_type": "stream",
     "text": [
      "Subnet: mwhicks212subnet, 8e4ec2eb-e65d-4cb1-b986-9e6b77e51e24\n"
     ]
    }
   ],
   "source": [
    "if VERBOSE:\n",
    "    print(json.dumps(subnet, indent=2))\n",
    "else:\n",
    "    print('Subnet: ' + subnet['name'] + ', ' + subnet['id'])"
   ]
  },
  {
   "cell_type": "markdown",
   "metadata": {},
   "source": [
    "#### Add a Router\n",
    "\n",
    "TODO: add links here"
   ]
  },
  {
   "cell_type": "code",
   "execution_count": 9,
   "metadata": {},
   "outputs": [
    {
     "name": "stdout",
     "output_type": "stream",
     "text": [
      "Router: mwhicks212Router, 3e5031d5-331c-4a77-b579-7856c55803f2\n"
     ]
    }
   ],
   "source": [
    "router = create_router(router_name, gw_network_name='public')\n",
    "#print(json.dumps(router, indent=2))\n",
    "\n",
    "if VERBOSE:\n",
    "    print(json.dumps(router, indent=2))\n",
    "else:\n",
    "    print('Router: ' + router['name'] + ', ' + router['id'])"
   ]
  },
  {
   "cell_type": "markdown",
   "metadata": {},
   "source": [
    "#### Attach the Router and Subnet\n",
    "\n",
    "TODO: Add links here"
   ]
  },
  {
   "cell_type": "code",
   "execution_count": 10,
   "metadata": {},
   "outputs": [
    {
     "data": {
      "text/plain": [
       "{'network_id': 'ea9236b1-032a-4990-8837-8e30f00cbebb',\n",
       " 'tenant_id': 'ae76673270164b048b59d3bd30676721',\n",
       " 'subnet_id': '8e4ec2eb-e65d-4cb1-b986-9e6b77e51e24',\n",
       " 'subnet_ids': ['8e4ec2eb-e65d-4cb1-b986-9e6b77e51e24'],\n",
       " 'port_id': '0f201af7-a205-4a13-9925-588ef450bc2e',\n",
       " 'id': '3e5031d5-331c-4a77-b579-7856c55803f2'}"
      ]
     },
     "execution_count": 10,
     "metadata": {},
     "output_type": "execute_result"
    }
   ],
   "source": [
    "add_subnet_to_router(get_router_id(router_name), get_subnet_id(subnet_name))"
   ]
  },
  {
   "cell_type": "markdown",
   "metadata": {},
   "source": [
    "## Create TACC Network and Server"
   ]
  },
  {
   "cell_type": "markdown",
   "metadata": {},
   "source": [
    "#### Create a Lease at Chicago"
   ]
  },
  {
   "cell_type": "code",
   "execution_count": 11,
   "metadata": {},
   "outputs": [
    {
     "name": "stdout",
     "output_type": "stream",
     "text": [
      "Now using CHI@TACC:\n",
      "URL: https://chi.tacc.chameleoncloud.org\n",
      "Location: Austin, Texas, USA\n",
      "Support contact: help@chameleoncloud.org\n"
     ]
    },
    {
     "data": {
      "text/plain": [
       "{'created_at': '2021-04-28 16:04:14',\n",
       " 'updated_at': '2021-04-28 16:04:24',\n",
       " 'id': '05952c0a-dbc8-4cb0-aad3-1945c3cf0696',\n",
       " 'name': 'mwhicks212Lease',\n",
       " 'user_id': 'bb8689c345c1b4ca36a8ef7c0898b828722386b625db3f26c28d0ddbc3ace92d',\n",
       " 'project_id': 'a400724e818d40cbba1a5c6b5e714462',\n",
       " 'start_date': '2021-04-28T16:05:00.000000',\n",
       " 'end_date': '2021-04-29T16:04:00.000000',\n",
       " 'trust_id': '66a226b454dd4b7293c81c553280e43c',\n",
       " 'status': 'PENDING',\n",
       " 'degraded': False,\n",
       " 'reservations': [{'created_at': '2021-04-28 16:04:14',\n",
       "   'updated_at': '2021-04-28 16:04:23',\n",
       "   'id': '4ca4d249-579a-4afd-9206-b9135ca31d5c',\n",
       "   'lease_id': '05952c0a-dbc8-4cb0-aad3-1945c3cf0696',\n",
       "   'resource_id': '142ba35f-d03d-45a8-8f18-e8d8f8c00e0b',\n",
       "   'resource_type': 'physical:host',\n",
       "   'status': 'pending',\n",
       "   'missing_resources': False,\n",
       "   'resources_changed': False,\n",
       "   'hypervisor_properties': '',\n",
       "   'resource_properties': '[\"==\", \"$node_type\", \"compute_cascadelake\"]',\n",
       "   'before_end': 'default',\n",
       "   'on_start': 'default',\n",
       "   'min': 1,\n",
       "   'max': 1},\n",
       "  {'created_at': '2021-04-28 16:04:23',\n",
       "   'updated_at': '2021-04-28 16:04:23',\n",
       "   'id': 'c00abb03-034e-432f-9bb5-6c684d1ebdcc',\n",
       "   'lease_id': '05952c0a-dbc8-4cb0-aad3-1945c3cf0696',\n",
       "   'resource_id': '08ffb68d-ff0c-4243-8cdd-824b6162bd59',\n",
       "   'resource_type': 'network',\n",
       "   'status': 'pending',\n",
       "   'missing_resources': False,\n",
       "   'resources_changed': False},\n",
       "  {'created_at': '2021-04-28 16:04:23',\n",
       "   'updated_at': '2021-04-28 16:04:24',\n",
       "   'id': 'cf1c24a6-65ce-4f1f-a111-64fe130452ec',\n",
       "   'lease_id': '05952c0a-dbc8-4cb0-aad3-1945c3cf0696',\n",
       "   'resource_id': '512246e4-aee3-4d64-835f-b7e836193246',\n",
       "   'resource_type': 'virtual:floatingip',\n",
       "   'status': 'pending',\n",
       "   'missing_resources': False,\n",
       "   'resources_changed': False,\n",
       "   'network_id': '6189521e-06a0-4c43-b163-16cc11ce675b',\n",
       "   'amount': 1,\n",
       "   'required_floatingips': []}],\n",
       " 'events': [{'created_at': '2021-04-28 16:04:24',\n",
       "   'updated_at': None,\n",
       "   'id': 'c28a6cc6-024e-4527-8862-e4e8a589c2ba',\n",
       "   'lease_id': '05952c0a-dbc8-4cb0-aad3-1945c3cf0696',\n",
       "   'event_type': 'start_lease',\n",
       "   'time': '2021-04-28T16:05:00.000000',\n",
       "   'status': 'UNDONE'},\n",
       "  {'created_at': '2021-04-28 16:04:24',\n",
       "   'updated_at': None,\n",
       "   'id': 'd4c237a7-599d-4680-b4e5-3cb0a9e0cbc3',\n",
       "   'lease_id': '05952c0a-dbc8-4cb0-aad3-1945c3cf0696',\n",
       "   'event_type': 'before_end_lease',\n",
       "   'time': '2021-04-28T16:05:00.000000',\n",
       "   'status': 'UNDONE'},\n",
       "  {'created_at': '2021-04-28 16:04:24',\n",
       "   'updated_at': None,\n",
       "   'id': 'df41ea08-9c5e-417a-8a82-e8cee03cf923',\n",
       "   'lease_id': '05952c0a-dbc8-4cb0-aad3-1945c3cf0696',\n",
       "   'event_type': 'end_lease',\n",
       "   'time': '2021-04-29T16:04:00.000000',\n",
       "   'status': 'UNDONE'}]}"
      ]
     },
     "execution_count": 11,
     "metadata": {},
     "output_type": "execute_result"
    }
   ],
   "source": [
    "node_type=\"compute_cascadelake\"\n",
    "\n",
    "#Set the region\n",
    "chi.use_site('CHI@TACC')    # Optional, defaults to 'CHI@UC'\n",
    "\n",
    "# Set start/end date for lease\n",
    "# Start one minute into future to avoid Blazar thinking lease is in past\n",
    "# due to rounding to closest minute.\n",
    "start_date = (datetime.now(tz=tz.tzutc()) + timedelta(minutes=1)).strftime(BLAZAR_TIME_FORMAT)\n",
    "end_date   = (datetime.now(tz=tz.tzutc()) + timedelta(days=1)).strftime(BLAZAR_TIME_FORMAT)\n",
    "\n",
    "# Build list of reservations (in this case there is only one reservation)\n",
    "reservation_list = []\n",
    "add_node_reservation(reservation_list, count=server_count, node_type=node_type)\n",
    "add_network_reservation(reservation_list, network_name=network_name, physical_network=physical_network)\n",
    "add_fip_reservation(reservation_list, count=1)\n",
    "\n",
    "# Create the lease\n",
    "chi.blazar().lease.create(name=lease_name, \n",
    "                            start=start_date,\n",
    "                            end=end_date,\n",
    "                            reservations=reservation_list, events=[])"
   ]
  },
  {
   "cell_type": "code",
   "execution_count": 12,
   "metadata": {},
   "outputs": [
    {
     "name": "stdout",
     "output_type": "stream",
     "text": [
      "Now using CHI@TACC:\n",
      "URL: https://chi.tacc.chameleoncloud.org\n",
      "Location: Austin, Texas, USA\n",
      "Support contact: help@chameleoncloud.org\n",
      "tacc_lease: mwhicks212Lease, 05952c0a-dbc8-4cb0-aad3-1945c3cf0696\n"
     ]
    }
   ],
   "source": [
    "chi.use_site('CHI@TACC')\n",
    "\n",
    "#Get the lease by name\n",
    "tacc_lease = get_lease(get_lease_id(lease_name))\n",
    "    \n",
    "#Print the lease info\n",
    "if VERBOSE:\n",
    "    print(json.dumps(tacc_lease, indent=2))\n",
    "else:\n",
    "    print('tacc_lease: ' + tacc_lease['name'] + ', ' + tacc_lease['id'])"
   ]
  },
  {
   "cell_type": "markdown",
   "metadata": {},
   "source": [
    "#### Get the Reservations\n",
    "\n",
    "Each lease contains one or more reservations. The individual reservation IDs are required to instantiate resources. You can [get the lease](../modules-python/reservations/get_lease_by_name.ipynb) and separate the reservation IDs for compute, network, and floating IPs using the technique below."
   ]
  },
  {
   "cell_type": "code",
   "execution_count": 13,
   "metadata": {},
   "outputs": [
    {
     "name": "stdout",
     "output_type": "stream",
     "text": [
      "tacc_compute_reservation_id: 4ca4d249-579a-4afd-9206-b9135ca31d5c\n",
      "tacc_network_reservation_id: c00abb03-034e-432f-9bb5-6c684d1ebdcc\n",
      "tacc_floatingip_reservation_id: cf1c24a6-65ce-4f1f-a111-64fe130452ec\n"
     ]
    }
   ],
   "source": [
    "#Get the lease by name\n",
    "tacc_lease = get_lease(get_lease_id(lease_name))\n",
    "\n",
    "tacc_compute_reservation_id = list(filter(lambda reservation: reservation['resource_type'] == 'physical:host', tacc_lease['reservations']))[0]['id']\n",
    "tacc_network_reservation_id = list(filter(lambda reservation: reservation['resource_type'] == 'network', tacc_lease['reservations']))[0]['id']\n",
    "tacc_floatingip_reservation_id = list(filter(lambda reservation: reservation['resource_type'] == 'virtual:floatingip', tacc_lease['reservations']))[0]['id']\n",
    "\n",
    "print(\"tacc_compute_reservation_id: \" + tacc_compute_reservation_id)\n",
    "print(\"tacc_network_reservation_id: \" + tacc_network_reservation_id)\n",
    "print(\"tacc_floatingip_reservation_id: \" + tacc_floatingip_reservation_id)"
   ]
  },
  {
   "cell_type": "markdown",
   "metadata": {},
   "source": [
    "#### Get the Network\n",
    "\n",
    "Getting the network is not required for the remainder of the tutorial. However, it is a good test to see if your network reservation has become active. The [get_network_by_name](../modules-python/network/get_network_by_name.ipynb) call will fail if a network with that name does not yet exits. It will also fail if a network with the same name already exists (likely from a previous run of this notebook)."
   ]
  },
  {
   "cell_type": "code",
   "execution_count": 15,
   "metadata": {},
   "outputs": [
    {
     "name": "stdout",
     "output_type": "stream",
     "text": [
      "Now using CHI@TACC:\n",
      "URL: https://chi.tacc.chameleoncloud.org\n",
      "Location: Austin, Texas, USA\n",
      "Support contact: help@chameleoncloud.org\n",
      "tacc_network: mwhicks212Net, 43047100-fd19-4474-8724-cf3ca009daf3\n",
      "tacc segmenation ID/VLAN: 3509\n"
     ]
    }
   ],
   "source": [
    "chi.use_site('CHI@TACC')    # Optional, defaults to 'CHI@UC'\n",
    "\n",
    "#Get the network\n",
    "tacc_network = get_network(get_network_id(network_name))\n",
    "tacc_network_id = tacc_network['id']\n",
    "tacc_network_vlan = tacc_network['provider:segmentation_id']\n",
    "\n",
    "if VERBOSE:\n",
    "    print(json.dumps(tacc_network, indent=2))\n",
    "else:\n",
    "    print('tacc_network: ' + tacc_network['name'] + ', ' + tacc_network['id'])\n",
    "    print('tacc segmenation ID/VLAN: ' + str(tacc_network_vlan))"
   ]
  },
  {
   "cell_type": "markdown",
   "metadata": {},
   "source": [
    "#### Add a subnet\n",
    "\n",
    "[Adds a subnet](../modules-python/network/add_subnet.ipynb) to the reserved network. "
   ]
  },
  {
   "cell_type": "code",
   "execution_count": 16,
   "metadata": {},
   "outputs": [],
   "source": [
    "subnet = create_subnet(subnet_name, \n",
    "                       tacc_network_id, \n",
    "                       cidr=cidr, \n",
    "                      allocation_pool_start=tacc_allocation_start,\n",
    "                      allocation_pool_end=tacc_allocation_end,\n",
    "                      gateway_ip=tacc_gateway)\n",
    "\n",
    " \n",
    "\n",
    "#print(json.dumps(subnet, indent=2))"
   ]
  },
  {
   "cell_type": "code",
   "execution_count": 17,
   "metadata": {},
   "outputs": [
    {
     "name": "stdout",
     "output_type": "stream",
     "text": [
      "Subnet: mwhicks212subnet, 0eb92414-0a54-41e9-9384-2fcd8ea2b984\n"
     ]
    }
   ],
   "source": [
    "if VERBOSE:\n",
    "    print(json.dumps(subnet, indent=2))\n",
    "else:\n",
    "    print('Subnet: ' + subnet['name'] + ', ' + subnet['id'])"
   ]
  },
  {
   "cell_type": "markdown",
   "metadata": {},
   "source": [
    "#### Add a Router\n",
    "\n",
    "TODO: add links here"
   ]
  },
  {
   "cell_type": "code",
   "execution_count": 18,
   "metadata": {},
   "outputs": [
    {
     "name": "stdout",
     "output_type": "stream",
     "text": [
      "Router: mwhicks212Router, 9a1fb55f-c4b9-4069-8c5e-2a9c587ba10c\n"
     ]
    }
   ],
   "source": [
    "router = create_router(router_name, gw_network_name='public')\n",
    "#print(json.dumps(router, indent=2))\n",
    "\n",
    "if VERBOSE:\n",
    "    print(json.dumps(router, indent=2))\n",
    "else:\n",
    "    print('Router: ' + router['name'] + ', ' + router['id'])"
   ]
  },
  {
   "cell_type": "markdown",
   "metadata": {},
   "source": [
    "#### Attach the Router and Subnet\n",
    "\n",
    "TODO: Add links here"
   ]
  },
  {
   "cell_type": "code",
   "execution_count": 19,
   "metadata": {},
   "outputs": [
    {
     "data": {
      "text/plain": [
       "{'network_id': '43047100-fd19-4474-8724-cf3ca009daf3',\n",
       " 'tenant_id': 'a400724e818d40cbba1a5c6b5e714462',\n",
       " 'subnet_id': '0eb92414-0a54-41e9-9384-2fcd8ea2b984',\n",
       " 'subnet_ids': ['0eb92414-0a54-41e9-9384-2fcd8ea2b984'],\n",
       " 'port_id': 'f3d64b53-d973-4b77-9c69-bb0f432bd54d',\n",
       " 'id': '9a1fb55f-c4b9-4069-8c5e-2a9c587ba10c'}"
      ]
     },
     "execution_count": 19,
     "metadata": {},
     "output_type": "execute_result"
    }
   ],
   "source": [
    "add_subnet_to_router(get_router_id(router_name), get_subnet_id(subnet_name))"
   ]
  },
  {
   "cell_type": "markdown",
   "metadata": {},
   "source": [
    "## Start the Servers"
   ]
  },
  {
   "cell_type": "markdown",
   "metadata": {},
   "source": [
    "#### Start the UC Server\n",
    "\n",
    "Use the compute_reservation_id to [create the server](../modules-python/servers/create_server.ipynb)."
   ]
  },
  {
   "cell_type": "code",
   "execution_count": 20,
   "metadata": {},
   "outputs": [
    {
     "name": "stdout",
     "output_type": "stream",
     "text": [
      "Now using CHI@UC:\n",
      "URL: https://chi.uc.chameleoncloud.org\n",
      "Location: Argonne National Laboratory, Lemont, Illinois, USA\n",
      "Support contact: help@chameleoncloud.org\n"
     ]
    }
   ],
   "source": [
    "chi.use_site('CHI@UC')  \n",
    "#create the server\n",
    "server = create_server(server_name, \n",
    "                       reservation_id=uc_compute_reservation_id, \n",
    "                       key_name=key_name, \n",
    "                       network_name=network_name, \n",
    "                       image_name=image_name, \n",
    "                       flavor_name=flavor_name)\n"
   ]
  },
  {
   "cell_type": "markdown",
   "metadata": {},
   "source": [
    "#### Associate the Floating IP   \n",
    "TODO: need to find floating_ip from the reservation that was just made"
   ]
  },
  {
   "cell_type": "code",
   "execution_count": 23,
   "metadata": {},
   "outputs": [],
   "source": [
    "chi.use_site('CHI@UC')\n",
    "server_id = get_server_id(server_name)\n",
    "uc_floating_ip = associate_floating_ip(server_id)\n",
    "\n",
    "uc_fixed_ip = get_server(server_id).interface_list()[0].to_dict()[\"fixed_ips\"][0][\"ip_address\"]"
   ]
  },
  {
   "cell_type": "code",
   "execution_count": 27,
   "metadata": {},
   "outputs": [
    {
     "name": "stdout",
     "output_type": "stream",
     "text": [
      "Floating IP: 192.5.87.206\n",
      "Fixed IP: 192.168.42.140\n"
     ]
    }
   ],
   "source": [
    "print('Floating IP: ' + str(uc_floating_ip))\n",
    "print('Fixed IP: ' + str(uc_fixed_ip))"
   ]
  },
  {
   "cell_type": "markdown",
   "metadata": {},
   "source": [
    "#### Start the TACC Server\n",
    "\n",
    "Use the compute_reservation_id to [create the server](../modules-python/servers/create_server.ipynb)."
   ]
  },
  {
   "cell_type": "code",
   "execution_count": 24,
   "metadata": {},
   "outputs": [
    {
     "name": "stdout",
     "output_type": "stream",
     "text": [
      "Now using CHI@TACC:\n",
      "URL: https://chi.tacc.chameleoncloud.org\n",
      "Location: Austin, Texas, USA\n",
      "Support contact: help@chameleoncloud.org\n",
      "server_name mwhicks212Server\n",
      "tacc_compute_reservation_id 4ca4d249-579a-4afd-9206-b9135ca31d5c\n",
      "key_name mac_chameleon_key\n",
      "network_name mwhicks212Net\n",
      "image_name CC-CentOS7\n",
      "flavor_name baremetal\n"
     ]
    }
   ],
   "source": [
    "chi.use_site('CHI@TACC')\n",
    "\n",
    "print(\"server_name \" + server_name)\n",
    "print(\"tacc_compute_reservation_id \" + tacc_compute_reservation_id)\n",
    "print(\"key_name \" + key_name) \n",
    "print(\"network_name \" + network_name)\n",
    "print(\"image_name \" + image_name)\n",
    "print(\"flavor_name \" + flavor_name)\n",
    "\n",
    "#create the server\n",
    "server = create_server(server_name, \n",
    "                       reservation_id=tacc_compute_reservation_id, \n",
    "                       key_name=key_name, \n",
    "                       network_name=network_name, \n",
    "                       image_name=image_name, \n",
    "                       flavor_name=flavor_name)\n"
   ]
  },
  {
   "cell_type": "markdown",
   "metadata": {},
   "source": [
    "#### Associate the Floating IP   \n",
    "TODO: need to find floating_ip from the reservation that was just made"
   ]
  },
  {
   "cell_type": "code",
   "execution_count": 25,
   "metadata": {},
   "outputs": [],
   "source": [
    "chi.use_site('CHI@TACC')  \n",
    "\n",
    "server_id = get_server_id(server_name)\n",
    "tacc_floating_ip = associate_floating_ip(server_id)\n",
    "tacc_fixed_ip = get_server(server_id).interface_list()[0].to_dict()[\"fixed_ips\"][0][\"ip_address\"]"
   ]
  },
  {
   "cell_type": "code",
   "execution_count": 26,
   "metadata": {},
   "outputs": [
    {
     "name": "stdout",
     "output_type": "stream",
     "text": [
      "Floating IP: 129.114.108.43\n",
      "Fixed IP: 192.168.42.219\n"
     ]
    }
   ],
   "source": [
    "print('Floating IP: ' + str(tacc_floating_ip))\n",
    "print('Fixed IP: ' + str(tacc_fixed_ip))"
   ]
  },
  {
   "cell_type": "markdown",
   "metadata": {},
   "source": [
    "## Stitch the Circuit using ExoGENI\n",
    "\n",
    "Note: The ExoGENI\n",
    "steps require a valid GENI certificate at the path specified and a public/private keypair in ~/.ssh (run ssh-keygen with default inputs)"
   ]
  },
  {
   "cell_type": "markdown",
   "metadata": {},
   "source": [
    "#### Create the Circuit"
   ]
  },
  {
   "cell_type": "code",
   "execution_count": null,
   "metadata": {},
   "outputs": [],
   "source": [
    "%%script env uc_vlan=\"$uc_network_vlan\" tacc_vlan=\"$tacc_network_vlan\" geni_pem=\"$geni_pem_file\" bash\n",
    "\n",
    "echo 'uc_vlan ' $uc_vlan ', tacc_vlan ' $tacc_vlan ', geni_pem ' $geni_pem\n",
    "xoStitch create -sp1 uc -vlan1 $uc_vlan -sp2 tacc -vlan2 $tacc_vlan -c $geni_pem"
   ]
  },
  {
   "cell_type": "markdown",
   "metadata": {},
   "source": [
    "#### Check the Status of the Circuit"
   ]
  },
  {
   "cell_type": "code",
   "execution_count": null,
   "metadata": {},
   "outputs": [],
   "source": [
    "%%script env uc_vlan=\"$uc_network_vlan\" tacc_vlan=\"$tacc_network_vlan\" geni_pem=\"$geni_pem_file\" bash\n",
    "\n",
    "echo 'uc_vlan ' $uc_vlan ', tacc_vlan ' $tacc_vlan ', geni_pem ' $geni_pem\n",
    "xoStitch status -sp1 uc -vlan1 $uc_vlan -sp2 tacc -vlan2 $tacc_vlan -c $geni_pem"
   ]
  },
  {
   "cell_type": "markdown",
   "metadata": {},
   "source": [
    "## Access the Circuit"
   ]
  },
  {
   "cell_type": "markdown",
   "metadata": {},
   "source": [
    "#### Create scripts"
   ]
  },
  {
   "cell_type": "code",
   "execution_count": 38,
   "metadata": {},
   "outputs": [],
   "source": [
    "import paramiko\n",
    "\n",
    "uc_script = '#!/bin/bash'   '\\n' \\\n",
    "    'yum install vim iperf3 -y'   '\\n' \\\n",
    "    'iperf3 -s'   '\\n'\n",
    "tacc_script = '#!/bin/bash'   '\\n' \\\n",
    "    '{'   '\\n' \\\n",
    "    'yum install vim iperf3 -y'   '\\n' \\\n",
    "    'iperf3 -t 30 -i 5 -c '+uc_fixed_ip+   '\\n' \\\n",
    "    '} > /tmp/boot.log 2>&1'   '\\n' "
   ]
  },
  {
   "cell_type": "markdown",
   "metadata": {},
   "source": [
    "#### Wait TCP Accessible"
   ]
  },
  {
   "cell_type": "code",
   "execution_count": 39,
   "metadata": {},
   "outputs": [
    {
     "name": "stdout",
     "output_type": "stream",
     "text": [
      "done\n"
     ]
    }
   ],
   "source": [
    "client = paramiko.SSHClient()\n",
    "client.load_system_host_keys()\n",
    "client.set_missing_host_key_policy(paramiko.MissingHostKeyPolicy())\n",
    "\n",
    "# The time it takes for your server to be TCP-ready can vary greatly.\n",
    "# This function, chi.server.wait_for_tcp, halts your cell's progress until the IP is tcp-accessible on the SSH port.\n",
    "# The timeout is set to 45 minutes (60*45 seconds) due to greatly varying start-up times.\n",
    "wait_for_tcp(uc_floating_ip, '22', timeout=(60*45))\n",
    "wait_for_tcp(uc_floating_ip, '22', timeout=(60*45))\n",
    "print('done')\n",
    "\n",
    "uc_key_location = \"/home/mwhicks2/work/mac_chameleon_key_uc.pem\"\n",
    "tacc_key_location = \"/home/mwhicks2/work/mac_chameleon_key_tacc.pem\"\n",
    "\n",
    "uc_key = paramiko.RSAKey.from_private_key_file(uc_key_location)\n",
    "tacc_key = paramiko.RSAKey.from_private_key_file(tacc_key_location)"
   ]
  },
  {
   "cell_type": "markdown",
   "metadata": {},
   "source": [
    "#### Run UC Script"
   ]
  },
  {
   "cell_type": "code",
   "execution_count": 43,
   "metadata": {},
   "outputs": [
    {
     "data": {
      "text/plain": [
       "(<paramiko.ChannelFile from <paramiko.Channel 0 (open) window=2097152 -> <paramiko.Transport at 0x1b2ac6a0 (cipher aes128-ctr, 128 bits) (active; 1 open channel(s))>>>,\n",
       " <paramiko.ChannelFile from <paramiko.Channel 0 (open) window=2097152 -> <paramiko.Transport at 0x1b2ac6a0 (cipher aes128-ctr, 128 bits) (active; 1 open channel(s))>>>,\n",
       " <paramiko.ChannelFile from <paramiko.Channel 0 (open) window=2097152 -> <paramiko.Transport at 0x1b2ac6a0 (cipher aes128-ctr, 128 bits) (active; 1 open channel(s))>>>)"
      ]
     },
     "execution_count": 43,
     "metadata": {},
     "output_type": "execute_result"
    }
   ],
   "source": [
    "client.set_missing_host_key_policy(paramiko.AutoAddPolicy())\n",
    "client.connect(uc_floating_ip,username='cc',pkey = uc_key) # Sometimes this line may throw an error. Wait a few minutes and then try again!\n",
    "\n",
    "stdin, stdout, stderr = client.exec_command('echo \\\"' + uc_script + '\\\" > script.sh; chmod +x script.sh; sudo ./script.sh')"
   ]
  },
  {
   "cell_type": "markdown",
   "metadata": {},
   "source": [
    "#### Run TACC Script"
   ]
  },
  {
   "cell_type": "code",
   "execution_count": 44,
   "metadata": {},
   "outputs": [
    {
     "name": "stdout",
     "output_type": "stream",
     "text": [
      "b''\n",
      "b''\n"
     ]
    }
   ],
   "source": [
    "client.set_missing_host_key_policy(paramiko.AutoAddPolicy())\n",
    "client.connect(tacc_floating_ip,username='cc',pkey = tacc_key) # Sometimes this line may throw an error. Wait a few minutes and then try again!\n",
    "\n",
    "stdin, stdout, stderr = client.exec_command('echo \\\"' + tacc_script + '\\\" > script.sh; chmod +x script.sh; sudo ./script.sh')\n",
    "print (stdout.read())\n",
    "print (stderr.read())"
   ]
  },
  {
   "cell_type": "markdown",
   "metadata": {},
   "source": [
    "## Clean Up Resources"
   ]
  },
  {
   "cell_type": "markdown",
   "metadata": {},
   "source": [
    "#### Close Paramiko Client"
   ]
  },
  {
   "cell_type": "code",
   "execution_count": null,
   "metadata": {},
   "outputs": [],
   "source": [
    "client.close()"
   ]
  },
  {
   "cell_type": "markdown",
   "metadata": {},
   "source": [
    "### Delete Stitched Circuit using ExoGENI"
   ]
  },
  {
   "cell_type": "code",
   "execution_count": null,
   "metadata": {},
   "outputs": [],
   "source": [
    "%%script env uc_vlan=\"$uc_network_vlan\" tacc_vlan=\"$tacc_network_vlan\" geni_pem=\"$geni_pem_file\" bash\n",
    "\n",
    "echo 'uc_vlan ' $uc_vlan ', tacc_vlan ' $tacc_vlan ', geni_pem ' $geni_pem\n",
    "xoStitch delete -sp1 uc -vlan1 $uc_vlan -sp2 tacc -vlan2 $tacc_vlan -c $geni_pem"
   ]
  },
  {
   "cell_type": "markdown",
   "metadata": {},
   "source": [
    "### Delete TACC Resources\n",
    "\n",
    "[Delete the server](../modules-python/servers/delete_server.ipynb) using its name."
   ]
  },
  {
   "cell_type": "code",
   "execution_count": null,
   "metadata": {},
   "outputs": [],
   "source": [
    "chi.use_site('CHI@TACC')"
   ]
  },
  {
   "cell_type": "code",
   "execution_count": null,
   "metadata": {},
   "outputs": [],
   "source": [
    "delete_server(get_server_id(server_name))"
   ]
  },
  {
   "cell_type": "markdown",
   "metadata": {},
   "source": [
    "#### De-configure Network\n",
    "TODO: break up into steps"
   ]
  },
  {
   "cell_type": "code",
   "execution_count": null,
   "metadata": {},
   "outputs": [],
   "source": [
    "remove_subnet_from_router(router['id'], subnet['id'])"
   ]
  },
  {
   "cell_type": "code",
   "execution_count": null,
   "metadata": {},
   "outputs": [],
   "source": [
    "delete_router(router['id'])"
   ]
  },
  {
   "cell_type": "code",
   "execution_count": null,
   "metadata": {},
   "outputs": [],
   "source": [
    "delete_subnet(subnet['id'])"
   ]
  },
  {
   "cell_type": "code",
   "execution_count": null,
   "metadata": {},
   "outputs": [],
   "source": [
    "delete_network(tacc_network['id'])"
   ]
  },
  {
   "cell_type": "markdown",
   "metadata": {},
   "source": [
    "#### Release Lease"
   ]
  },
  {
   "cell_type": "code",
   "execution_count": null,
   "metadata": {},
   "outputs": [],
   "source": [
    "delete_lease(tacc_lease['id'])"
   ]
  },
  {
   "cell_type": "markdown",
   "metadata": {},
   "source": [
    "### Delete UC Resources\n",
    "\n",
    "[Delete the server](../modules-python/servers/delete_server.ipynb) using its name."
   ]
  },
  {
   "cell_type": "code",
   "execution_count": null,
   "metadata": {},
   "outputs": [],
   "source": [
    "chi.use_site('CHI@UC')"
   ]
  },
  {
   "cell_type": "code",
   "execution_count": null,
   "metadata": {},
   "outputs": [],
   "source": [
    "delete_server(get_server_id(server_name))"
   ]
  },
  {
   "cell_type": "markdown",
   "metadata": {},
   "source": [
    "#### De-configure Network\n",
    "TODO: break up into steps"
   ]
  },
  {
   "cell_type": "code",
   "execution_count": null,
   "metadata": {},
   "outputs": [],
   "source": [
    "remove_subnet_from_router(get_router_id(router_name), get_subnet_id(subnet_name))"
   ]
  },
  {
   "cell_type": "code",
   "execution_count": null,
   "metadata": {},
   "outputs": [],
   "source": [
    "delete_router(get_router_id(router_name))"
   ]
  },
  {
   "cell_type": "code",
   "execution_count": null,
   "metadata": {},
   "outputs": [],
   "source": [
    "delete_subnet(get_subnet_id(subnet_name))"
   ]
  },
  {
   "cell_type": "code",
   "execution_count": null,
   "metadata": {},
   "outputs": [],
   "source": [
    "delete_network(uc_network['id'])"
   ]
  },
  {
   "cell_type": "markdown",
   "metadata": {},
   "source": [
    "#### Release Lease"
   ]
  },
  {
   "cell_type": "code",
   "execution_count": null,
   "metadata": {},
   "outputs": [],
   "source": [
    "delete_lease(uc_lease['id'])"
   ]
  }
 ],
 "metadata": {
  "kernelspec": {
   "display_name": "Python 3",
   "language": "python",
   "name": "python3"
  },
  "language_info": {
   "codemirror_mode": {
    "name": "ipython",
    "version": 3
   },
   "file_extension": ".py",
   "mimetype": "text/x-python",
   "name": "python",
   "nbconvert_exporter": "python",
   "pygments_lexer": "ipython3",
   "version": "3.8.8"
  }
 },
 "nbformat": 4,
 "nbformat_minor": 4
}
