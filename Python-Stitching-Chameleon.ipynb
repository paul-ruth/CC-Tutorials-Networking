{
 "cells": [
  {
   "cell_type": "markdown",
   "metadata": {},
   "source": [
    "## Tutorial: "
   ]
  },
  {
   "cell_type": "markdown",
   "metadata": {},
   "source": [
    "#### Configure the Environment\n",
    "\n",
    "Import the chi example API calls, set the project name and region, and set various names and attributes to use in the tutorial. "
   ]
  },
  {
   "cell_type": "code",
   "execution_count": null,
   "metadata": {},
   "outputs": [],
   "source": [
    "import json\n",
    "import os\n",
    "import chi\n",
    "\n",
    "from chi.server import *\n",
    "from chi.lease import *\n",
    "from chi.network import *\n",
    "\n",
    "from datetime import datetime, timedelta\n",
    "from dateutil import tz\n",
    "\n",
    "BLAZAR_TIME_FORMAT = '%Y-%m-%d %H:%M'\n",
    "VERBOSE=False  #Set to true for extra output\n",
    "\n",
    "#Config with your project and sites\n",
    "chi.set('project_name', 'CH-XXXXXX')\n",
    "chi.use_site('CHI@UC')\n",
    "\n",
    "#Insert keypair name\n",
    "key_name = 'my_chameleon_key'  # Change to your keypair\n",
    "\n",
    "#GENI Pem file\n",
    "geni_pem_file='~/my_geni_file.pem'  # Change to your GENI file location\n",
    "\n",
    "# Tip: Name resources with your username for easier identification\n",
    "username = os.getenv(\"USER\")+'12'\n",
    "server_name = username+'Server'\n",
    "network_name = username+'Net'\n",
    "subnet_name = username+'subnet'\n",
    "router_name = username+'Router'\n",
    "lease_name = username+'Lease'\n",
    "\n",
    "#Server Config\n",
    "image_name='CC-CentOS7'\n",
    "flavor_name='baremetal'\n",
    "node_type=\"compute_haswell\"\n",
    "server_count=1\n",
    "\n",
    "#Network Config\n",
    "physical_network='exogeni'\n",
    "cidr='192.168.42.0/24'\n",
    "\n",
    "uc_allocation_start='192.168.42.101'\n",
    "uc_allocation_end='192.168.42.150'\n",
    "uc_gateway='192.168.42.100'\n",
    "tacc_allocation_start='192.168.42.201'\n",
    "tacc_allocation_end='192.168.42.250'\n",
    "tacc_gateway='192.168.42.200'"
   ]
  },
  {
   "cell_type": "markdown",
   "metadata": {},
   "source": [
    "## Create Chicago Network and Server"
   ]
  },
  {
   "cell_type": "markdown",
   "metadata": {},
   "source": [
    "#### Create a Lease at Chicago"
   ]
  },
  {
   "cell_type": "code",
   "execution_count": null,
   "metadata": {},
   "outputs": [],
   "source": [
    "#Set the region\n",
    "chi.use_site('CHI@UC')    # Optional, defaults to 'CHI@UC'\n",
    "\n",
    "# Set start/end date for lease\n",
    "# Start one minute into future to avoid Blazar thinking lease is in past\n",
    "# due to rounding to closest minute.\n",
    "start_date = (datetime.now(tz=tz.tzutc()) + timedelta(minutes=1)).strftime(BLAZAR_TIME_FORMAT)\n",
    "end_date   = (datetime.now(tz=tz.tzutc()) + timedelta(days=1)).strftime(BLAZAR_TIME_FORMAT)\n",
    "\n",
    "# Build list of reservations (in this case there is only one reservation)\n",
    "reservation_list = []\n",
    "add_node_reservation(reservation_list, count=server_count, node_type=node_type)\n",
    "add_network_reservation(reservation_list, network_name=network_name, physical_network=physical_network)\n",
    "add_fip_reservation(reservation_list, count=1)\n",
    "\n",
    "# Create the lease\n",
    "chi.blazar().lease.create(name=lease_name, \n",
    "                            start=start_date,\n",
    "                            end=end_date,\n",
    "                            reservations=reservation_list, events=[])"
   ]
  },
  {
   "cell_type": "code",
   "execution_count": null,
   "metadata": {},
   "outputs": [],
   "source": [
    "chi.use_site('CHI@UC')\n",
    "\n",
    "#Get the lease by name\n",
    "uc_lease = get_lease(get_lease_id(lease_name))\n",
    "    \n",
    "#Print the lease info\n",
    "if VERBOSE:\n",
    "    print(json.dumps(uc_lease, indent=2))\n",
    "else:\n",
    "    print('uc_lease: ' + uc_lease['name'] + ', ' + uc_lease['id'])"
   ]
  },
  {
   "cell_type": "markdown",
   "metadata": {},
   "source": [
    "#### Get the Reservations\n",
    "\n",
    "Each lease contains one or more reservations. The individual reservation IDs are required to instantiate resources. You can [get the lease](../modules-python/reservations/get_lease_by_name.ipynb) and separate the reservation IDs for compute, network, and floating IPs using the technique below."
   ]
  },
  {
   "cell_type": "code",
   "execution_count": null,
   "metadata": {},
   "outputs": [],
   "source": [
    "#Get the lease by name\n",
    "uc_lease = get_lease(get_lease_id(lease_name))\n",
    "\n",
    "uc_compute_reservation_id = list(filter(lambda reservation: reservation['resource_type'] == 'physical:host', uc_lease['reservations']))[0]['id']\n",
    "uc_network_reservation_id = list(filter(lambda reservation: reservation['resource_type'] == 'network', uc_lease['reservations']))[0]['id']\n",
    "uc_floatingip_reservation_id = list(filter(lambda reservation: reservation['resource_type'] == 'virtual:floatingip', uc_lease['reservations']))[0]['id']\n",
    "\n",
    "print(\"uc_compute_reservation_id: \" + uc_compute_reservation_id)\n",
    "print(\"uc_network_reservation_id: \" + uc_network_reservation_id)\n",
    "print(\"uc_floatingip_reservation_id: \" + uc_floatingip_reservation_id)"
   ]
  },
  {
   "cell_type": "markdown",
   "metadata": {},
   "source": [
    "#### Get the Network\n",
    "\n",
    "Getting the network is not required for the remainder of the tutorial. However, it is a good test to see if your network reservation has become active. The [get_network_by_name](../modules-python/network/get_network_by_name.ipynb) call will fail if a network with that name does not yet exits. It will also fail if a network with the same name already exists (likely from a previous run of this notebook)."
   ]
  },
  {
   "cell_type": "code",
   "execution_count": null,
   "metadata": {},
   "outputs": [],
   "source": [
    "#Get the network\n",
    "uc_network = get_network(get_network_id(network_name))\n",
    "uc_network_id = uc_network['id']\n",
    "uc_network_vlan = uc_network['provider:segmentation_id']\n",
    "\n",
    "if VERBOSE:\n",
    "    print(json.dumps(uc_network, indent=2))\n",
    "else:\n",
    "    print('uc_network: ' + uc_network['name'] + ', ' + uc_network['id'])\n",
    "    print('uc segmenation ID/VLAN: ' + str(uc_network_vlan))"
   ]
  },
  {
   "cell_type": "markdown",
   "metadata": {},
   "source": [
    "#### Add a subnet\n",
    "\n",
    "[Adds a subnet](../modules-python/network/add_subnet.ipynb) to the reserved network. "
   ]
  },
  {
   "cell_type": "code",
   "execution_count": null,
   "metadata": {},
   "outputs": [],
   "source": [
    "subnet = create_subnet(subnet_name, \n",
    "                       uc_network_id, \n",
    "                       cidr=cidr,\n",
    "                      allocation_pool_start=uc_allocation_start,\n",
    "                      allocation_pool_end=uc_allocation_end,\n",
    "                      gateway_ip=uc_gateway)\n",
    "\n",
    "\n",
    "\n",
    "#print(json.dumps(subnet, indent=2))"
   ]
  },
  {
   "cell_type": "code",
   "execution_count": null,
   "metadata": {},
   "outputs": [],
   "source": [
    "if VERBOSE:\n",
    "    print(json.dumps(subnet, indent=2))\n",
    "else:\n",
    "    print('Subnet: ' + subnet['name'] + ', ' + subnet['id'])"
   ]
  },
  {
   "cell_type": "markdown",
   "metadata": {},
   "source": [
    "#### Add a Router\n",
    "\n",
    "TODO: add links here"
   ]
  },
  {
   "cell_type": "code",
   "execution_count": null,
   "metadata": {},
   "outputs": [],
   "source": [
    "router = create_router(router_name, gw_network_name='public')\n",
    "#print(json.dumps(router, indent=2))\n",
    "\n",
    "if VERBOSE:\n",
    "    print(json.dumps(router, indent=2))\n",
    "else:\n",
    "    print('Router: ' + router['name'] + ', ' + router['id'])"
   ]
  },
  {
   "cell_type": "markdown",
   "metadata": {},
   "source": [
    "#### Attach the Router and Subnet\n",
    "\n",
    "TODO: Add links here"
   ]
  },
  {
   "cell_type": "code",
   "execution_count": null,
   "metadata": {},
   "outputs": [],
   "source": [
    "add_subnet_to_router(get_router_id(router_name), get_subnet_id(subnet_name))"
   ]
  },
  {
   "cell_type": "markdown",
   "metadata": {},
   "source": [
    "## Create TACC Network and Server"
   ]
  },
  {
   "cell_type": "markdown",
   "metadata": {},
   "source": [
    "#### Create a Lease at Chicago"
   ]
  },
  {
   "cell_type": "code",
   "execution_count": null,
   "metadata": {},
   "outputs": [],
   "source": [
    "node_type=\"compute_cascadelake\"\n",
    "\n",
    "#Set the region\n",
    "chi.use_site('CHI@TACC')    # Optional, defaults to 'CHI@UC'\n",
    "\n",
    "# Set start/end date for lease\n",
    "# Start one minute into future to avoid Blazar thinking lease is in past\n",
    "# due to rounding to closest minute.\n",
    "start_date = (datetime.now(tz=tz.tzutc()) + timedelta(minutes=1)).strftime(BLAZAR_TIME_FORMAT)\n",
    "end_date   = (datetime.now(tz=tz.tzutc()) + timedelta(days=1)).strftime(BLAZAR_TIME_FORMAT)\n",
    "\n",
    "# Build list of reservations (in this case there is only one reservation)\n",
    "reservation_list = []\n",
    "add_node_reservation(reservation_list, count=server_count, node_type=node_type)\n",
    "add_network_reservation(reservation_list, network_name=network_name, physical_network=physical_network)\n",
    "add_fip_reservation(reservation_list, count=1)\n",
    "\n",
    "# Create the lease\n",
    "chi.blazar().lease.create(name=lease_name, \n",
    "                            start=start_date,\n",
    "                            end=end_date,\n",
    "                            reservations=reservation_list, events=[])"
   ]
  },
  {
   "cell_type": "code",
   "execution_count": null,
   "metadata": {},
   "outputs": [],
   "source": [
    "chi.use_site('CHI@TACC')\n",
    "\n",
    "#Get the lease by name\n",
    "tacc_lease = get_lease(get_lease_id(lease_name))\n",
    "    \n",
    "#Print the lease info\n",
    "if VERBOSE:\n",
    "    print(json.dumps(tacc_lease, indent=2))\n",
    "else:\n",
    "    print('tacc_lease: ' + tacc_lease['name'] + ', ' + tacc_lease['id'])"
   ]
  },
  {
   "cell_type": "markdown",
   "metadata": {},
   "source": [
    "#### Get the Reservations\n",
    "\n",
    "Each lease contains one or more reservations. The individual reservation IDs are required to instantiate resources. You can [get the lease](../modules-python/reservations/get_lease_by_name.ipynb) and separate the reservation IDs for compute, network, and floating IPs using the technique below."
   ]
  },
  {
   "cell_type": "code",
   "execution_count": null,
   "metadata": {},
   "outputs": [],
   "source": [
    "#Get the lease by name\n",
    "tacc_lease = get_lease(get_lease_id(lease_name))\n",
    "\n",
    "tacc_compute_reservation_id = list(filter(lambda reservation: reservation['resource_type'] == 'physical:host', tacc_lease['reservations']))[0]['id']\n",
    "tacc_network_reservation_id = list(filter(lambda reservation: reservation['resource_type'] == 'network', tacc_lease['reservations']))[0]['id']\n",
    "tacc_floatingip_reservation_id = list(filter(lambda reservation: reservation['resource_type'] == 'virtual:floatingip', tacc_lease['reservations']))[0]['id']\n",
    "\n",
    "print(\"tacc_compute_reservation_id: \" + tacc_compute_reservation_id)\n",
    "print(\"tacc_network_reservation_id: \" + tacc_network_reservation_id)\n",
    "print(\"tacc_floatingip_reservation_id: \" + tacc_floatingip_reservation_id)"
   ]
  },
  {
   "cell_type": "markdown",
   "metadata": {},
   "source": [
    "#### Get the Network\n",
    "\n",
    "Getting the network is not required for the remainder of the tutorial. However, it is a good test to see if your network reservation has become active. The [get_network_by_name](../modules-python/network/get_network_by_name.ipynb) call will fail if a network with that name does not yet exits. It will also fail if a network with the same name already exists (likely from a previous run of this notebook)."
   ]
  },
  {
   "cell_type": "code",
   "execution_count": null,
   "metadata": {},
   "outputs": [],
   "source": [
    "chi.use_site('CHI@TACC')    # Optional, defaults to 'CHI@UC'\n",
    "\n",
    "#Get the network\n",
    "tacc_network = get_network(get_network_id(network_name))\n",
    "tacc_network_id = tacc_network['id']\n",
    "tacc_network_vlan = tacc_network['provider:segmentation_id']\n",
    "\n",
    "if VERBOSE:\n",
    "    print(json.dumps(tacc_network, indent=2))\n",
    "else:\n",
    "    print('tacc_network: ' + tacc_network['name'] + ', ' + tacc_network['id'])\n",
    "    print('tacc segmenation ID/VLAN: ' + str(tacc_network_vlan))"
   ]
  },
  {
   "cell_type": "markdown",
   "metadata": {},
   "source": [
    "#### Add a subnet\n",
    "\n",
    "[Adds a subnet](../modules-python/network/add_subnet.ipynb) to the reserved network. "
   ]
  },
  {
   "cell_type": "code",
   "execution_count": null,
   "metadata": {},
   "outputs": [],
   "source": [
    "subnet = create_subnet(subnet_name, \n",
    "                       tacc_network_id, \n",
    "                       cidr=cidr, \n",
    "                      allocation_pool_start=tacc_allocation_start,\n",
    "                      allocation_pool_end=tacc_allocation_end,\n",
    "                      gateway_ip=tacc_gateway)\n",
    "\n",
    " \n",
    "\n",
    "#print(json.dumps(subnet, indent=2))"
   ]
  },
  {
   "cell_type": "code",
   "execution_count": null,
   "metadata": {},
   "outputs": [],
   "source": [
    "if VERBOSE:\n",
    "    print(json.dumps(subnet, indent=2))\n",
    "else:\n",
    "    print('Subnet: ' + subnet['name'] + ', ' + subnet['id'])"
   ]
  },
  {
   "cell_type": "markdown",
   "metadata": {},
   "source": [
    "#### Add a Router\n",
    "\n",
    "TODO: add links here"
   ]
  },
  {
   "cell_type": "code",
   "execution_count": null,
   "metadata": {},
   "outputs": [],
   "source": [
    "router = create_router(router_name, gw_network_name='public')\n",
    "#print(json.dumps(router, indent=2))\n",
    "\n",
    "if VERBOSE:\n",
    "    print(json.dumps(router, indent=2))\n",
    "else:\n",
    "    print('Router: ' + router['name'] + ', ' + router['id'])"
   ]
  },
  {
   "cell_type": "markdown",
   "metadata": {},
   "source": [
    "#### Attach the Router and Subnet\n",
    "\n",
    "TODO: Add links here"
   ]
  },
  {
   "cell_type": "code",
   "execution_count": null,
   "metadata": {},
   "outputs": [],
   "source": [
    "add_subnet_to_router(get_router_id(router_name), get_subnet_id(subnet_name))"
   ]
  },
  {
   "cell_type": "markdown",
   "metadata": {},
   "source": [
    "## Start the Servers"
   ]
  },
  {
   "cell_type": "markdown",
   "metadata": {},
   "source": [
    "#### Start the UC Server\n",
    "\n",
    "Use the compute_reservation_id to [create the server](../modules-python/servers/create_server.ipynb)."
   ]
  },
  {
   "cell_type": "code",
   "execution_count": null,
   "metadata": {},
   "outputs": [],
   "source": [
    "chi.use_site('CHI@UC')  \n",
    "#create the server\n",
    "server = create_server(server_name, \n",
    "                       reservation_id=uc_compute_reservation_id, \n",
    "                       key_name=key_name, \n",
    "                       network_name=network_name, \n",
    "                       image_name=image_name, \n",
    "                       flavor_name=flavor_name)\n"
   ]
  },
  {
   "cell_type": "markdown",
   "metadata": {},
   "source": [
    "#### Associate the Floating IP   \n",
    "TODO: need to find floating_ip from the reservation that was just made"
   ]
  },
  {
   "cell_type": "code",
   "execution_count": null,
   "metadata": {},
   "outputs": [],
   "source": [
    "chi.use_site('CHI@UC')\n",
    "server_id = get_server_id(server_name)\n",
    "uc_floating_ip = associate_floating_ip(server_id)\n",
    "\n",
    "uc_fixed_ip = get_server(server_id).interface_list()[0].to_dict()[\"fixed_ips\"][0][\"ip_address\"]\n",
    "\n",
    "print('Floating IP: ' + str(uc_floating_ip))\n",
    "print('Fixed IP: ' + str(uc_fixed_ip))"
   ]
  },
  {
   "cell_type": "markdown",
   "metadata": {},
   "source": [
    "#### Start the TACC Server\n",
    "\n",
    "Use the compute_reservation_id to [create the server](../modules-python/servers/create_server.ipynb)."
   ]
  },
  {
   "cell_type": "code",
   "execution_count": null,
   "metadata": {},
   "outputs": [],
   "source": [
    "chi.use_site('CHI@TACC')\n",
    "\n",
    "print(\"server_name \" + server_name)\n",
    "print(\"tacc_compute_reservation_id \" + tacc_compute_reservation_id)\n",
    "print(\"key_name \" + key_name) \n",
    "print(\"network_name \" + network_name)\n",
    "print(\"image_name \" + image_name)\n",
    "print(\"flavor_name \" + flavor_name)\n",
    "\n",
    "#create the server\n",
    "server = create_server(server_name, \n",
    "                       reservation_id=tacc_compute_reservation_id, \n",
    "                       key_name=key_name, \n",
    "                       network_name=network_name, \n",
    "                       image_name=image_name, \n",
    "                       flavor_name=flavor_name)\n"
   ]
  },
  {
   "cell_type": "markdown",
   "metadata": {},
   "source": [
    "#### Associate the Floating IP   \n",
    "TODO: need to find floating_ip from the reservation that was just made"
   ]
  },
  {
   "cell_type": "code",
   "execution_count": null,
   "metadata": {},
   "outputs": [],
   "source": [
    "chi.use_site('CHI@TACC')  \n",
    "\n",
    "server_id = get_server_id(server_name)\n",
    "tacc_floating_ip = associate_floating_ip(server_id)\n",
    "tacc_fixed_ip = get_server(server_id).interface_list()[0].to_dict()[\"fixed_ips\"][0][\"ip_address\"]\n",
    "\n",
    "print('Floating IP: ' + str(tacc_floating_ip))\n",
    "print('Fixed IP: ' + str(tacc_fixed_ip))"
   ]
  },
  {
   "cell_type": "markdown",
   "metadata": {},
   "source": [
    "## Stitch the Circuit using ExoGENI\n",
    "\n",
    "Note: The ExoGENI\n",
    "steps require a valid GENI certificate at the path specified and a public/private keypair in ~/.ssh (run ssh-keygen with default inputs)"
   ]
  },
  {
   "cell_type": "markdown",
   "metadata": {},
   "source": [
    "#### Create the Circuit"
   ]
  },
  {
   "cell_type": "code",
   "execution_count": null,
   "metadata": {},
   "outputs": [],
   "source": [
    "%%script env uc_vlan=\"$uc_network_vlan\" tacc_vlan=\"$tacc_network_vlan\" geni_pem=\"$geni_pem_file\" bash\n",
    "\n",
    "echo 'uc_vlan ' $uc_vlan ', tacc_vlan ' $tacc_vlan ', geni_pem ' $geni_pem\n",
    "xoStitch create -sp1 uc -vlan1 $uc_vlan -sp2 tacc -vlan2 $tacc_vlan -c $geni_pem"
   ]
  },
  {
   "cell_type": "markdown",
   "metadata": {},
   "source": [
    "#### Check the Status of the Circuit"
   ]
  },
  {
   "cell_type": "code",
   "execution_count": null,
   "metadata": {},
   "outputs": [],
   "source": [
    "%%script env uc_vlan=\"$uc_network_vlan\" tacc_vlan=\"$tacc_network_vlan\" geni_pem=\"$geni_pem_file\" bash\n",
    "\n",
    "echo 'uc_vlan ' $uc_vlan ', tacc_vlan ' $tacc_vlan ', geni_pem ' $geni_pem\n",
    "xoStitch status -sp1 uc -vlan1 $uc_vlan -sp2 tacc -vlan2 $tacc_vlan -c $geni_pem"
   ]
  },
  {
   "cell_type": "markdown",
   "metadata": {},
   "source": [
    "## Access the Circuit"
   ]
  },
  {
   "cell_type": "markdown",
   "metadata": {},
   "source": [
    "#### Create scripts"
   ]
  },
  {
   "cell_type": "code",
   "execution_count": null,
   "metadata": {},
   "outputs": [],
   "source": [
    "import paramiko\n",
    "\n",
    "# This script installs vim and iperf3 onto our UC node and runs an iperf3 server as a Daemon.\n",
    "# vim is a text editor used by bash.\n",
    "# iperf3 is a host-tuning tool that allows us to observe data transfer between servers. The iperf server running out of UC will be accessed by our iperf command on TACC node.\n",
    "# As a Daemon, this server will run in the background until we manually disable it. This is necessary for us to be able to access the server on our TACC node.\n",
    "uc_script = '#!/bin/bash'   '\\n' \\\n",
    "    'yum install vim iperf3 -y'   '\\n' \\\n",
    "    'iperf3 -s -D'   '\\n'\n",
    "\n",
    "# This script manually kills our iperf3 Daemon server which we will have launched previously.\n",
    "uc_script_cleanup = '#!/bin/bash'   '\\n' \\\n",
    "    'pkill iperf'   '\\n'\n",
    "\n",
    "# This script installs vim and iperf3 onto our TACC node, like above, and connects to the iperf3 server we will have set up on UC to get information on data transfers.\n",
    "tacc_script = '#!/bin/bash'   '\\n' \\\n",
    "    'yum install vim iperf3 -y'   '\\n' \\\n",
    "    'iperf3 -t 30 -i 5 -c '+uc_fixed_ip+   '\\n'"
   ]
  },
  {
   "cell_type": "markdown",
   "metadata": {},
   "source": [
    "#### Wait TCP Accessible"
   ]
  },
  {
   "cell_type": "code",
   "execution_count": null,
   "metadata": {},
   "outputs": [],
   "source": [
    "client = paramiko.SSHClient()\n",
    "client.load_system_host_keys()\n",
    "client.set_missing_host_key_policy(paramiko.MissingHostKeyPolicy())\n",
    "\n",
    "# The time it takes for your server to be TCP-ready can vary greatly.\n",
    "# This function, chi.server.wait_for_tcp, halts your cell's progress until the IP is tcp-accessible on the SSH port.\n",
    "# The timeout is set to 45 minutes (60*45 seconds) due to greatly varying start-up times.\n",
    "wait_for_tcp(uc_floating_ip, '22', timeout=(60*45))\n",
    "print('UC accessible')\n",
    "wait_for_tcp(tacc_floating_ip, '22', timeout=(60*45))\n",
    "print('TACC accessible')\n",
    "\n",
    "uc_key_location = \"~/my_chameleon_key_uc.pem\"  # Change to your UC key location\n",
    "tacc_key_location = \"~/my_chameleon_key_uc.pem\"  # Change to your TACC key location\n",
    "\n",
    "uc_key = paramiko.RSAKey.from_private_key_file(uc_key_location)\n",
    "tacc_key = paramiko.RSAKey.from_private_key_file(tacc_key_location)"
   ]
  },
  {
   "cell_type": "markdown",
   "metadata": {},
   "source": [
    "#### Run UC Script"
   ]
  },
  {
   "cell_type": "code",
   "execution_count": null,
   "metadata": {},
   "outputs": [],
   "source": [
    "client.set_missing_host_key_policy(paramiko.MissingHostKeyPolicy())\n",
    "client.connect(uc_floating_ip,username='cc',pkey = uc_key) # Sometimes this line may throw an error. Wait a few minutes and then try again!\n",
    "\n",
    "stdin_uc, stdout_uc, stderr_uc = client.exec_command('echo \\\"' + uc_script + '\\\" > script.sh; chmod +x script.sh; sudo ./script.sh')"
   ]
  },
  {
   "cell_type": "markdown",
   "metadata": {},
   "source": [
    "#### Run TACC Script"
   ]
  },
  {
   "cell_type": "code",
   "execution_count": null,
   "metadata": {},
   "outputs": [],
   "source": [
    "client.set_missing_host_key_policy(paramiko.MissingHostKeyPolicy())\n",
    "client.connect(tacc_floating_ip,username='cc',pkey = tacc_key) # Sometimes this line may throw an error. Wait a few minutes and then try again!\n",
    "\n",
    "stdin_tacc, stdout_tacc, stderr_tacc = client.exec_command('echo \\\"' + tacc_script + '\\\" > script.sh; chmod +x script.sh; sudo ./script.sh')\n",
    "print (stdout_tacc.read().decode())\n",
    "print (stderr_tacc.read().decode())"
   ]
  },
  {
   "cell_type": "markdown",
   "metadata": {},
   "source": [
    "#### Close Paramiko Client"
   ]
  },
  {
   "cell_type": "code",
   "execution_count": null,
   "metadata": {},
   "outputs": [],
   "source": [
    "client.set_missing_host_key_policy(paramiko.MissingHostKeyPolicy())\n",
    "client.connect(uc_floating_ip,username='cc',pkey = uc_key) # Sometimes this line may throw an error. Wait a few minutes and then try again!\n",
    "\n",
    "stdin, stdout, stderr = client.exec_command('echo \\\"' + uc_script_cleanup + '\\\" > script.sh; chmod +x script.sh; sudo ./script.sh')\n",
    "\n",
    "client.close()"
   ]
  },
  {
   "cell_type": "markdown",
   "metadata": {},
   "source": [
    "## Tuning"
   ]
  },
  {
   "cell_type": "markdown",
   "metadata": {},
   "source": [
    "On your first run of iperf3, the results are not impressive. The nodes that we have set up have network cards supporting bandwidth up to 10 Gbits/sec. By modifying some network settings in our nodes, we can approach bandwidth capacity.\n",
    "\n",
    "TCP buffers are buffers on each side of a transfer connection that hold data before it is transfered - and when this buffer fills up, the recieving node will alert the sending node that it cannot send any more data until this cache is cleared. The Linux TCP buffers automatically set by our nodes' OSes are too small to utilize our bandwidth capabilities. We can modify these manually using the cells below. \n",
    "\n",
    "These cells establish a `host_tuning` variable with which we want to update our nodes. Updating our nodes with these settings will increase the size of the TCP buffer on each side (sending and recieving) of the transfer, alongside other subtle changes. "
   ]
  },
  {
   "cell_type": "code",
   "execution_count": null,
   "metadata": {},
   "outputs": [],
   "source": [
    "host_tuning = '# allow testing with buffers up to 64MB'   '\\n' \\\n",
    "    'net.core.rmem_max = 67108864'   '\\n' \\\n",
    "    'net.core.wmem_max = 67108864'   '\\n' \\\n",
    "    '# increase Linux autotuning TCP buffer limit to 32MB'   '\\n' \\\n",
    "    'net.ipv4.tcp_rmem = 4096 87380 33554432'   '\\n' \\\n",
    "    'net.ipv4.tcp_wmem = 4096 65536 33554432'   '\\n' \\\n",
    "    '# recommended default congestion control is htcp'   '\\n' \\\n",
    "    'net.ipv4.tcp_congestion_control=htcp'   '\\n' \\\n",
    "    '# recommended for hosts with jumbo frames enabled'   '\\n' \\\n",
    "    'net.ipv4.tcp_mtu_probing=1'   '\\n' \\\n",
    "    '# recommended to enable \"fair queueing\"'   '\\n' \\\n",
    "    'net.core.default_qdisc = fq'"
   ]
  },
  {
   "cell_type": "code",
   "execution_count": null,
   "metadata": {},
   "outputs": [],
   "source": [
    "host_tuning = '# allow testing with buffers up to 128MB'   '\\n' \\\n",
    "    'net.core.rmem_max = 134217728'   '\\n' \\\n",
    "    'net.core.wmem_max = 134217728'   '\\n' \\\n",
    "    '# increase Linux autotuning TCP buffer limit to 64MB'   '\\n' \\\n",
    "    'net.ipv4.tcp_rmem = 4096 87380 67108864'   '\\n' \\\n",
    "    'net.ipv4.tcp_wmem = 4096 65536 67108864'   '\\n' \\\n",
    "    '# recommended default congestion control is htcp'   '\\n' \\\n",
    "    'net.ipv4.tcp_congestion_control=htcp'   '\\n' \\\n",
    "    '# recommended for hosts with jumbo frames enabled'   '\\n' \\\n",
    "    'net.ipv4.tcp_mtu_probing=1'   '\\n' \\\n",
    "    '# recommended to enable fair queueing'   '\\n' \\\n",
    "    'net.core.default_qdisc = fq'"
   ]
  },
  {
   "cell_type": "markdown",
   "metadata": {},
   "source": [
    "Running this cell will update both of your nodes with your `host_tuning` variable's settings. Keep in mind that both variables have the same name, so whichever one of the above cells you ran last is the one whose settings will be used on running the below cell.\n",
    "\n",
    "After running the below cell, feel free to go back above and re-run your iperf3 cells in order to observer the changes."
   ]
  },
  {
   "cell_type": "code",
   "execution_count": null,
   "metadata": {},
   "outputs": [],
   "source": [
    "host_tuning_script = '#!/bin/bash'   '\\n' \\\n",
    "    'sudo sh -c \\'echo -e \"' + host_tuning + '\" > /etc/sysctl.conf\\''   '\\n' \\\n",
    "    'sudo sysctl --system'\n",
    "\n",
    "client = paramiko.SSHClient()\n",
    "client.load_system_host_keys()\n",
    "\n",
    "client.set_missing_host_key_policy(paramiko.MissingHostKeyPolicy())\n",
    "client.connect(uc_floating_ip,username='cc',pkey = uc_key) # Sometimes this line may throw an error. Wait a few minutes and then try again!\n",
    "\n",
    "stdin_uc, stdout_uc, stderr_uc = client.exec_command(host_tuning_script)\n",
    "\n",
    "client.set_missing_host_key_policy(paramiko.MissingHostKeyPolicy())\n",
    "client.connect(tacc_floating_ip,username='cc',pkey = tacc_key) # Sometimes this line may throw an error. Wait a few minutes and then try again!\n",
    "\n",
    "stdin_tacc, stdout_tacc, stderr_tacc = client.exec_command(host_tuning_script)\n",
    "print (stdout_tacc.read().decode())\n",
    "print (stderr_tacc.read().decode())\n",
    "\n",
    "client.close()"
   ]
  },
  {
   "cell_type": "markdown",
   "metadata": {},
   "source": [
    "### Modify scripts\n",
    "\n",
    "Now that our TCP buffer size has been increased, we can up the TCP window size in our data transfer. TCP window size is a measurement of how much data the recieving end of our data transfer will accept at any given size, and is restricted by the TCP buffer size. By default, the TCP window size is set to approximately 64 kilobytes. By rewriting our TACC script with the `-w` tag, we can alter the window size directly. This script uses 64 megabits -- 8000 kilobytes, or 125x the size.\n",
    "\n",
    "After running updating this script, go ahead and run your iperf3 test again. Your bandwidth should now be much closer to 10 Gbits/sec."
   ]
  },
  {
   "cell_type": "code",
   "execution_count": null,
   "metadata": {},
   "outputs": [],
   "source": [
    "# Something something window size yeah\n",
    "tacc_script = '#!/bin/bash'   '\\n' \\\n",
    "    'yum install vim iperf3 -y'   '\\n' \\\n",
    "    'iperf3 -t 30 -i 5 -c '+uc_fixed_ip+' -w 64m'   '\\n'"
   ]
  },
  {
   "cell_type": "markdown",
   "metadata": {},
   "source": [
    "## Clean Up Resources"
   ]
  },
  {
   "cell_type": "markdown",
   "metadata": {},
   "source": [
    "### Delete Stitched Circuit using ExoGENI"
   ]
  },
  {
   "cell_type": "code",
   "execution_count": null,
   "metadata": {},
   "outputs": [],
   "source": [
    "%%script env uc_vlan=\"$uc_network_vlan\" tacc_vlan=\"$tacc_network_vlan\" geni_pem=\"$geni_pem_file\" bash\n",
    "\n",
    "echo 'uc_vlan ' $uc_vlan ', tacc_vlan ' $tacc_vlan ', geni_pem ' $geni_pem\n",
    "xoStitch delete -sp1 uc -vlan1 $uc_vlan -sp2 tacc -vlan2 $tacc_vlan -c $geni_pem"
   ]
  },
  {
   "cell_type": "markdown",
   "metadata": {},
   "source": [
    "### Delete TACC Resources\n",
    "\n",
    "[Delete the server](../modules-python/servers/delete_server.ipynb) using its name."
   ]
  },
  {
   "cell_type": "code",
   "execution_count": null,
   "metadata": {},
   "outputs": [],
   "source": [
    "chi.use_site('CHI@TACC')"
   ]
  },
  {
   "cell_type": "code",
   "execution_count": null,
   "metadata": {},
   "outputs": [],
   "source": [
    "delete_server(get_server_id(server_name))"
   ]
  },
  {
   "cell_type": "markdown",
   "metadata": {},
   "source": [
    "#### De-configure Network\n",
    "TODO: break up into steps"
   ]
  },
  {
   "cell_type": "code",
   "execution_count": null,
   "metadata": {},
   "outputs": [],
   "source": [
    "remove_subnet_from_router(router['id'], subnet['id'])"
   ]
  },
  {
   "cell_type": "code",
   "execution_count": null,
   "metadata": {},
   "outputs": [],
   "source": [
    "delete_router(router['id'])"
   ]
  },
  {
   "cell_type": "code",
   "execution_count": null,
   "metadata": {},
   "outputs": [],
   "source": [
    "delete_subnet(subnet['id'])"
   ]
  },
  {
   "cell_type": "code",
   "execution_count": null,
   "metadata": {},
   "outputs": [],
   "source": [
    "delete_network(tacc_network['id'])"
   ]
  },
  {
   "cell_type": "markdown",
   "metadata": {},
   "source": [
    "#### Release Lease"
   ]
  },
  {
   "cell_type": "code",
   "execution_count": null,
   "metadata": {},
   "outputs": [],
   "source": [
    "delete_lease(tacc_lease['id'])"
   ]
  },
  {
   "cell_type": "markdown",
   "metadata": {},
   "source": [
    "### Delete UC Resources\n",
    "\n",
    "[Delete the server](../modules-python/servers/delete_server.ipynb) using its name."
   ]
  },
  {
   "cell_type": "code",
   "execution_count": null,
   "metadata": {},
   "outputs": [],
   "source": [
    "chi.use_site('CHI@UC')"
   ]
  },
  {
   "cell_type": "code",
   "execution_count": null,
   "metadata": {},
   "outputs": [],
   "source": [
    "delete_server(get_server_id(server_name))"
   ]
  },
  {
   "cell_type": "markdown",
   "metadata": {},
   "source": [
    "#### De-configure Network\n",
    "TODO: break up into steps"
   ]
  },
  {
   "cell_type": "code",
   "execution_count": null,
   "metadata": {},
   "outputs": [],
   "source": [
    "remove_subnet_from_router(get_router_id(router_name), get_subnet_id(subnet_name))"
   ]
  },
  {
   "cell_type": "code",
   "execution_count": null,
   "metadata": {},
   "outputs": [],
   "source": [
    "delete_router(get_router_id(router_name))"
   ]
  },
  {
   "cell_type": "code",
   "execution_count": null,
   "metadata": {},
   "outputs": [],
   "source": [
    "delete_subnet(get_subnet_id(subnet_name))"
   ]
  },
  {
   "cell_type": "code",
   "execution_count": null,
   "metadata": {},
   "outputs": [],
   "source": [
    "delete_network(uc_network['id'])"
   ]
  },
  {
   "cell_type": "markdown",
   "metadata": {},
   "source": [
    "#### Release Lease"
   ]
  },
  {
   "cell_type": "code",
   "execution_count": null,
   "metadata": {},
   "outputs": [],
   "source": [
    "delete_lease(uc_lease['id'])"
   ]
  }
 ],
 "metadata": {
  "kernelspec": {
   "display_name": "Python 3",
   "language": "python",
   "name": "python3"
  },
  "language_info": {
   "codemirror_mode": {
    "name": "ipython",
    "version": 3
   },
   "file_extension": ".py",
   "mimetype": "text/x-python",
   "name": "python",
   "nbconvert_exporter": "python",
   "pygments_lexer": "ipython3",
   "version": "3.8.8"
  }
 },
 "nbformat": 4,
 "nbformat_minor": 4
}
