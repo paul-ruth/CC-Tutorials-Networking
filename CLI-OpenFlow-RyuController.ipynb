{
 "cells": [
  {
   "cell_type": "markdown",
   "metadata": {},
   "source": [
    "# Create a Ryu OpenFlow Controller"
   ]
  },
  {
   "cell_type": "markdown",
   "metadata": {},
   "source": [
    "#### Configure the Environment"
   ]
  },
  {
   "cell_type": "code",
   "execution_count": null,
   "metadata": {},
   "outputs": [],
   "source": [
    "# Set project and region.\n",
    "export OS_REGION_NAME=CHI@UC\n",
    "export OS_PROJECT_NAME=CH-822154\n",
    "\n",
    "# Define networking variables.\n",
    "NODE_TYPE=compute_haswell\n",
    "KEYPAIR_NAME=\"my_chameleon_key\"\n",
    "KEYPAIR_LOCATION=\"/home/\"${USER}\"/work/exercises/\"${KEYPAIR_NAME}\".pem\" # \n",
    "LEASE_NAME=\"${USER}RyuControllerLease\"\n",
    "SERVER_NAME=\"${USER}RyuController\""
   ]
  },
  {
   "cell_type": "markdown",
   "metadata": {},
   "source": [
    "#### Create Lease"
   ]
  },
  {
   "cell_type": "code",
   "execution_count": null,
   "metadata": {},
   "outputs": [],
   "source": [
    "# Obtain public network id.\n",
    "PUBLIC_NETWORK_ID=$(openstack network show public -f value -c id)\n",
    "\n",
    "# Reserve a node and a floating IP on public network.\n",
    "blazar lease-create \\\n",
    "  --physical-reservation min=1,max=1,resource_properties=\"[\\\"=\\\", \\\"\\$node_type\\\", \\\"$NODE_TYPE\\\"]\" \\\n",
    "  --reservation \"resource_type=virtual:floatingip,network_id=$PUBLIC_NETWORK_ID,amount=1\" \\\n",
    "  --start-date \"$(date +'%Y-%m-%d %H:%M' -d'+1 minute')\" \\\n",
    "  --end-date \"$(date +'%Y-%m-%d %H:%M' -d'+1 day')\" \\\n",
    "  \"$LEASE_NAME\""
   ]
  },
  {
   "cell_type": "markdown",
   "metadata": {},
   "source": [
    "#### Start the Server"
   ]
  },
  {
   "cell_type": "code",
   "execution_count": null,
   "metadata": {},
   "outputs": [],
   "source": [
    "# Create a new server using your reservation\n",
    "openstack server create --max-width 80 \\\n",
    "                        --key-name $KEYPAIR_NAME \\\n",
    "                        $(lease_server_create_default_args \"$LEASE_NAME\") \\\n",
    "                        $SERVER_NAME"
   ]
  },
  {
   "cell_type": "markdown",
   "metadata": {},
   "source": [
    "#### Associate the Floating IP"
   ]
  },
  {
   "cell_type": "code",
   "execution_count": null,
   "metadata": {},
   "outputs": [],
   "source": [
    "# Find the unused floating IP you reserved\n",
    "FLOATING_IP=$(lease_list_floating_ips \"$LEASE_NAME\" | head -n1)\n",
    "\n",
    "# Add your floating IP to your server\n",
    "openstack server add floating ip \"$SERVER_NAME\" \"$FLOATING_IP\" \\\n",
    "  && echo \"Attached floating ip $FLOATING_IP!\""
   ]
  },
  {
   "cell_type": "markdown",
   "metadata": {},
   "source": [
    "#### Run Script\n",
    "\n",
    "This script observes your node using TCP access."
   ]
  },
  {
   "cell_type": "code",
   "execution_count": null,
   "metadata": {},
   "outputs": [],
   "source": [
    "RYU_APP='simple_switch_13_custom_chameleon.py'\n",
    "RYU_PORT='6653'\n",
    "MIRROR_PORT=''\n",
    "\n",
    "{   \n",
    "yum install -y yum-utils device-mapper-persistent-data lvm2 vim   \n",
    "yum-config-manager --add-repo https://download.docker.com/linux/centos/docker-ce.repo   \n",
    "yum install -y docker-ce   \n",
    "systemctl start docker   \n",
    "   \n",
    "RECIPE_REPO=\\\"https://github.com/RENCI-NRIG/exogeni-recipes.git\\\"   \n",
    "RECIPE_DIR=\\\"/opt/exogeni-recipes\\\"   \n",
    "RECIPE_APP=\\\"openflow-controller/docker\\\"   \n",
    "DOCKER_IMAGE=\\\"centos-ryu\\\"   \n",
    "DOCKER_CONTAINER_NAME=\\\"ryu-controller\\\"   \n",
    "OFP_TCP_LISTEN_PORT=\\\"6653\\\"   \n",
    "RYU_APP=\\\"/opt/ryu_app/simple_switch_13_custom_chameleon.py\\\"   \n",
    "MIRROR_PORT=''\n",
    "   \n",
    "git clone  --no-checkout \\${RECIPE_REPO} \\${RECIPE_DIR}   \n",
    "cd \\${RECIPE_DIR} && git config core.sparsecheckout true   \n",
    "echo \\\"\\${RECIPE_APP}/*\\\" >> .git/info/sparse-checkout   \n",
    "git read-tree -m -u HEAD   \n",
    "   \n",
    "cd \\${RECIPE_DIR}/\\${RECIPE_APP}   \n",
    "docker volume create var_run_ryu   \n",
    "docker volume create var_log_ryu   \n",
    "docker volume create opt_ryu   \n",
    "docker volume create opt_ryu_chameleon   \n",
    "\"sed -r -i \\s/^(RYU_APP=.*)/#\\1/g\\ ryu_start.sh\"   \n",
    "\"sed -r -i \\s/^(OFP_TCP_LISTEN_PORT=.*)/#\\1/g\\ ryu_start.sh\"   \n",
    "   \n",
    "docker build -t \\${DOCKER_IMAGE} .   \n",
    "   \n",
    "docker run --rm -dit -p \\${OFP_TCP_LISTEN_PORT}:\\${OFP_TCP_LISTEN_PORT} -p 8080:8080 -v opt_ryu_chameleon:/opt/ryu_chameleon -v opt_ryu:/opt/ryu -v var_log_ryu:/var/log/ryu -v var_run_ryu:/var/run/ryu -e RYU_APP=\\${RYU_APP} -e OFP_TCP_LISTEN_PORT=\\${OFP_TCP_LISTEN_PORT}  --name=\\${DOCKER_CONTAINER_NAME} \\${DOCKER_IMAGE}   \n",
    "   \n",
    "echo done   \n",
    "   \n",
    "} > /tmp/boot.log 2>&1\n",
    "\n",
    "cat /tmp/boot.log"
   ]
  },
  {
   "cell_type": "markdown",
   "metadata": {},
   "source": [
    "#### Clean up"
   ]
  },
  {
   "cell_type": "code",
   "execution_count": null,
   "metadata": {},
   "outputs": [],
   "source": [
    "openstack server delete $SERVER_NAME\n",
    "blazar lease-delete $LEASE_NAME"
   ]
  }
 ],
 "metadata": {
  "kernelspec": {
   "display_name": "Bash",
   "language": "bash",
   "name": "bash"
  },
  "language_info": {
   "codemirror_mode": "shell",
   "file_extension": ".sh",
   "mimetype": "text/x-sh",
   "name": "bash"
  }
 },
 "nbformat": 4,
 "nbformat_minor": 4
}
