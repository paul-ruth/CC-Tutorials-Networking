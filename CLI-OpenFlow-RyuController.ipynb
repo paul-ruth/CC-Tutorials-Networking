{
 "cells": [
  {
   "cell_type": "markdown",
   "metadata": {},
   "source": [
    "# Create a Ryu OpenFlow Controller"
   ]
  },
  {
   "cell_type": "markdown",
   "metadata": {},
   "source": [
    "#### Configure the Environment"
   ]
  },
  {
   "cell_type": "code",
   "execution_count": 1,
   "metadata": {},
   "outputs": [],
   "source": [
    "# Set project and region.\n",
    "export OS_REGION_NAME=CHI@UC\n",
    "export OS_PROJECT_NAME=CH-822154\n",
    "\n",
    "# Define networking variables.\n",
    "NODE_TYPE=compute_haswell\n",
    "KEYPAIR_NAME=\"my_chameleon_key\"\n",
    "KEYPAIR_LOCATION=\"/home/\"${USER}\"/work/\"${KEYPAIR_NAME}\".pem\" # \n",
    "LEASE_NAME=\"${USER}RyuControllerLease\"\n",
    "SERVER_NAME=\"${USER}RyuController\""
   ]
  },
  {
   "cell_type": "markdown",
   "metadata": {},
   "source": [
    "#### Create Lease"
   ]
  },
  {
   "cell_type": "code",
   "execution_count": 2,
   "metadata": {},
   "outputs": [
    {
     "name": "stdout",
     "output_type": "stream",
     "text": [
      "Matches: ('min=1,max=1', 'resource_properties', '[\"=\", \"$node_type\", \"compute_haswell\"]')\n",
      "Matches: ('min=1', 'max', '1')\n",
      "Matches: (None, 'min', '1')\n",
      "Matches: ('resource_type=virtual:floatingip,network_id=44b38c44-2a42-4b6d-b129-6c8f1b2a1375', 'amount', '1')\n",
      "Matches: ('resource_type=virtual:floatingip', 'network_id', '44b38c44-2a42-4b6d-b129-6c8f1b2a1375')\n",
      "Matches: (None, 'resource_type', 'virtual:floatingip')\n",
      "Created a new lease:\n",
      "+--------------+----------------------------------------------------------------------------+\n",
      "| Field        | Value                                                                      |\n",
      "+--------------+----------------------------------------------------------------------------+\n",
      "| created_at   | 2021-03-09 23:40:52                                                        |\n",
      "| degraded     | False                                                                      |\n",
      "| end_date     | 2021-03-10T23:40:00.000000                                                 |\n",
      "| events       | {                                                                          |\n",
      "|              |     \"status\": \"UNDONE\",                                                    |\n",
      "|              |     \"lease_id\": \"108bee60-5c50-4393-9aa1-97a5cc9f61c0\",                    |\n",
      "|              |     \"event_type\": \"start_lease\",                                           |\n",
      "|              |     \"created_at\": \"2021-03-09 23:41:00\",                                   |\n",
      "|              |     \"updated_at\": null,                                                    |\n",
      "|              |     \"time\": \"2021-03-09T23:41:00.000000\",                                  |\n",
      "|              |     \"id\": \"671b95f7-4569-4f94-905f-d69aa7e94db4\"                           |\n",
      "|              | }                                                                          |\n",
      "|              | {                                                                          |\n",
      "|              |     \"status\": \"UNDONE\",                                                    |\n",
      "|              |     \"lease_id\": \"108bee60-5c50-4393-9aa1-97a5cc9f61c0\",                    |\n",
      "|              |     \"event_type\": \"end_lease\",                                             |\n",
      "|              |     \"created_at\": \"2021-03-09 23:41:00\",                                   |\n",
      "|              |     \"updated_at\": null,                                                    |\n",
      "|              |     \"time\": \"2021-03-10T23:40:00.000000\",                                  |\n",
      "|              |     \"id\": \"78b06e59-f81c-4ad7-a530-483b010084fa\"                           |\n",
      "|              | }                                                                          |\n",
      "|              | {                                                                          |\n",
      "|              |     \"status\": \"UNDONE\",                                                    |\n",
      "|              |     \"lease_id\": \"108bee60-5c50-4393-9aa1-97a5cc9f61c0\",                    |\n",
      "|              |     \"event_type\": \"before_end_lease\",                                      |\n",
      "|              |     \"created_at\": \"2021-03-09 23:41:00\",                                   |\n",
      "|              |     \"updated_at\": null,                                                    |\n",
      "|              |     \"time\": \"2021-03-09T23:41:00.000000\",                                  |\n",
      "|              |     \"id\": \"d1c051a5-2986-4599-aeb3-9ad15b6ff6e7\"                           |\n",
      "|              | }                                                                          |\n",
      "| id           | 108bee60-5c50-4393-9aa1-97a5cc9f61c0                                       |\n",
      "| name         | mwhicks2RyuControllerLease                                                 |\n",
      "| project_id   | ae76673270164b048b59d3bd30676721                                           |\n",
      "| reservations | {                                                                          |\n",
      "|              |     \"status\": \"pending\",                                                   |\n",
      "|              |     \"before_end\": \"default\",                                               |\n",
      "|              |     \"lease_id\": \"108bee60-5c50-4393-9aa1-97a5cc9f61c0\",                    |\n",
      "|              |     \"resource_id\": \"722ed28e-c189-40e9-a382-12c434b0a531\",                 |\n",
      "|              |     \"max\": 1,                                                              |\n",
      "|              |     \"created_at\": \"2021-03-09 23:40:52\",                                   |\n",
      "|              |     \"min\": 1,                                                              |\n",
      "|              |     \"updated_at\": \"2021-03-09 23:40:59\",                                   |\n",
      "|              |     \"missing_resources\": false,                                            |\n",
      "|              |     \"hypervisor_properties\": \"\",                                           |\n",
      "|              |     \"on_start\": \"default\",                                                 |\n",
      "|              |     \"resource_properties\": \"[\\\"=\\\", \\\"$node_type\\\", \\\"compute_haswell\\\"]\", |\n",
      "|              |     \"id\": \"89324af4-8890-4f3d-89e7-362e3285f53b\",                          |\n",
      "|              |     \"resource_type\": \"physical:host\",                                      |\n",
      "|              |     \"resources_changed\": false                                             |\n",
      "|              | }                                                                          |\n",
      "|              | {                                                                          |\n",
      "|              |     \"status\": \"pending\",                                                   |\n",
      "|              |     \"lease_id\": \"108bee60-5c50-4393-9aa1-97a5cc9f61c0\",                    |\n",
      "|              |     \"resource_id\": \"06e98a01-b316-46d2-b07e-bc09454d6d05\",                 |\n",
      "|              |     \"network_id\": \"44b38c44-2a42-4b6d-b129-6c8f1b2a1375\",                  |\n",
      "|              |     \"created_at\": \"2021-03-09 23:40:59\",                                   |\n",
      "|              |     \"updated_at\": \"2021-03-09 23:41:00\",                                   |\n",
      "|              |     \"required_floatingips\": [],                                            |\n",
      "|              |     \"missing_resources\": false,                                            |\n",
      "|              |     \"amount\": 1,                                                           |\n",
      "|              |     \"id\": \"b5b77163-9c51-4c24-8e5a-0b7ffdf53b4a\",                          |\n",
      "|              |     \"resource_type\": \"virtual:floatingip\",                                 |\n",
      "|              |     \"resources_changed\": false                                             |\n",
      "|              | }                                                                          |\n",
      "| start_date   | 2021-03-09T23:41:00.000000                                                 |\n",
      "| status       | PENDING                                                                    |\n",
      "| trust_id     | f23ee78976bd48f3b59bd871d9f3a9a3                                           |\n",
      "| updated_at   | 2021-03-09 23:41:00                                                        |\n",
      "| user_id      | 956cc2ceba48aa3093c77c40c5aff9c16c0ac5c54919989b4d0ac43e64762096           |\n",
      "+--------------+----------------------------------------------------------------------------+\n",
      "\u001b[0m"
     ]
    }
   ],
   "source": [
    "# Obtain public network id.\n",
    "PUBLIC_NETWORK_ID=$(openstack network show public -f value -c id)\n",
    "\n",
    "# Reserve a node and a floating IP on public network.\n",
    "blazar lease-create \\\n",
    "  --physical-reservation min=1,max=1,resource_properties=\"[\\\"=\\\", \\\"\\$node_type\\\", \\\"$NODE_TYPE\\\"]\" \\\n",
    "  --reservation \"resource_type=virtual:floatingip,network_id=$PUBLIC_NETWORK_ID,amount=1\" \\\n",
    "  --start-date \"$(date +'%Y-%m-%d %H:%M' -d'+1 minute')\" \\\n",
    "  --end-date \"$(date +'%Y-%m-%d %H:%M' -d'+1 day')\" \\\n",
    "  \"$LEASE_NAME\""
   ]
  },
  {
   "cell_type": "markdown",
   "metadata": {},
   "source": [
    "#### Start the Server"
   ]
  },
  {
   "cell_type": "code",
   "execution_count": 4,
   "metadata": {},
   "outputs": [
    {
     "name": "stdout",
     "output_type": "stream",
     "text": [
      "+-------------------------------------+----------------------------------------+\n",
      "| Field                               | Value                                  |\n",
      "+-------------------------------------+----------------------------------------+\n",
      "| OS-DCF:diskConfig                   | MANUAL                                 |\n",
      "| OS-EXT-AZ:availability_zone         |                                        |\n",
      "| OS-EXT-SRV-ATTR:host                | None                                   |\n",
      "| OS-EXT-SRV-ATTR:hypervisor_hostname | None                                   |\n",
      "| OS-EXT-SRV-ATTR:instance_name       |                                        |\n",
      "| OS-EXT-STS:power_state              | NOSTATE                                |\n",
      "| OS-EXT-STS:task_state               | scheduling                             |\n",
      "| OS-EXT-STS:vm_state                 | building                               |\n",
      "| OS-SRV-USG:launched_at              | None                                   |\n",
      "| OS-SRV-USG:terminated_at            | None                                   |\n",
      "| accessIPv4                          |                                        |\n",
      "| accessIPv6                          |                                        |\n",
      "| addresses                           |                                        |\n",
      "| adminPass                           | Fj9awHe3Vf2T                           |\n",
      "| config_drive                        |                                        |\n",
      "| created                             | 2021-03-09T23:41:35Z                   |\n",
      "| flavor                              | baremetal (baremetal)                  |\n",
      "| hostId                              |                                        |\n",
      "| id                                  | f54ea4ea-9821-41df-b968-996eb855c13b   |\n",
      "| image                               | CC-CentOS7                             |\n",
      "|                                     | (bc126937-9e06-44cb-95c2-a2450694ca37) |\n",
      "| key_name                            | my_chameleon_key                       |\n",
      "| name                                | mwhicks2RyuController                  |\n",
      "| progress                            | 0                                      |\n",
      "| project_id                          | ae76673270164b048b59d3bd30676721       |\n",
      "| properties                          |                                        |\n",
      "| security_groups                     | name='default'                         |\n",
      "| status                              | BUILD                                  |\n",
      "| updated                             | 2021-03-09T23:41:35Z                   |\n",
      "| user_id                             | 956cc2ceba48aa3093c77c40c5aff9c16c0ac5 |\n",
      "|                                     | c54919989b4d0ac43e64762096             |\n",
      "| volumes_attached                    |                                        |\n",
      "+-------------------------------------+----------------------------------------+\n",
      "\u001b[0m"
     ]
    }
   ],
   "source": [
    "# Create a new server using your reservation\n",
    "openstack server create --max-width 80 \\\n",
    "                        --key-name $KEYPAIR_NAME \\\n",
    "                        $(lease_server_create_default_args \"$LEASE_NAME\") \\\n",
    "                        $SERVER_NAME"
   ]
  },
  {
   "cell_type": "markdown",
   "metadata": {},
   "source": [
    "#### Associate the Floating IP"
   ]
  },
  {
   "cell_type": "code",
   "execution_count": 5,
   "metadata": {},
   "outputs": [
    {
     "name": "stdout",
     "output_type": "stream",
     "text": [
      "\u001b[0mAttached floating ip 192.5.87.223!\n"
     ]
    }
   ],
   "source": [
    "# Find the unused floating IP you reserved\n",
    "FLOATING_IP=$(lease_list_floating_ips \"$LEASE_NAME\" | head -n1)\n",
    "\n",
    "# Add your floating IP to your server\n",
    "openstack server add floating ip \"$SERVER_NAME\" \"$FLOATING_IP\" \\\n",
    "  && echo \"Attached floating ip $FLOATING_IP!\""
   ]
  },
  {
   "cell_type": "markdown",
   "metadata": {},
   "source": [
    "#### Run Script\n",
    "\n",
    "This script observes your node using TCP access."
   ]
  },
  {
   "cell_type": "code",
   "execution_count": 6,
   "metadata": {},
   "outputs": [],
   "source": [
    "SCRIPT_FILE='script.sh'\n",
    "\n",
    "cat >$SCRIPT_FILE <<EOF\n",
    "#!/bin/bash\n",
    "            {\n",
    "            set -e -u -o pipefail\n",
    "\n",
    "            RECIPE_REPO=\"https://github.com/RENCI-NRIG/exogeni-recipes.git\"\n",
    "            RECIPE_DIR=\"/opt/exogeni-recipes\"\n",
    "            RECIPE_APP=\"openflow-controller/docker\"\n",
    "            DOCKER_IMAGE=\"centos-ryu\"\n",
    "            DOCKER_CONTAINER_NAME=\"ryu-controller\"\n",
    "            OFP_TCP_LISTEN_PORT=\"6653\"\n",
    "            RYU_APP=\"/opt/ryu_app/simple_switch_13_custom_chameleon.py\"\n",
    "            MIRROR_PORT=\"10000\"\n",
    "\n",
    "            yum install -y yum-utils device-mapper-persistent-data lvm2 vim\n",
    "\n",
    "            echo \"Installing Docker ...\"\n",
    "            yum-config-manager --add-repo https://download.docker.com/linux/centos/docker-ce.repo\n",
    "            yum install -y docker-ce\n",
    "            systemctl start docker\n",
    "\n",
    "            echo \"Configuring Ryu controller ...\"\n",
    "            git clone  --no-checkout \\$RECIPE_REPO \\$RECIPE_DIR\n",
    "            cd \\$RECIPE_DIR && git config core.sparsecheckout true\n",
    "            echo \"\\$RECIPE_APP/*\" >> .git/info/sparse-checkout\n",
    "            git read-tree -m -u HEAD\n",
    "            pushd \\${RECIPE_DIR}/\\${RECIPE_APP}\n",
    "            sed -r -i 's/^(RYU_APP=.*)/#\\1/g' ryu_start.sh\n",
    "            sed -r -i 's/^(OFP_TCP_LISTEN_PORT=.*)/#\\1/g' ryu_start.sh\n",
    "\n",
    "            echo \"Building Ryu controller image ...\"\n",
    "            docker build -t \\${DOCKER_IMAGE} .\n",
    "\n",
    "            echo \"Starting Ryu controller ...\"\n",
    "            docker run --rm -dit \\\n",
    "              -p \\$OFP_TCP_LISTEN_PORT:\\$OFP_TCP_LISTEN_PORT -p 8080:8080 \\\n",
    "              -v opt_ryu_chameleon:/opt/ryu_chameleon \\\n",
    "              -v opt_ryu:/opt/ryu \\\n",
    "              -v var_log_ryu:/var/log/ryu \\\n",
    "              -v var_run_ryu:/var/run/ryu \\\n",
    "              -e RYU_APP=\\$RYU_APP -e OFP_TCP_LISTEN_PORT=\\$OFP_TCP_LISTEN_PORT \\\n",
    "              --name=\\$DOCKER_CONTAINER_NAME \\\n",
    "              \\$DOCKER_IMAGE\n",
    "\n",
    "            echo \"Opening OF controller port ...\"\n",
    "            ufw allow \\$OFP_TCP_LISTEN_PORT\n",
    "\n",
    "            echo \"Done.\"\n",
    "            } > /tmp/boot.log 2>&1\n",
    "EOF"
   ]
  },
  {
   "cell_type": "code",
   "execution_count": 7,
   "metadata": {},
   "outputs": [
    {
     "name": "stdout",
     "output_type": "stream",
     "text": [
      "Warning: Permanently added '192.5.87.223' (ECDSA) to the list of known hosts.\n",
      "script.sh                                     100% 1940     1.2MB/s   00:00    \n",
      "Warning: Permanently added '192.5.87.223' (ECDSA) to the list of known hosts.\n",
      "Connection to 192.5.87.223 closed.\n"
     ]
    }
   ],
   "source": [
    "#Copy the host file to the server\n",
    "scp -o \"UserKnownHostsFile=/dev/null\" \\\n",
    "    -o \"StrictHostKeyChecking=no\" \\\n",
    "    -i $KEYPAIR_LOCATION \\\n",
    "    $SCRIPT_FILE cc@${FLOATING_IP}:.\n",
    "\n",
    "#Append the file to the server /etc/host file\n",
    "ssh -t \\\n",
    "    -o \"UserKnownHostsFile=/dev/null\" \\\n",
    "    -o \"StrictHostKeyChecking=no\" \\\n",
    "    -i $KEYPAIR_LOCATION \\\n",
    "    cc@${FLOATING_IP} \\\n",
    "    \"sudo sh -c 'chmod +x $SCRIPT_FILE && ./$SCRIPT_FILE'\""
   ]
  },
  {
   "cell_type": "markdown",
   "metadata": {},
   "source": [
    "#### Clean up"
   ]
  },
  {
   "cell_type": "code",
   "execution_count": null,
   "metadata": {},
   "outputs": [],
   "source": [
    "openstack server delete $SERVER_NAME\n",
    "blazar lease-delete $LEASE_NAME"
   ]
  }
 ],
 "metadata": {
  "kernelspec": {
   "display_name": "Bash",
   "language": "bash",
   "name": "bash"
  },
  "language_info": {
   "codemirror_mode": "shell",
   "file_extension": ".sh",
   "mimetype": "text/x-sh",
   "name": "bash"
  }
 },
 "nbformat": 4,
 "nbformat_minor": 4
}
